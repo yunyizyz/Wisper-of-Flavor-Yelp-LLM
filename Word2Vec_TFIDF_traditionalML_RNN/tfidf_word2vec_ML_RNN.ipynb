{
  "cells": [
    {
      "cell_type": "markdown",
      "source": [
        "# TF-IDF"
      ],
      "metadata": {
        "id": "7h0BCRPfIVoQ"
      }
    },
    {
      "cell_type": "code",
      "source": [
        "import time\n",
        "\n",
        "# Record the start time\n",
        "start_time = time.time()"
      ],
      "metadata": {
        "id": "BwuU50UGRA2h"
      },
      "execution_count": null,
      "outputs": []
    },
    {
      "cell_type": "code",
      "source": [
        "import pandas as pd\n",
        "import numpy as np\n",
        "import nltk\n",
        "from sklearn.feature_extraction.text import TfidfVectorizer\n",
        "from nltk.corpus import stopwords\n",
        "from nltk.tokenize import word_tokenize\n",
        "import string\n",
        "from nltk.stem import WordNetLemmatizer\n",
        "from nltk.stem.porter import PorterStemmer\n",
        "import multiprocessing\n",
        "from sklearn.model_selection import train_test_split\n",
        "from sklearn.naive_bayes import BernoulliNB\n",
        "from sklearn.ensemble import RandomForestClassifier\n",
        "from sklearn.tree import DecisionTreeClassifier\n",
        "from sklearn.linear_model import LogisticRegression\n",
        "from sklearn.linear_model import SGDClassifier\n",
        "from sklearn.svm import SVC\n",
        "from scipy import stats\n",
        "from sklearn.metrics import accuracy_score, f1_score\n",
        "from imblearn.over_sampling import SMOTE\n",
        "import warnings\n",
        "\n",
        "warnings.filterwarnings(\"ignore\")\n",
        "nltk.download('punkt')"
      ],
      "metadata": {
        "colab": {
          "base_uri": "https://localhost:8080/"
        },
        "id": "sS9S1NswHVtX",
        "outputId": "ff4dfd99-505d-4641-d671-d51244992d9e"
      },
      "execution_count": null,
      "outputs": [
        {
          "output_type": "stream",
          "name": "stderr",
          "text": [
            "[nltk_data] Downloading package punkt to /root/nltk_data...\n",
            "[nltk_data]   Unzipping tokenizers/punkt.zip.\n"
          ]
        },
        {
          "output_type": "execute_result",
          "data": {
            "text/plain": [
              "True"
            ]
          },
          "metadata": {},
          "execution_count": 2
        }
      ]
    },
    {
      "cell_type": "markdown",
      "source": [
        "Data Preprocessing"
      ],
      "metadata": {
        "id": "hCv3SeKoIg41"
      }
    },
    {
      "cell_type": "code",
      "source": [
        "file_name='labeled_data_processed.xlsx'\n",
        "df=pd.read_excel(file_name)\n",
        "# delete rows having null cleaned_text\n",
        "df=df[df['cleaned_text'].isna()==False]\n",
        "# delete rows with null labels\n",
        "labels=['food_quality','environment','service','convenience','cost_effectiveness']\n",
        "df = df[df[labels].notna().all(axis=1)]\n",
        "df.head()"
      ],
      "metadata": {
        "colab": {
          "base_uri": "https://localhost:8080/",
          "height": 724
        },
        "id": "wlN4t-cjHcHF",
        "outputId": "3fb5a042-93b6-49d7-a432-a4b0c6002e0e"
      },
      "execution_count": null,
      "outputs": [
        {
          "output_type": "execute_result",
          "data": {
            "text/plain": [
              "   Unnamed: 0               review_id                 user_id  \\\n",
              "0           0  KU_O5udG6zpxOg-VcAEodg  mh_-eMZ6K5RLWhZyISBhwA   \n",
              "1           2  saUsX_uimxRlCVr67Z4Jig  8g_iMtfSiwikVnbP2etR0A   \n",
              "2           3  AqPFMleE6RsU23_auESxiA  _7bHUi9Uuf5__HHc_Q8guQ   \n",
              "3           4  Sx8TMOWLNuJBWer-0pcmoA  bcjbaE6dDog4jkNY91ncLQ   \n",
              "4           5  JrIxlS1TzJ-iCu79ul40cQ  eUta8W_HdHMXPzLBBZhL1A   \n",
              "\n",
              "              business_id  stars_x  useful_x  funny_x  cool_x  \\\n",
              "0  XQfwVwDr-v0ZS3_CbbE5Xw        3         0        0       0   \n",
              "1  YjUWPpI6HXG530lwP-fb2A        3         0        0       0   \n",
              "2  kxX2SOes4o-D3ZQBkiMRfA        5         1        0       1   \n",
              "3  e4Vwtrqf-wpJfwesgvdgxQ        4         1        0       1   \n",
              "4  04UD14gamNjLY0IDYVhHJg        1         1        2       1   \n",
              "\n",
              "                                                text       date_x  ...  \\\n",
              "0  If you decide to eat here, just be aware it is...  43288.92292  ...   \n",
              "1  Family diner. Had the buffet. Eclectic assortm...  41675.85417  ...   \n",
              "2  Wow!  Yummy, different,  delicious.   Our favo...  42008.00069  ...   \n",
              "3  Cute interior and owner (?) gave us tour of up...  42749.87083  ...   \n",
              "4  I am a long term frequent customer of this est...  42270.96528  ...   \n",
              "\n",
              "   compliment_profile  compliment_cute  compliment_list  compliment_note  \\\n",
              "0                 0.0              0.0              0.0              0.0   \n",
              "1                 3.0              1.0              1.0             63.0   \n",
              "2                 0.0              0.0              0.0              0.0   \n",
              "3                 0.0              0.0              0.0              0.0   \n",
              "4                 0.0              0.0              0.0              1.0   \n",
              "\n",
              "   compliment_plain compliment_cool compliment_funny compliment_writer  \\\n",
              "0               0.0             1.0              1.0               0.0   \n",
              "1              96.0            86.0             86.0              49.0   \n",
              "2               0.0             0.0              0.0               0.0   \n",
              "3               1.0             0.0              0.0               2.0   \n",
              "4               0.0             0.0              0.0               0.0   \n",
              "\n",
              "  compliment_photos                                       cleaned_text  \n",
              "0               0.0  decide eat aware going take 2 hours beginning ...  \n",
              "1              27.0  family diner buffet eclectic assortment large ...  \n",
              "2               0.0  wow yummy different delicious favorite lamb cu...  \n",
              "3               1.0  cute interior owner gave us tour upcoming pati...  \n",
              "4               0.0  long term frequent customer establishment went...  \n",
              "\n",
              "[5 rows x 51 columns]"
            ],
            "text/html": [
              "\n",
              "  <div id=\"df-42226a20-7998-49fa-b058-2633d6c255d5\" class=\"colab-df-container\">\n",
              "    <div>\n",
              "<style scoped>\n",
              "    .dataframe tbody tr th:only-of-type {\n",
              "        vertical-align: middle;\n",
              "    }\n",
              "\n",
              "    .dataframe tbody tr th {\n",
              "        vertical-align: top;\n",
              "    }\n",
              "\n",
              "    .dataframe thead th {\n",
              "        text-align: right;\n",
              "    }\n",
              "</style>\n",
              "<table border=\"1\" class=\"dataframe\">\n",
              "  <thead>\n",
              "    <tr style=\"text-align: right;\">\n",
              "      <th></th>\n",
              "      <th>Unnamed: 0</th>\n",
              "      <th>review_id</th>\n",
              "      <th>user_id</th>\n",
              "      <th>business_id</th>\n",
              "      <th>stars_x</th>\n",
              "      <th>useful_x</th>\n",
              "      <th>funny_x</th>\n",
              "      <th>cool_x</th>\n",
              "      <th>text</th>\n",
              "      <th>date_x</th>\n",
              "      <th>...</th>\n",
              "      <th>compliment_profile</th>\n",
              "      <th>compliment_cute</th>\n",
              "      <th>compliment_list</th>\n",
              "      <th>compliment_note</th>\n",
              "      <th>compliment_plain</th>\n",
              "      <th>compliment_cool</th>\n",
              "      <th>compliment_funny</th>\n",
              "      <th>compliment_writer</th>\n",
              "      <th>compliment_photos</th>\n",
              "      <th>cleaned_text</th>\n",
              "    </tr>\n",
              "  </thead>\n",
              "  <tbody>\n",
              "    <tr>\n",
              "      <th>0</th>\n",
              "      <td>0</td>\n",
              "      <td>KU_O5udG6zpxOg-VcAEodg</td>\n",
              "      <td>mh_-eMZ6K5RLWhZyISBhwA</td>\n",
              "      <td>XQfwVwDr-v0ZS3_CbbE5Xw</td>\n",
              "      <td>3</td>\n",
              "      <td>0</td>\n",
              "      <td>0</td>\n",
              "      <td>0</td>\n",
              "      <td>If you decide to eat here, just be aware it is...</td>\n",
              "      <td>43288.92292</td>\n",
              "      <td>...</td>\n",
              "      <td>0.0</td>\n",
              "      <td>0.0</td>\n",
              "      <td>0.0</td>\n",
              "      <td>0.0</td>\n",
              "      <td>0.0</td>\n",
              "      <td>1.0</td>\n",
              "      <td>1.0</td>\n",
              "      <td>0.0</td>\n",
              "      <td>0.0</td>\n",
              "      <td>decide eat aware going take 2 hours beginning ...</td>\n",
              "    </tr>\n",
              "    <tr>\n",
              "      <th>1</th>\n",
              "      <td>2</td>\n",
              "      <td>saUsX_uimxRlCVr67Z4Jig</td>\n",
              "      <td>8g_iMtfSiwikVnbP2etR0A</td>\n",
              "      <td>YjUWPpI6HXG530lwP-fb2A</td>\n",
              "      <td>3</td>\n",
              "      <td>0</td>\n",
              "      <td>0</td>\n",
              "      <td>0</td>\n",
              "      <td>Family diner. Had the buffet. Eclectic assortm...</td>\n",
              "      <td>41675.85417</td>\n",
              "      <td>...</td>\n",
              "      <td>3.0</td>\n",
              "      <td>1.0</td>\n",
              "      <td>1.0</td>\n",
              "      <td>63.0</td>\n",
              "      <td>96.0</td>\n",
              "      <td>86.0</td>\n",
              "      <td>86.0</td>\n",
              "      <td>49.0</td>\n",
              "      <td>27.0</td>\n",
              "      <td>family diner buffet eclectic assortment large ...</td>\n",
              "    </tr>\n",
              "    <tr>\n",
              "      <th>2</th>\n",
              "      <td>3</td>\n",
              "      <td>AqPFMleE6RsU23_auESxiA</td>\n",
              "      <td>_7bHUi9Uuf5__HHc_Q8guQ</td>\n",
              "      <td>kxX2SOes4o-D3ZQBkiMRfA</td>\n",
              "      <td>5</td>\n",
              "      <td>1</td>\n",
              "      <td>0</td>\n",
              "      <td>1</td>\n",
              "      <td>Wow!  Yummy, different,  delicious.   Our favo...</td>\n",
              "      <td>42008.00069</td>\n",
              "      <td>...</td>\n",
              "      <td>0.0</td>\n",
              "      <td>0.0</td>\n",
              "      <td>0.0</td>\n",
              "      <td>0.0</td>\n",
              "      <td>0.0</td>\n",
              "      <td>0.0</td>\n",
              "      <td>0.0</td>\n",
              "      <td>0.0</td>\n",
              "      <td>0.0</td>\n",
              "      <td>wow yummy different delicious favorite lamb cu...</td>\n",
              "    </tr>\n",
              "    <tr>\n",
              "      <th>3</th>\n",
              "      <td>4</td>\n",
              "      <td>Sx8TMOWLNuJBWer-0pcmoA</td>\n",
              "      <td>bcjbaE6dDog4jkNY91ncLQ</td>\n",
              "      <td>e4Vwtrqf-wpJfwesgvdgxQ</td>\n",
              "      <td>4</td>\n",
              "      <td>1</td>\n",
              "      <td>0</td>\n",
              "      <td>1</td>\n",
              "      <td>Cute interior and owner (?) gave us tour of up...</td>\n",
              "      <td>42749.87083</td>\n",
              "      <td>...</td>\n",
              "      <td>0.0</td>\n",
              "      <td>0.0</td>\n",
              "      <td>0.0</td>\n",
              "      <td>0.0</td>\n",
              "      <td>1.0</td>\n",
              "      <td>0.0</td>\n",
              "      <td>0.0</td>\n",
              "      <td>2.0</td>\n",
              "      <td>1.0</td>\n",
              "      <td>cute interior owner gave us tour upcoming pati...</td>\n",
              "    </tr>\n",
              "    <tr>\n",
              "      <th>4</th>\n",
              "      <td>5</td>\n",
              "      <td>JrIxlS1TzJ-iCu79ul40cQ</td>\n",
              "      <td>eUta8W_HdHMXPzLBBZhL1A</td>\n",
              "      <td>04UD14gamNjLY0IDYVhHJg</td>\n",
              "      <td>1</td>\n",
              "      <td>1</td>\n",
              "      <td>2</td>\n",
              "      <td>1</td>\n",
              "      <td>I am a long term frequent customer of this est...</td>\n",
              "      <td>42270.96528</td>\n",
              "      <td>...</td>\n",
              "      <td>0.0</td>\n",
              "      <td>0.0</td>\n",
              "      <td>0.0</td>\n",
              "      <td>1.0</td>\n",
              "      <td>0.0</td>\n",
              "      <td>0.0</td>\n",
              "      <td>0.0</td>\n",
              "      <td>0.0</td>\n",
              "      <td>0.0</td>\n",
              "      <td>long term frequent customer establishment went...</td>\n",
              "    </tr>\n",
              "  </tbody>\n",
              "</table>\n",
              "<p>5 rows × 51 columns</p>\n",
              "</div>\n",
              "    <div class=\"colab-df-buttons\">\n",
              "\n",
              "  <div class=\"colab-df-container\">\n",
              "    <button class=\"colab-df-convert\" onclick=\"convertToInteractive('df-42226a20-7998-49fa-b058-2633d6c255d5')\"\n",
              "            title=\"Convert this dataframe to an interactive table.\"\n",
              "            style=\"display:none;\">\n",
              "\n",
              "  <svg xmlns=\"http://www.w3.org/2000/svg\" height=\"24px\" viewBox=\"0 -960 960 960\">\n",
              "    <path d=\"M120-120v-720h720v720H120Zm60-500h600v-160H180v160Zm220 220h160v-160H400v160Zm0 220h160v-160H400v160ZM180-400h160v-160H180v160Zm440 0h160v-160H620v160ZM180-180h160v-160H180v160Zm440 0h160v-160H620v160Z\"/>\n",
              "  </svg>\n",
              "    </button>\n",
              "\n",
              "  <style>\n",
              "    .colab-df-container {\n",
              "      display:flex;\n",
              "      gap: 12px;\n",
              "    }\n",
              "\n",
              "    .colab-df-convert {\n",
              "      background-color: #E8F0FE;\n",
              "      border: none;\n",
              "      border-radius: 50%;\n",
              "      cursor: pointer;\n",
              "      display: none;\n",
              "      fill: #1967D2;\n",
              "      height: 32px;\n",
              "      padding: 0 0 0 0;\n",
              "      width: 32px;\n",
              "    }\n",
              "\n",
              "    .colab-df-convert:hover {\n",
              "      background-color: #E2EBFA;\n",
              "      box-shadow: 0px 1px 2px rgba(60, 64, 67, 0.3), 0px 1px 3px 1px rgba(60, 64, 67, 0.15);\n",
              "      fill: #174EA6;\n",
              "    }\n",
              "\n",
              "    .colab-df-buttons div {\n",
              "      margin-bottom: 4px;\n",
              "    }\n",
              "\n",
              "    [theme=dark] .colab-df-convert {\n",
              "      background-color: #3B4455;\n",
              "      fill: #D2E3FC;\n",
              "    }\n",
              "\n",
              "    [theme=dark] .colab-df-convert:hover {\n",
              "      background-color: #434B5C;\n",
              "      box-shadow: 0px 1px 3px 1px rgba(0, 0, 0, 0.15);\n",
              "      filter: drop-shadow(0px 1px 2px rgba(0, 0, 0, 0.3));\n",
              "      fill: #FFFFFF;\n",
              "    }\n",
              "  </style>\n",
              "\n",
              "    <script>\n",
              "      const buttonEl =\n",
              "        document.querySelector('#df-42226a20-7998-49fa-b058-2633d6c255d5 button.colab-df-convert');\n",
              "      buttonEl.style.display =\n",
              "        google.colab.kernel.accessAllowed ? 'block' : 'none';\n",
              "\n",
              "      async function convertToInteractive(key) {\n",
              "        const element = document.querySelector('#df-42226a20-7998-49fa-b058-2633d6c255d5');\n",
              "        const dataTable =\n",
              "          await google.colab.kernel.invokeFunction('convertToInteractive',\n",
              "                                                    [key], {});\n",
              "        if (!dataTable) return;\n",
              "\n",
              "        const docLinkHtml = 'Like what you see? Visit the ' +\n",
              "          '<a target=\"_blank\" href=https://colab.research.google.com/notebooks/data_table.ipynb>data table notebook</a>'\n",
              "          + ' to learn more about interactive tables.';\n",
              "        element.innerHTML = '';\n",
              "        dataTable['output_type'] = 'display_data';\n",
              "        await google.colab.output.renderOutput(dataTable, element);\n",
              "        const docLink = document.createElement('div');\n",
              "        docLink.innerHTML = docLinkHtml;\n",
              "        element.appendChild(docLink);\n",
              "      }\n",
              "    </script>\n",
              "  </div>\n",
              "\n",
              "\n",
              "<div id=\"df-33953c29-92f0-48ef-ac20-6cc0a0ccc2c6\">\n",
              "  <button class=\"colab-df-quickchart\" onclick=\"quickchart('df-33953c29-92f0-48ef-ac20-6cc0a0ccc2c6')\"\n",
              "            title=\"Suggest charts\"\n",
              "            style=\"display:none;\">\n",
              "\n",
              "<svg xmlns=\"http://www.w3.org/2000/svg\" height=\"24px\"viewBox=\"0 0 24 24\"\n",
              "     width=\"24px\">\n",
              "    <g>\n",
              "        <path d=\"M19 3H5c-1.1 0-2 .9-2 2v14c0 1.1.9 2 2 2h14c1.1 0 2-.9 2-2V5c0-1.1-.9-2-2-2zM9 17H7v-7h2v7zm4 0h-2V7h2v10zm4 0h-2v-4h2v4z\"/>\n",
              "    </g>\n",
              "</svg>\n",
              "  </button>\n",
              "\n",
              "<style>\n",
              "  .colab-df-quickchart {\n",
              "      --bg-color: #E8F0FE;\n",
              "      --fill-color: #1967D2;\n",
              "      --hover-bg-color: #E2EBFA;\n",
              "      --hover-fill-color: #174EA6;\n",
              "      --disabled-fill-color: #AAA;\n",
              "      --disabled-bg-color: #DDD;\n",
              "  }\n",
              "\n",
              "  [theme=dark] .colab-df-quickchart {\n",
              "      --bg-color: #3B4455;\n",
              "      --fill-color: #D2E3FC;\n",
              "      --hover-bg-color: #434B5C;\n",
              "      --hover-fill-color: #FFFFFF;\n",
              "      --disabled-bg-color: #3B4455;\n",
              "      --disabled-fill-color: #666;\n",
              "  }\n",
              "\n",
              "  .colab-df-quickchart {\n",
              "    background-color: var(--bg-color);\n",
              "    border: none;\n",
              "    border-radius: 50%;\n",
              "    cursor: pointer;\n",
              "    display: none;\n",
              "    fill: var(--fill-color);\n",
              "    height: 32px;\n",
              "    padding: 0;\n",
              "    width: 32px;\n",
              "  }\n",
              "\n",
              "  .colab-df-quickchart:hover {\n",
              "    background-color: var(--hover-bg-color);\n",
              "    box-shadow: 0 1px 2px rgba(60, 64, 67, 0.3), 0 1px 3px 1px rgba(60, 64, 67, 0.15);\n",
              "    fill: var(--button-hover-fill-color);\n",
              "  }\n",
              "\n",
              "  .colab-df-quickchart-complete:disabled,\n",
              "  .colab-df-quickchart-complete:disabled:hover {\n",
              "    background-color: var(--disabled-bg-color);\n",
              "    fill: var(--disabled-fill-color);\n",
              "    box-shadow: none;\n",
              "  }\n",
              "\n",
              "  .colab-df-spinner {\n",
              "    border: 2px solid var(--fill-color);\n",
              "    border-color: transparent;\n",
              "    border-bottom-color: var(--fill-color);\n",
              "    animation:\n",
              "      spin 1s steps(1) infinite;\n",
              "  }\n",
              "\n",
              "  @keyframes spin {\n",
              "    0% {\n",
              "      border-color: transparent;\n",
              "      border-bottom-color: var(--fill-color);\n",
              "      border-left-color: var(--fill-color);\n",
              "    }\n",
              "    20% {\n",
              "      border-color: transparent;\n",
              "      border-left-color: var(--fill-color);\n",
              "      border-top-color: var(--fill-color);\n",
              "    }\n",
              "    30% {\n",
              "      border-color: transparent;\n",
              "      border-left-color: var(--fill-color);\n",
              "      border-top-color: var(--fill-color);\n",
              "      border-right-color: var(--fill-color);\n",
              "    }\n",
              "    40% {\n",
              "      border-color: transparent;\n",
              "      border-right-color: var(--fill-color);\n",
              "      border-top-color: var(--fill-color);\n",
              "    }\n",
              "    60% {\n",
              "      border-color: transparent;\n",
              "      border-right-color: var(--fill-color);\n",
              "    }\n",
              "    80% {\n",
              "      border-color: transparent;\n",
              "      border-right-color: var(--fill-color);\n",
              "      border-bottom-color: var(--fill-color);\n",
              "    }\n",
              "    90% {\n",
              "      border-color: transparent;\n",
              "      border-bottom-color: var(--fill-color);\n",
              "    }\n",
              "  }\n",
              "</style>\n",
              "\n",
              "  <script>\n",
              "    async function quickchart(key) {\n",
              "      const quickchartButtonEl =\n",
              "        document.querySelector('#' + key + ' button');\n",
              "      quickchartButtonEl.disabled = true;  // To prevent multiple clicks.\n",
              "      quickchartButtonEl.classList.add('colab-df-spinner');\n",
              "      try {\n",
              "        const charts = await google.colab.kernel.invokeFunction(\n",
              "            'suggestCharts', [key], {});\n",
              "      } catch (error) {\n",
              "        console.error('Error during call to suggestCharts:', error);\n",
              "      }\n",
              "      quickchartButtonEl.classList.remove('colab-df-spinner');\n",
              "      quickchartButtonEl.classList.add('colab-df-quickchart-complete');\n",
              "    }\n",
              "    (() => {\n",
              "      let quickchartButtonEl =\n",
              "        document.querySelector('#df-33953c29-92f0-48ef-ac20-6cc0a0ccc2c6 button');\n",
              "      quickchartButtonEl.style.display =\n",
              "        google.colab.kernel.accessAllowed ? 'block' : 'none';\n",
              "    })();\n",
              "  </script>\n",
              "</div>\n",
              "    </div>\n",
              "  </div>\n"
            ]
          },
          "metadata": {},
          "execution_count": 3
        }
      ]
    },
    {
      "cell_type": "code",
      "source": [
        "def preprocess_text(text):\n",
        "        # segment text into word tokens\n",
        "        tokens=word_tokenize(text)\n",
        "\n",
        "        # stemming\n",
        "        porter_stemmer  = PorterStemmer()\n",
        "        stemmed_text=[porter_stemmer.stem(word) for word in tokens]\n",
        "\n",
        "        return ' '.join(stemmed_text)"
      ],
      "metadata": {
        "id": "oPzYR-5iHcWF"
      },
      "execution_count": null,
      "outputs": []
    },
    {
      "cell_type": "code",
      "source": [
        "# transfer to tf-idf\n",
        "# dataset: could be 'train' if applies on training set, 'test' if applies on test set\n",
        "# voca only available when applies on test set\n",
        "def tfidf_transform(df,column,dataset='train',voca=['default']):\n",
        "    # smooth the tf and idf(default)\n",
        "    corpus=df[column].tolist()\n",
        "    if dataset == 'train':\n",
        "        vector=TfidfVectorizer(preprocessor=preprocess_text,sublinear_tf = True)\n",
        "        tfidf=vector.fit_transform(corpus)\n",
        "        vocab=vector.get_feature_names_out()\n",
        "        return tfidf,vocab\n",
        "    elif dataset == 'test':\n",
        "        vector=TfidfVectorizer(vocabulary=voca,preprocessor=preprocess_text,sublinear_tf = True)\n",
        "        tfidf=vector.fit_transform(corpus)\n",
        "        vocab=vector.get_feature_names_out()\n",
        "        return tfidf,vocab"
      ],
      "metadata": {
        "id": "wgG7GtpaHoU8"
      },
      "execution_count": null,
      "outputs": []
    },
    {
      "cell_type": "markdown",
      "source": [
        "Split the dataset to training set(80%) and test set"
      ],
      "metadata": {
        "id": "b9NAlt-DIoPV"
      }
    },
    {
      "cell_type": "code",
      "source": [
        "# split the dataset without oversampling\n",
        "def CV(df, y_label,ratio=0.8):\n",
        "    train_indices = df.sample(frac=ratio, random_state=200).index\n",
        "    x_train,dic=tfidf_transform(df.loc[train_indices].reset_index(drop=True),'cleaned_text')\n",
        "    x_test,dic=tfidf_transform(df.drop(train_indices).reset_index(drop=True),'cleaned_text','test',dic)\n",
        "    y_train=df[y_label][train_indices]\n",
        "    y_test=df[y_label].drop(train_indices)\n",
        "\n",
        "    return x_train, x_test,y_train,y_test"
      ],
      "metadata": {
        "id": "Zomla7sOHu9r"
      },
      "execution_count": null,
      "outputs": []
    },
    {
      "cell_type": "code",
      "source": [
        "x_train, x_test,y_train,y_test=CV(df,'food_quality')"
      ],
      "metadata": {
        "id": "W7WWaXMdH3y0"
      },
      "execution_count": null,
      "outputs": []
    },
    {
      "cell_type": "code",
      "source": [
        "# use smote to balance the dataset\n",
        "def CV_SMOTE(df, y_label,ratio=0.8):\n",
        "    try:\n",
        "        sm = SMOTE(random_state=42)\n",
        "\n",
        "        train_indices = df.sample(frac=ratio, random_state=200).index\n",
        "        x_train_pre,dic=tfidf_transform(df.loc[train_indices].reset_index(drop=True),'cleaned_text')\n",
        "        x_test_pre,dic=tfidf_transform(df.drop(train_indices).reset_index(drop=True),'cleaned_text','test',dic)\n",
        "        y_train_pre=df[y_label][train_indices]\n",
        "        y_test_pre=df[y_label].drop(train_indices)\n",
        "\n",
        "        x_train,y_train=sm.fit_resample(x_train_pre,y_train_pre)\n",
        "        x_test,y_test=sm.fit_resample(x_test_pre,y_test_pre)\n",
        "    except:\n",
        "        sm = SMOTE(random_state=42,k_neighbors=1)\n",
        "        train_indices = df.sample(frac=ratio, random_state=200).index\n",
        "        x_train_pre,dic=tfidf_transform(df.loc[train_indices].reset_index(drop=True),'cleaned_text')\n",
        "        x_test_pre,dic=tfidf_transform(df.drop(train_indices).reset_index(drop=True),'cleaned_text','test',dic)\n",
        "        y_train_pre=df[y_label][train_indices]\n",
        "        y_test_pre=df[y_label].drop(train_indices)\n",
        "\n",
        "        x_train,y_train=sm.fit_resample(x_train_pre,y_train_pre)\n",
        "        x_test,y_test=sm.fit_resample(x_test_pre,y_test_pre)\n",
        "\n",
        "    return x_train, x_test,y_train,y_test"
      ],
      "metadata": {
        "id": "AKRGLMnbH7va"
      },
      "execution_count": null,
      "outputs": []
    },
    {
      "cell_type": "code",
      "source": [
        "x_train, x_test,y_train,y_test=CV_SMOTE(df,'food_quality')"
      ],
      "metadata": {
        "id": "AOmorAGHH_HF"
      },
      "execution_count": null,
      "outputs": []
    },
    {
      "cell_type": "markdown",
      "source": [
        "Classification"
      ],
      "metadata": {
        "id": "p3PX4r-LIukL"
      }
    },
    {
      "cell_type": "code",
      "source": [
        "def train_models(x_train,y_train,label,model='decision_tree'):\n",
        "    if model == 'decision_tree':\n",
        "        clf = DecisionTreeClassifier()\n",
        "        clf = clf.fit(x_train, y_train)\n",
        "        return clf,label\n",
        "    elif model =='naive_bayes':\n",
        "        clf = BernoulliNB()\n",
        "        clf.fit(x_train, y_train)\n",
        "        return clf,label\n",
        "    elif model =='linear_SGD_classifier':\n",
        "        clf = SGDClassifier(loss='squared_error',max_iter=5000,eta0=0.001)\n",
        "        clf.fit(x_train, y_train)\n",
        "        return clf,label\n",
        "    elif model =='logistic_regression':\n",
        "        clf = LogisticRegression(multi_class='multinomial', solver='lbfgs')\n",
        "        clf.fit(x_train, y_train)\n",
        "        return clf,label\n",
        "    elif model == 'random_forest':\n",
        "        clf = RandomForestClassifier()\n",
        "        clf.fit(x_train, y_train)\n",
        "        return clf,label\n",
        "    elif model == 'svc':\n",
        "        clf = SVC()\n",
        "        clf.fit(x_train, y_train)\n",
        "        return clf,label"
      ],
      "metadata": {
        "id": "mPbqWuXRIB4M"
      },
      "execution_count": null,
      "outputs": []
    },
    {
      "cell_type": "code",
      "source": [
        "def test_model(x_test,y_test,trained_model):\n",
        "    prediction = trained_model.predict(x_test)\n",
        "    f1 = f1_score(y_test, prediction,average='micro')\n",
        "    accuracy=accuracy_score(y_test, prediction)\n",
        "    return f1,accuracy"
      ],
      "metadata": {
        "id": "RMAIw-NIIE73"
      },
      "execution_count": null,
      "outputs": []
    },
    {
      "cell_type": "code",
      "source": [
        "labels=['food_quality','environment','service','convenience','cost_effectiveness']\n",
        "models=['decision_tree','naive_bayes','linear_SGD_classifier','logistic_regression','random_forest','svc']\n",
        "results_f1={}\n",
        "results_accuracy={}\n",
        "for label in labels:\n",
        "    results_f1[label]=[]\n",
        "    results_accuracy[label]=[]\n",
        "    x_train,x_test,y_train,y_test=CV_SMOTE(df,label)\n",
        "    for model_name in models:\n",
        "        trained_model,label=train_models(x_train,y_train,label,model_name)\n",
        "        test_result=test_model(x_test,y_test,trained_model)\n",
        "        results_f1[label].append(test_result[0])\n",
        "        results_accuracy[label].append(test_result[1])"
      ],
      "metadata": {
        "id": "LgRTU-MzIIpc"
      },
      "execution_count": null,
      "outputs": []
    },
    {
      "cell_type": "code",
      "source": [
        "f1_metric=pd.DataFrame(results_f1,index=models)\n",
        "f1_metric"
      ],
      "metadata": {
        "id": "k7ysS74TINNa",
        "colab": {
          "base_uri": "https://localhost:8080/",
          "height": 238
        },
        "outputId": "a3f2431c-ad0a-4581-e252-b0f7536c7a60"
      },
      "execution_count": null,
      "outputs": [
        {
          "output_type": "execute_result",
          "data": {
            "text/plain": [
              "                       food_quality  environment   service  convenience  \\\n",
              "decision_tree              0.432900     0.604555  0.697819     0.323529   \n",
              "naive_bayes                0.619048     0.501035  0.694704     0.333333   \n",
              "linear_SGD_classifier      0.296537     0.283644  0.308411     0.163399   \n",
              "logistic_regression        0.616883     0.534161  0.838006     0.334967   \n",
              "random_forest              0.623377     0.544513  0.828660     0.333333   \n",
              "svc                        0.545455     0.525880  0.781931     0.333333   \n",
              "\n",
              "                       cost_effectiveness  \n",
              "decision_tree                    0.597148  \n",
              "naive_bayes                      0.411765  \n",
              "linear_SGD_classifier            0.434938  \n",
              "logistic_regression              0.513369  \n",
              "random_forest                    0.474153  \n",
              "svc                              0.486631  "
            ],
            "text/html": [
              "\n",
              "  <div id=\"df-05e908bb-a381-4b34-982e-ea143f1a93ce\" class=\"colab-df-container\">\n",
              "    <div>\n",
              "<style scoped>\n",
              "    .dataframe tbody tr th:only-of-type {\n",
              "        vertical-align: middle;\n",
              "    }\n",
              "\n",
              "    .dataframe tbody tr th {\n",
              "        vertical-align: top;\n",
              "    }\n",
              "\n",
              "    .dataframe thead th {\n",
              "        text-align: right;\n",
              "    }\n",
              "</style>\n",
              "<table border=\"1\" class=\"dataframe\">\n",
              "  <thead>\n",
              "    <tr style=\"text-align: right;\">\n",
              "      <th></th>\n",
              "      <th>food_quality</th>\n",
              "      <th>environment</th>\n",
              "      <th>service</th>\n",
              "      <th>convenience</th>\n",
              "      <th>cost_effectiveness</th>\n",
              "    </tr>\n",
              "  </thead>\n",
              "  <tbody>\n",
              "    <tr>\n",
              "      <th>decision_tree</th>\n",
              "      <td>0.432900</td>\n",
              "      <td>0.604555</td>\n",
              "      <td>0.697819</td>\n",
              "      <td>0.323529</td>\n",
              "      <td>0.597148</td>\n",
              "    </tr>\n",
              "    <tr>\n",
              "      <th>naive_bayes</th>\n",
              "      <td>0.619048</td>\n",
              "      <td>0.501035</td>\n",
              "      <td>0.694704</td>\n",
              "      <td>0.333333</td>\n",
              "      <td>0.411765</td>\n",
              "    </tr>\n",
              "    <tr>\n",
              "      <th>linear_SGD_classifier</th>\n",
              "      <td>0.296537</td>\n",
              "      <td>0.283644</td>\n",
              "      <td>0.308411</td>\n",
              "      <td>0.163399</td>\n",
              "      <td>0.434938</td>\n",
              "    </tr>\n",
              "    <tr>\n",
              "      <th>logistic_regression</th>\n",
              "      <td>0.616883</td>\n",
              "      <td>0.534161</td>\n",
              "      <td>0.838006</td>\n",
              "      <td>0.334967</td>\n",
              "      <td>0.513369</td>\n",
              "    </tr>\n",
              "    <tr>\n",
              "      <th>random_forest</th>\n",
              "      <td>0.623377</td>\n",
              "      <td>0.544513</td>\n",
              "      <td>0.828660</td>\n",
              "      <td>0.333333</td>\n",
              "      <td>0.474153</td>\n",
              "    </tr>\n",
              "    <tr>\n",
              "      <th>svc</th>\n",
              "      <td>0.545455</td>\n",
              "      <td>0.525880</td>\n",
              "      <td>0.781931</td>\n",
              "      <td>0.333333</td>\n",
              "      <td>0.486631</td>\n",
              "    </tr>\n",
              "  </tbody>\n",
              "</table>\n",
              "</div>\n",
              "    <div class=\"colab-df-buttons\">\n",
              "\n",
              "  <div class=\"colab-df-container\">\n",
              "    <button class=\"colab-df-convert\" onclick=\"convertToInteractive('df-05e908bb-a381-4b34-982e-ea143f1a93ce')\"\n",
              "            title=\"Convert this dataframe to an interactive table.\"\n",
              "            style=\"display:none;\">\n",
              "\n",
              "  <svg xmlns=\"http://www.w3.org/2000/svg\" height=\"24px\" viewBox=\"0 -960 960 960\">\n",
              "    <path d=\"M120-120v-720h720v720H120Zm60-500h600v-160H180v160Zm220 220h160v-160H400v160Zm0 220h160v-160H400v160ZM180-400h160v-160H180v160Zm440 0h160v-160H620v160ZM180-180h160v-160H180v160Zm440 0h160v-160H620v160Z\"/>\n",
              "  </svg>\n",
              "    </button>\n",
              "\n",
              "  <style>\n",
              "    .colab-df-container {\n",
              "      display:flex;\n",
              "      gap: 12px;\n",
              "    }\n",
              "\n",
              "    .colab-df-convert {\n",
              "      background-color: #E8F0FE;\n",
              "      border: none;\n",
              "      border-radius: 50%;\n",
              "      cursor: pointer;\n",
              "      display: none;\n",
              "      fill: #1967D2;\n",
              "      height: 32px;\n",
              "      padding: 0 0 0 0;\n",
              "      width: 32px;\n",
              "    }\n",
              "\n",
              "    .colab-df-convert:hover {\n",
              "      background-color: #E2EBFA;\n",
              "      box-shadow: 0px 1px 2px rgba(60, 64, 67, 0.3), 0px 1px 3px 1px rgba(60, 64, 67, 0.15);\n",
              "      fill: #174EA6;\n",
              "    }\n",
              "\n",
              "    .colab-df-buttons div {\n",
              "      margin-bottom: 4px;\n",
              "    }\n",
              "\n",
              "    [theme=dark] .colab-df-convert {\n",
              "      background-color: #3B4455;\n",
              "      fill: #D2E3FC;\n",
              "    }\n",
              "\n",
              "    [theme=dark] .colab-df-convert:hover {\n",
              "      background-color: #434B5C;\n",
              "      box-shadow: 0px 1px 3px 1px rgba(0, 0, 0, 0.15);\n",
              "      filter: drop-shadow(0px 1px 2px rgba(0, 0, 0, 0.3));\n",
              "      fill: #FFFFFF;\n",
              "    }\n",
              "  </style>\n",
              "\n",
              "    <script>\n",
              "      const buttonEl =\n",
              "        document.querySelector('#df-05e908bb-a381-4b34-982e-ea143f1a93ce button.colab-df-convert');\n",
              "      buttonEl.style.display =\n",
              "        google.colab.kernel.accessAllowed ? 'block' : 'none';\n",
              "\n",
              "      async function convertToInteractive(key) {\n",
              "        const element = document.querySelector('#df-05e908bb-a381-4b34-982e-ea143f1a93ce');\n",
              "        const dataTable =\n",
              "          await google.colab.kernel.invokeFunction('convertToInteractive',\n",
              "                                                    [key], {});\n",
              "        if (!dataTable) return;\n",
              "\n",
              "        const docLinkHtml = 'Like what you see? Visit the ' +\n",
              "          '<a target=\"_blank\" href=https://colab.research.google.com/notebooks/data_table.ipynb>data table notebook</a>'\n",
              "          + ' to learn more about interactive tables.';\n",
              "        element.innerHTML = '';\n",
              "        dataTable['output_type'] = 'display_data';\n",
              "        await google.colab.output.renderOutput(dataTable, element);\n",
              "        const docLink = document.createElement('div');\n",
              "        docLink.innerHTML = docLinkHtml;\n",
              "        element.appendChild(docLink);\n",
              "      }\n",
              "    </script>\n",
              "  </div>\n",
              "\n",
              "\n",
              "<div id=\"df-f3d75d44-ab0b-45b3-9b28-2a064ffc7d8d\">\n",
              "  <button class=\"colab-df-quickchart\" onclick=\"quickchart('df-f3d75d44-ab0b-45b3-9b28-2a064ffc7d8d')\"\n",
              "            title=\"Suggest charts\"\n",
              "            style=\"display:none;\">\n",
              "\n",
              "<svg xmlns=\"http://www.w3.org/2000/svg\" height=\"24px\"viewBox=\"0 0 24 24\"\n",
              "     width=\"24px\">\n",
              "    <g>\n",
              "        <path d=\"M19 3H5c-1.1 0-2 .9-2 2v14c0 1.1.9 2 2 2h14c1.1 0 2-.9 2-2V5c0-1.1-.9-2-2-2zM9 17H7v-7h2v7zm4 0h-2V7h2v10zm4 0h-2v-4h2v4z\"/>\n",
              "    </g>\n",
              "</svg>\n",
              "  </button>\n",
              "\n",
              "<style>\n",
              "  .colab-df-quickchart {\n",
              "      --bg-color: #E8F0FE;\n",
              "      --fill-color: #1967D2;\n",
              "      --hover-bg-color: #E2EBFA;\n",
              "      --hover-fill-color: #174EA6;\n",
              "      --disabled-fill-color: #AAA;\n",
              "      --disabled-bg-color: #DDD;\n",
              "  }\n",
              "\n",
              "  [theme=dark] .colab-df-quickchart {\n",
              "      --bg-color: #3B4455;\n",
              "      --fill-color: #D2E3FC;\n",
              "      --hover-bg-color: #434B5C;\n",
              "      --hover-fill-color: #FFFFFF;\n",
              "      --disabled-bg-color: #3B4455;\n",
              "      --disabled-fill-color: #666;\n",
              "  }\n",
              "\n",
              "  .colab-df-quickchart {\n",
              "    background-color: var(--bg-color);\n",
              "    border: none;\n",
              "    border-radius: 50%;\n",
              "    cursor: pointer;\n",
              "    display: none;\n",
              "    fill: var(--fill-color);\n",
              "    height: 32px;\n",
              "    padding: 0;\n",
              "    width: 32px;\n",
              "  }\n",
              "\n",
              "  .colab-df-quickchart:hover {\n",
              "    background-color: var(--hover-bg-color);\n",
              "    box-shadow: 0 1px 2px rgba(60, 64, 67, 0.3), 0 1px 3px 1px rgba(60, 64, 67, 0.15);\n",
              "    fill: var(--button-hover-fill-color);\n",
              "  }\n",
              "\n",
              "  .colab-df-quickchart-complete:disabled,\n",
              "  .colab-df-quickchart-complete:disabled:hover {\n",
              "    background-color: var(--disabled-bg-color);\n",
              "    fill: var(--disabled-fill-color);\n",
              "    box-shadow: none;\n",
              "  }\n",
              "\n",
              "  .colab-df-spinner {\n",
              "    border: 2px solid var(--fill-color);\n",
              "    border-color: transparent;\n",
              "    border-bottom-color: var(--fill-color);\n",
              "    animation:\n",
              "      spin 1s steps(1) infinite;\n",
              "  }\n",
              "\n",
              "  @keyframes spin {\n",
              "    0% {\n",
              "      border-color: transparent;\n",
              "      border-bottom-color: var(--fill-color);\n",
              "      border-left-color: var(--fill-color);\n",
              "    }\n",
              "    20% {\n",
              "      border-color: transparent;\n",
              "      border-left-color: var(--fill-color);\n",
              "      border-top-color: var(--fill-color);\n",
              "    }\n",
              "    30% {\n",
              "      border-color: transparent;\n",
              "      border-left-color: var(--fill-color);\n",
              "      border-top-color: var(--fill-color);\n",
              "      border-right-color: var(--fill-color);\n",
              "    }\n",
              "    40% {\n",
              "      border-color: transparent;\n",
              "      border-right-color: var(--fill-color);\n",
              "      border-top-color: var(--fill-color);\n",
              "    }\n",
              "    60% {\n",
              "      border-color: transparent;\n",
              "      border-right-color: var(--fill-color);\n",
              "    }\n",
              "    80% {\n",
              "      border-color: transparent;\n",
              "      border-right-color: var(--fill-color);\n",
              "      border-bottom-color: var(--fill-color);\n",
              "    }\n",
              "    90% {\n",
              "      border-color: transparent;\n",
              "      border-bottom-color: var(--fill-color);\n",
              "    }\n",
              "  }\n",
              "</style>\n",
              "\n",
              "  <script>\n",
              "    async function quickchart(key) {\n",
              "      const quickchartButtonEl =\n",
              "        document.querySelector('#' + key + ' button');\n",
              "      quickchartButtonEl.disabled = true;  // To prevent multiple clicks.\n",
              "      quickchartButtonEl.classList.add('colab-df-spinner');\n",
              "      try {\n",
              "        const charts = await google.colab.kernel.invokeFunction(\n",
              "            'suggestCharts', [key], {});\n",
              "      } catch (error) {\n",
              "        console.error('Error during call to suggestCharts:', error);\n",
              "      }\n",
              "      quickchartButtonEl.classList.remove('colab-df-spinner');\n",
              "      quickchartButtonEl.classList.add('colab-df-quickchart-complete');\n",
              "    }\n",
              "    (() => {\n",
              "      let quickchartButtonEl =\n",
              "        document.querySelector('#df-f3d75d44-ab0b-45b3-9b28-2a064ffc7d8d button');\n",
              "      quickchartButtonEl.style.display =\n",
              "        google.colab.kernel.accessAllowed ? 'block' : 'none';\n",
              "    })();\n",
              "  </script>\n",
              "</div>\n",
              "    </div>\n",
              "  </div>\n"
            ]
          },
          "metadata": {},
          "execution_count": 13
        }
      ]
    },
    {
      "cell_type": "markdown",
      "source": [
        "# Word2Vec"
      ],
      "metadata": {
        "id": "S3jHgdX9IQ4l"
      }
    },
    {
      "cell_type": "code",
      "execution_count": null,
      "metadata": {
        "id": "5qM1Ke4KrujB"
      },
      "outputs": [],
      "source": [
        "import io\n",
        "import re\n",
        "import string\n",
        "import tqdm\n",
        "\n",
        "import numpy as np\n",
        "import pandas as pd\n",
        "\n",
        "import tensorflow as tf\n",
        "from tensorflow.keras import layers\n",
        "import tensorflow as tf\n",
        "import re\n",
        "import string\n",
        "import nltk\n",
        "import spacy\n",
        "from nltk.stem import PorterStemmer\n",
        "from sklearn.model_selection import train_test_split\n",
        "\n",
        "from sklearn.model_selection import cross_val_score\n",
        "from sklearn import tree\n",
        "from sklearn.naive_bayes import BernoulliNB\n",
        "from sklearn.ensemble import RandomForestClassifier\n",
        "from sklearn.linear_model import SGDClassifier\n",
        "from sklearn.linear_model import LogisticRegression\n",
        "from sklearn.metrics import accuracy_score\n",
        "from sklearn.metrics import accuracy_score, classification_report, confusion_matrix\n",
        "from sklearn.svm import SVC\n"
      ]
    },
    {
      "cell_type": "code",
      "execution_count": null,
      "metadata": {
        "id": "_jBWRQBWr7FB"
      },
      "outputs": [],
      "source": [
        "# Load the TensorBoard notebook extension\n",
        "%load_ext tensorboard"
      ]
    },
    {
      "cell_type": "code",
      "execution_count": null,
      "metadata": {
        "id": "B4KfxMyfr83l"
      },
      "outputs": [],
      "source": [
        "SEED = 42\n",
        "AUTOTUNE = tf.data.AUTOTUNE"
      ]
    },
    {
      "cell_type": "code",
      "execution_count": null,
      "metadata": {
        "id": "XWUmTcRRsO7i"
      },
      "outputs": [],
      "source": [
        "# Specify the path to your Excel file and the encoding\n",
        "#path_to_file = \"labeled_data_processed.xlsx\"\n",
        "\n",
        "df = pd.read_excel('labeled_data_processed.xlsx')"
      ]
    },
    {
      "cell_type": "code",
      "execution_count": null,
      "metadata": {
        "id": "6sykp6yJcnz3"
      },
      "outputs": [],
      "source": [
        "df = df.dropna(subset=['cleaned_text', 'food_quality', 'environment', 'service', 'convenience', 'cost_effectiveness'])"
      ]
    },
    {
      "cell_type": "code",
      "execution_count": null,
      "metadata": {
        "id": "a7uhk7o3k682",
        "colab": {
          "base_uri": "https://localhost:8080/"
        },
        "outputId": "ac3fbcbd-ec86-49af-82ce-bd50ae5c2d9a"
      },
      "outputs": [
        {
          "output_type": "stream",
          "name": "stderr",
          "text": [
            "[nltk_data] Downloading package punkt to /root/nltk_data...\n",
            "[nltk_data]   Package punkt is already up-to-date!\n"
          ]
        }
      ],
      "source": [
        "nltk.download('punkt')  # Download NLTK's punkt tokenizer\n",
        "nlp = spacy.load(\"en_core_web_sm\")  # Load spaCy's English model\n",
        "stemmer = PorterStemmer()  # Initialize the Porter Stemmer\n",
        "\n",
        "def stem_and_lemmatize(text):\n",
        "    # Tokenize the text using NLTK's punkt tokenizer\n",
        "    tokens = nltk.word_tokenize(text)\n",
        "\n",
        "    # Stem each token using NLTK's Porter Stemmer\n",
        "    stemmed_tokens = [stemmer.stem(token) for token in tokens]\n",
        "\n",
        "    # Join the stemmed tokens back into a text\n",
        "    stemmed_text = ' '.join(stemmed_tokens)\n",
        "\n",
        "    # Lemmatize the text using spaCy\n",
        "    doc = nlp(stemmed_text)\n",
        "    lemmatized_tokens = [token.lemma_ for token in doc]\n",
        "\n",
        "    # Join the lemmatized tokens back into a text\n",
        "    lemmatized_text = ' '.join(lemmatized_tokens)\n",
        "\n",
        "    return lemmatized_text\n",
        "\n",
        "df['cleaned_text'] = df['cleaned_text'].apply(stem_and_lemmatize)"
      ]
    },
    {
      "cell_type": "code",
      "execution_count": null,
      "metadata": {
        "id": "7HJQFBCtUfoy"
      },
      "outputs": [],
      "source": [
        "selected_columns = ['cleaned_text', 'food_quality', 'environment', 'service', 'convenience', 'cost_effectiveness']\n",
        "df = df[selected_columns]"
      ]
    },
    {
      "cell_type": "code",
      "execution_count": null,
      "metadata": {
        "id": "CetQpUlMVHg9"
      },
      "outputs": [],
      "source": [
        "X = df['cleaned_text']\n",
        "y = df[['food_quality', 'environment', 'service', 'convenience', 'cost_effectiveness']]\n",
        "X_train, X_test, y_train, y_test = train_test_split(X, y, test_size=0.2, random_state=42)"
      ]
    },
    {
      "cell_type": "code",
      "execution_count": null,
      "metadata": {
        "id": "hz4zvhOwyEVU"
      },
      "outputs": [],
      "source": [
        "# Access the column in the DataFrame that contains the text\n",
        "text_column = X_train\n",
        "\n",
        "# Create a TextLineDataset from the text_column\n",
        "text_ds = tf.data.Dataset.from_tensor_slices(text_column)\n",
        "\n",
        "# Apply filtering as needed\n",
        "text_ds = text_ds.filter(lambda x: tf.cast(tf.strings.length(x), bool))\n",
        "\n",
        "# Define the vocabulary size and the number of words in a sequence.\n",
        "vocab_size = 4096\n",
        "sequence_length = 800\n",
        "\n",
        "# Use the TextVectorization layer with the custom standardization\n",
        "vectorize_layer = layers.TextVectorization(\n",
        "    #standardize=custom_standardization,\n",
        "    max_tokens=vocab_size,\n",
        "    output_mode='int',\n",
        "    output_sequence_length=sequence_length)\n",
        "\n",
        "# Adapt the layer to the text data\n",
        "vectorize_layer.adapt(text_ds.batch(1024))\n"
      ]
    },
    {
      "cell_type": "code",
      "execution_count": null,
      "metadata": {
        "id": "9QI4o7akEYZZ"
      },
      "outputs": [],
      "source": [
        "# Save the created vocabulary for reference\n",
        "inverse_vocab = vectorize_layer.get_vocabulary()"
      ]
    },
    {
      "cell_type": "code",
      "execution_count": null,
      "metadata": {
        "id": "f8eh-QEGEa2t"
      },
      "outputs": [],
      "source": [
        "# Vectorize the data in text_ds.\n",
        "text_vector_ds = text_ds.batch(1024).prefetch(AUTOTUNE).map(vectorize_layer).unbatch()"
      ]
    },
    {
      "cell_type": "code",
      "execution_count": null,
      "metadata": {
        "id": "F13vBo2JEHdD"
      },
      "outputs": [],
      "source": [
        "sequences = list(text_vector_ds.as_numpy_iterator())"
      ]
    },
    {
      "cell_type": "code",
      "execution_count": null,
      "metadata": {
        "id": "CNEW6zO2F3zV"
      },
      "outputs": [],
      "source": [
        "# Generates skip-gram pairs with negative sampling for a list of sequences\n",
        "# (int-encoded sentences) based on window size, number of negative samples\n",
        "# and vocabulary size.\n",
        "def generate_training_data(sequences, window_size, num_ns, vocab_size, seed):\n",
        "  # Elements of each training example are appended to these lists.\n",
        "  targets, contexts, labels = [], [], []\n",
        "\n",
        "  # Build the sampling table for `vocab_size` tokens.\n",
        "  sampling_table = tf.keras.preprocessing.sequence.make_sampling_table(vocab_size)\n",
        "\n",
        "  # Iterate over all sequences (sentences) in the dataset.\n",
        "  for sequence in tqdm.tqdm(sequences):\n",
        "\n",
        "    # Generate positive skip-gram pairs for a sequence (sentence).\n",
        "    positive_skip_grams, _ = tf.keras.preprocessing.sequence.skipgrams(\n",
        "          sequence,\n",
        "          vocabulary_size=vocab_size,\n",
        "          sampling_table=sampling_table,\n",
        "          window_size=window_size,\n",
        "          negative_samples=0)\n",
        "\n",
        "    # Iterate over each positive skip-gram pair to produce training examples\n",
        "    # with a positive context word and negative samples.\n",
        "    for target_word, context_word in positive_skip_grams:\n",
        "      context_class = tf.expand_dims(\n",
        "          tf.constant([context_word], dtype=\"int64\"), 1)\n",
        "      negative_sampling_candidates, _, _ = tf.random.log_uniform_candidate_sampler(\n",
        "          true_classes=context_class,\n",
        "          num_true=1,\n",
        "          num_sampled=num_ns,\n",
        "          unique=True,\n",
        "          range_max=vocab_size,\n",
        "          seed=seed,\n",
        "          name=\"negative_sampling\")\n",
        "\n",
        "      # Build context and label vectors (for one target word)\n",
        "      context = tf.concat([tf.squeeze(context_class,1), negative_sampling_candidates], 0)\n",
        "      label = tf.constant([1] + [0]*num_ns, dtype=\"int64\")\n",
        "\n",
        "      # Append each element from the training example to global lists.\n",
        "      targets.append(target_word)\n",
        "      contexts.append(context)\n",
        "      labels.append(label)\n",
        "\n",
        "  return targets, contexts, labels"
      ]
    },
    {
      "cell_type": "code",
      "execution_count": null,
      "metadata": {
        "id": "jzFHTihhFs1X",
        "colab": {
          "base_uri": "https://localhost:8080/"
        },
        "outputId": "e1048df8-35a6-412d-c02e-afc8136b08b2"
      },
      "outputs": [
        {
          "output_type": "stream",
          "name": "stderr",
          "text": [
            "100%|██████████| 867/867 [00:08<00:00, 104.12it/s]\n"
          ]
        },
        {
          "output_type": "stream",
          "name": "stdout",
          "text": [
            "\n",
            "\n",
            "targets.shape: (24899,)\n",
            "contexts.shape: (24899, 5)\n",
            "labels.shape: (24899, 5)\n"
          ]
        }
      ],
      "source": [
        "targets, contexts, labels = generate_training_data(\n",
        "    sequences=sequences,\n",
        "    window_size=2,\n",
        "    num_ns=4,\n",
        "    vocab_size=vocab_size,\n",
        "    seed=SEED)\n",
        "\n",
        "targets = np.array(targets)\n",
        "contexts = np.array(contexts)\n",
        "labels = np.array(labels)\n",
        "\n",
        "print('\\n')\n",
        "print(f\"targets.shape: {targets.shape}\")\n",
        "print(f\"contexts.shape: {contexts.shape}\")\n",
        "print(f\"labels.shape: {labels.shape}\")"
      ]
    },
    {
      "cell_type": "code",
      "execution_count": null,
      "metadata": {
        "id": "CgsW5BpxF_Mm",
        "colab": {
          "base_uri": "https://localhost:8080/"
        },
        "outputId": "3fcadc87-42c9-48d9-b306-a3b6cf887e6a"
      },
      "outputs": [
        {
          "output_type": "stream",
          "name": "stdout",
          "text": [
            "<_BatchDataset element_spec=((TensorSpec(shape=(1024,), dtype=tf.int64, name=None), TensorSpec(shape=(1024, 5), dtype=tf.int64, name=None)), TensorSpec(shape=(1024, 5), dtype=tf.int64, name=None))>\n"
          ]
        }
      ],
      "source": [
        "BATCH_SIZE = 1024\n",
        "BUFFER_SIZE = 10000\n",
        "dataset = tf.data.Dataset.from_tensor_slices(((targets, contexts), labels))\n",
        "dataset = dataset.shuffle(BUFFER_SIZE).batch(BATCH_SIZE, drop_remainder=True)\n",
        "print(dataset)"
      ]
    },
    {
      "cell_type": "code",
      "execution_count": null,
      "metadata": {
        "id": "19RflqMLGFnj"
      },
      "outputs": [],
      "source": [
        "dataset = dataset.cache().prefetch(buffer_size=AUTOTUNE)"
      ]
    },
    {
      "cell_type": "code",
      "execution_count": null,
      "metadata": {
        "id": "hhDnzL68GHvo"
      },
      "outputs": [],
      "source": [
        "# Set the number of negative samples per positive context.\n",
        "num_ns = 4\n",
        "\n",
        "class Word2Vec(tf.keras.Model):\n",
        "  def __init__(self, vocab_size, embedding_dim):\n",
        "    super(Word2Vec, self).__init__()\n",
        "    self.target_embedding = layers.Embedding(vocab_size,\n",
        "                                      embedding_dim,\n",
        "                                      input_length=1,\n",
        "                                      name=\"w2v_embedding\")\n",
        "    self.context_embedding = layers.Embedding(vocab_size,\n",
        "                                       embedding_dim,\n",
        "                                       input_length=num_ns+1)\n",
        "\n",
        "  def call(self, pair):\n",
        "    target, context = pair\n",
        "    # target: (batch, dummy?)  # The dummy axis doesn't exist in TF2.7+\n",
        "    # context: (batch, context)\n",
        "    if len(target.shape) == 2:\n",
        "      target = tf.squeeze(target, axis=1)\n",
        "    # target: (batch,)\n",
        "    word_emb = self.target_embedding(target)\n",
        "    # word_emb: (batch, embed)\n",
        "    context_emb = self.context_embedding(context)\n",
        "    # context_emb: (batch, context, embed)\n",
        "    dots = tf.einsum('be,bce->bc', word_emb, context_emb)\n",
        "    # dots: (batch, context)\n",
        "    return dots"
      ]
    },
    {
      "cell_type": "code",
      "execution_count": null,
      "metadata": {
        "id": "bRihQgsuGKPv"
      },
      "outputs": [],
      "source": [
        "def custom_loss(x_logit, y_true):\n",
        "      return tf.nn.sigmoid_cross_entropy_with_logits(logits=x_logit, labels=y_true)"
      ]
    },
    {
      "cell_type": "code",
      "execution_count": null,
      "metadata": {
        "id": "WzvfQyAoGQkp"
      },
      "outputs": [],
      "source": [
        "embedding_dim = 128\n",
        "word2vec = Word2Vec(vocab_size, embedding_dim)\n",
        "word2vec.compile(optimizer='adam',\n",
        "                 loss=tf.keras.losses.CategoricalCrossentropy(from_logits=True),\n",
        "                 metrics=['accuracy'])"
      ]
    },
    {
      "cell_type": "code",
      "execution_count": null,
      "metadata": {
        "id": "3rjsswEZG8Gf"
      },
      "outputs": [],
      "source": [
        "tensorboard_callback = tf.keras.callbacks.TensorBoard(log_dir=\"logs\")"
      ]
    },
    {
      "cell_type": "code",
      "execution_count": null,
      "metadata": {
        "id": "Q8USXDTsHFz1",
        "colab": {
          "base_uri": "https://localhost:8080/"
        },
        "outputId": "765e4d33-5a95-41df-b832-4717d9da812c"
      },
      "outputs": [
        {
          "output_type": "stream",
          "name": "stdout",
          "text": [
            "Epoch 1/20\n",
            "24/24 [==============================] - 1s 21ms/step - loss: 1.6092 - accuracy: 0.2107\n",
            "Epoch 2/20\n",
            "24/24 [==============================] - 0s 16ms/step - loss: 1.5975 - accuracy: 0.6050\n",
            "Epoch 3/20\n",
            "24/24 [==============================] - 0s 15ms/step - loss: 1.5845 - accuracy: 0.8016\n",
            "Epoch 4/20\n",
            "24/24 [==============================] - 0s 16ms/step - loss: 1.5652 - accuracy: 0.8776\n",
            "Epoch 5/20\n",
            "24/24 [==============================] - 0s 16ms/step - loss: 1.5362 - accuracy: 0.8992\n",
            "Epoch 6/20\n",
            "24/24 [==============================] - 0s 15ms/step - loss: 1.4947 - accuracy: 0.9041\n",
            "Epoch 7/20\n",
            "24/24 [==============================] - 0s 15ms/step - loss: 1.4402 - accuracy: 0.9022\n",
            "Epoch 8/20\n",
            "24/24 [==============================] - 0s 16ms/step - loss: 1.3745 - accuracy: 0.8984\n",
            "Epoch 9/20\n",
            "24/24 [==============================] - 0s 16ms/step - loss: 1.3007 - accuracy: 0.8969\n",
            "Epoch 10/20\n",
            "24/24 [==============================] - 0s 16ms/step - loss: 1.2217 - accuracy: 0.8982\n",
            "Epoch 11/20\n",
            "24/24 [==============================] - 0s 15ms/step - loss: 1.1401 - accuracy: 0.9021\n",
            "Epoch 12/20\n",
            "24/24 [==============================] - 0s 15ms/step - loss: 1.0575 - accuracy: 0.9088\n",
            "Epoch 13/20\n",
            "24/24 [==============================] - 0s 15ms/step - loss: 0.9755 - accuracy: 0.9156\n",
            "Epoch 14/20\n",
            "24/24 [==============================] - 0s 16ms/step - loss: 0.8955 - accuracy: 0.9231\n",
            "Epoch 15/20\n",
            "24/24 [==============================] - 0s 15ms/step - loss: 0.8187 - accuracy: 0.9301\n",
            "Epoch 16/20\n",
            "24/24 [==============================] - 0s 16ms/step - loss: 0.7462 - accuracy: 0.9366\n",
            "Epoch 17/20\n",
            "24/24 [==============================] - 0s 16ms/step - loss: 0.6786 - accuracy: 0.9434\n",
            "Epoch 18/20\n",
            "24/24 [==============================] - 0s 17ms/step - loss: 0.6164 - accuracy: 0.9497\n",
            "Epoch 19/20\n",
            "24/24 [==============================] - 1s 22ms/step - loss: 0.5597 - accuracy: 0.9547\n",
            "Epoch 20/20\n",
            "24/24 [==============================] - 1s 22ms/step - loss: 0.5084 - accuracy: 0.9598\n"
          ]
        },
        {
          "output_type": "execute_result",
          "data": {
            "text/plain": [
              "<keras.src.callbacks.History at 0x7bc3f430ec50>"
            ]
          },
          "metadata": {},
          "execution_count": 34
        }
      ],
      "source": [
        "word2vec.fit(dataset, epochs=20, callbacks=[tensorboard_callback])"
      ]
    },
    {
      "cell_type": "code",
      "execution_count": null,
      "metadata": {
        "id": "JgewmI6_M8xf"
      },
      "outputs": [],
      "source": [
        "weights = word2vec.get_layer('w2v_embedding').get_weights()[0]\n",
        "vocab = vectorize_layer.get_vocabulary()"
      ]
    },
    {
      "cell_type": "code",
      "execution_count": null,
      "metadata": {
        "id": "E-USuP9BXL9G"
      },
      "outputs": [],
      "source": [
        "w2v_dict = {key: value for key, value in zip(vocab, weights)}"
      ]
    },
    {
      "cell_type": "code",
      "execution_count": null,
      "metadata": {
        "id": "c5AO9zV9Xxw3"
      },
      "outputs": [],
      "source": [
        "def get_vector(data, dictionary):\n",
        "  embedding=[]\n",
        "  for sentence in data:\n",
        "    words = sentence.split()\n",
        "    values = [dictionary[key] if key in dictionary else 0 for key in words]\n",
        "    embedding.append(np.mean(values, axis=0))\n",
        "  return embedding"
      ]
    },
    {
      "cell_type": "code",
      "execution_count": null,
      "metadata": {
        "id": "Ro4J5oVeZdSZ"
      },
      "outputs": [],
      "source": [
        "vector_X_train = get_vector(X_train, w2v_dict)\n",
        "vector_X_test = get_vector(X_test, w2v_dict)"
      ]
    },
    {
      "cell_type": "markdown",
      "metadata": {
        "id": "keP50OXNSiV_"
      },
      "source": [
        "# maching learning"
      ]
    },
    {
      "cell_type": "markdown",
      "metadata": {
        "id": "0GzDZqECtrIH"
      },
      "source": [
        "**Food**"
      ]
    },
    {
      "cell_type": "code",
      "execution_count": null,
      "metadata": {
        "id": "JtqgZdlDqMUZ"
      },
      "outputs": [],
      "source": [
        "ytrain1 = y_train.iloc[:,0]"
      ]
    },
    {
      "cell_type": "code",
      "execution_count": null,
      "metadata": {
        "id": "MDS47KzPpRRO"
      },
      "outputs": [],
      "source": [
        "from imblearn.over_sampling import SMOTE\n",
        "oversample = SMOTE()\n",
        "over_X_train, over_ytrain1 = oversample.fit_resample (vector_X_train, ytrain1)"
      ]
    },
    {
      "cell_type": "code",
      "execution_count": null,
      "metadata": {
        "id": "f_aTlglqljSZ"
      },
      "outputs": [],
      "source": [
        "from sklearn.metrics import f1_score\n",
        "logistic_regression_model = LogisticRegression()\n",
        "\n",
        "# Fit the model on the training set\n",
        "logistic_regression_model.fit(over_X_train, over_ytrain1)\n",
        "\n",
        "# Predict on the testing set\n",
        "y_pred = logistic_regression_model.predict(vector_X_test)\n",
        "\n",
        "# Evaluate the model\n",
        "accuracy = accuracy_score(y_test.iloc[:,0], y_pred)\n",
        "conf_matrix = confusion_matrix(y_test.iloc[:,0], y_pred)\n",
        "classification_rep = classification_report(y_test.iloc[:,0], y_pred,output_dict=True)\n",
        "macro_f1_loistic_food = classification_rep['macro avg']['f1-score']\n",
        "micro_f1_loistic_food = f1_score(y_test.iloc[:,0], y_pred, average = 'micro')"
      ]
    },
    {
      "cell_type": "code",
      "execution_count": null,
      "metadata": {
        "id": "NX5yI3xepzv-"
      },
      "outputs": [],
      "source": [
        "# Create an instance of the SGDClassifier\n",
        "linear_sgd_model = SGDClassifier()\n",
        "\n",
        "# Fit the model on the training set\n",
        "linear_sgd_model.fit(over_X_train, over_ytrain1)\n",
        "\n",
        "# Predict on the testing set\n",
        "y_pred = linear_sgd_model.predict(vector_X_test)\n",
        "\n",
        "# Evaluate the model\n",
        "accuracy = accuracy_score(y_test.iloc[:, 0], y_pred)\n",
        "conf_matrix = confusion_matrix(y_test.iloc[:, 0], y_pred)\n",
        "classification_rep = classification_report(y_test.iloc[:, 0], y_pred,output_dict=True)\n",
        "macro_f1_sgd_food = classification_rep['macro avg']['f1-score']\n",
        "micro_f1_sgd_food = f1_score(y_test.iloc[:,0], y_pred, average = 'micro')"
      ]
    },
    {
      "cell_type": "code",
      "execution_count": null,
      "metadata": {
        "id": "wx2iAEsNqJUH"
      },
      "outputs": [],
      "source": [
        "# Create an instance of the RandomForestClassifier\n",
        "random_forest_model = RandomForestClassifier()\n",
        "\n",
        "# Fit the model on the training set\n",
        "random_forest_model.fit(over_X_train, over_ytrain1)\n",
        "\n",
        "# Predict on the testing set\n",
        "y_pred = random_forest_model.predict(vector_X_test)\n",
        "\n",
        "# Evaluate the model\n",
        "accuracy = accuracy_score(y_test.iloc[:, 0], y_pred)\n",
        "conf_matrix = confusion_matrix(y_test.iloc[:, 0], y_pred)\n",
        "classification_rep = classification_report(y_test.iloc[:, 0], y_pred,output_dict=True)\n",
        "macro_f1_rf_food = classification_rep['macro avg']['f1-score']\n",
        "micro_f1_rf_food = f1_score(y_test.iloc[:,0], y_pred, average = 'micro')"
      ]
    },
    {
      "cell_type": "code",
      "execution_count": null,
      "metadata": {
        "id": "gFuhJwGwJs1B"
      },
      "outputs": [],
      "source": [
        "# Create an instance of the RandomForestClassifier\n",
        "DT_model = tree.DecisionTreeClassifier()\n",
        "\n",
        "# Fit the model on the training set\n",
        "DT_model.fit(over_X_train, over_ytrain1)\n",
        "\n",
        "# Predict on the testing set\n",
        "y_pred = DT_model.predict(vector_X_test)\n",
        "\n",
        "# Evaluate the model\n",
        "accuracy = accuracy_score(y_test.iloc[:, 0], y_pred)\n",
        "conf_matrix = confusion_matrix(y_test.iloc[:, 0], y_pred)\n",
        "classification_rep = classification_report(y_test.iloc[:, 0], y_pred,output_dict=True)\n",
        "macro_f1_dt_food = classification_rep['macro avg']['f1-score']\n",
        "micro_f1_dt_food = f1_score(y_test.iloc[:,0], y_pred, average = 'micro')"
      ]
    },
    {
      "cell_type": "code",
      "execution_count": null,
      "metadata": {
        "id": "Ivd4jv0wKAoQ"
      },
      "outputs": [],
      "source": [
        "# Create an instance of the RandomForestClassifier\n",
        "NB_model = BernoulliNB()\n",
        "\n",
        "# Fit the model on the training set\n",
        "NB_model.fit(over_X_train, over_ytrain1)\n",
        "\n",
        "# Predict on the testing set\n",
        "y_pred = NB_model.predict(vector_X_test)\n",
        "\n",
        "# Evaluate the model\n",
        "accuracy = accuracy_score(y_test.iloc[:, 0], y_pred)\n",
        "conf_matrix = confusion_matrix(y_test.iloc[:, 0], y_pred)\n",
        "classification_rep = classification_report(y_test.iloc[:, 0], y_pred,output_dict=True)\n",
        "macro_f1_nb_food = classification_rep['macro avg']['f1-score']\n",
        "micro_f1_nb_food = f1_score(y_test.iloc[:,0], y_pred, average = 'micro')"
      ]
    },
    {
      "cell_type": "code",
      "execution_count": null,
      "metadata": {
        "id": "52oxTKXyt1sp"
      },
      "outputs": [],
      "source": [
        "clf = SVC()\n",
        "clf.fit(over_X_train, over_ytrain1)\n",
        "y_pred = clf.predict(vector_X_test)\n",
        "\n",
        "# Evaluate the model\n",
        "accuracy = accuracy_score(y_test.iloc[:, 0], y_pred)\n",
        "conf_matrix = confusion_matrix(y_test.iloc[:, 0], y_pred)\n",
        "classification_rep = classification_report(y_test.iloc[:, 0], y_pred,output_dict=True)\n",
        "macro_f1_svc_food = classification_rep['macro avg']['f1-score']\n",
        "micro_f1_svc_food = f1_score(y_test.iloc[:,0], y_pred, average = 'micro')"
      ]
    },
    {
      "cell_type": "code",
      "execution_count": null,
      "metadata": {
        "id": "ZcSPx-ndKJc6"
      },
      "outputs": [],
      "source": [
        "macro_f1_food=[macro_f1_nb_food,macro_f1_dt_food,macro_f1_rf_food,macro_f1_sgd_food,macro_f1_loistic_food,macro_f1_svc_food]"
      ]
    },
    {
      "cell_type": "markdown",
      "metadata": {
        "id": "0una3F5Ktjd2"
      },
      "source": [
        "**Environ**"
      ]
    },
    {
      "cell_type": "code",
      "execution_count": null,
      "metadata": {
        "id": "wncIkkx-siDU"
      },
      "outputs": [],
      "source": [
        "ytrain2 = y_train.iloc[:,1]\n",
        "oversample = SMOTE()\n",
        "over_X_train, over_ytrain2 = oversample.fit_resample (vector_X_train, ytrain2)\n",
        "\n",
        "logistic_regression_model = LogisticRegression()\n",
        "\n",
        "# Fit the model on the training set\n",
        "logistic_regression_model.fit(over_X_train, over_ytrain2)\n",
        "\n",
        "# Predict on the testing set\n",
        "y_pred = logistic_regression_model.predict(vector_X_test)\n",
        "\n",
        "# Evaluate the model\n",
        "accuracy = accuracy_score(y_test.iloc[:,1], y_pred)\n",
        "conf_matrix = confusion_matrix(y_test.iloc[:,1], y_pred)\n",
        "classification_rep = classification_report(y_test.iloc[:, 1], y_pred,output_dict=True)\n",
        "macro_f1_logistic_en = classification_rep['macro avg']['f1-score']\n",
        "micro_f1_loistic_food = f1_score(y_test.iloc[:,0], y_pred, average = 'micro')"
      ]
    },
    {
      "cell_type": "code",
      "execution_count": null,
      "metadata": {
        "id": "95IvcmiDs-Rs"
      },
      "outputs": [],
      "source": [
        "# Create an instance of the SGDClassifier\n",
        "linear_sgd_model = SGDClassifier()\n",
        "\n",
        "# Fit the model on the training set\n",
        "linear_sgd_model.fit(over_X_train, over_ytrain2)\n",
        "\n",
        "# Predict on the testing set\n",
        "y_pred = linear_sgd_model.predict(vector_X_test)\n",
        "\n",
        "# Evaluate the model\n",
        "accuracy = accuracy_score(y_test.iloc[:, 1], y_pred)\n",
        "conf_matrix = confusion_matrix(y_test.iloc[:, 1], y_pred)\n",
        "classification_rep = classification_report(y_test.iloc[:, 1], y_pred,output_dict=True)\n",
        "macro_f1_sgd_en = classification_rep['macro avg']['f1-score']"
      ]
    },
    {
      "cell_type": "code",
      "execution_count": null,
      "metadata": {
        "id": "ZsiFTlZqtRDS"
      },
      "outputs": [],
      "source": [
        "# Create an instance of the RandomForestClassifier\n",
        "random_forest_model = RandomForestClassifier()\n",
        "\n",
        "# Fit the model on the training set\n",
        "random_forest_model.fit(over_X_train, over_ytrain2)\n",
        "\n",
        "# Predict on the testing set\n",
        "y_pred = random_forest_model.predict(vector_X_test)\n",
        "\n",
        "# Evaluate the model\n",
        "accuracy = accuracy_score(y_test.iloc[:, 1], y_pred)\n",
        "conf_matrix = confusion_matrix(y_test.iloc[:, 1], y_pred)\n",
        "classification_rep = classification_report(y_test.iloc[:, 1], y_pred,output_dict=True)\n",
        "macro_f1_rf_en = classification_rep['macro avg']['f1-score']"
      ]
    },
    {
      "cell_type": "code",
      "execution_count": null,
      "metadata": {
        "id": "_QMJ5_a4Oco1"
      },
      "outputs": [],
      "source": [
        "# Create an instance of the RandomForestClassifier\n",
        "DT_model = tree.DecisionTreeClassifier()\n",
        "\n",
        "# Fit the model on the training set\n",
        "DT_model.fit(over_X_train, over_ytrain2)\n",
        "\n",
        "# Predict on the testing set\n",
        "y_pred = DT_model.predict(vector_X_test)\n",
        "\n",
        "# Evaluate the model\n",
        "accuracy = accuracy_score(y_test.iloc[:, 1], y_pred)\n",
        "conf_matrix = confusion_matrix(y_test.iloc[:, 1], y_pred)\n",
        "classification_rep = classification_report(y_test.iloc[:, 1], y_pred,output_dict=True)\n",
        "macro_f1_dt_en = classification_rep['macro avg']['f1-score']"
      ]
    },
    {
      "cell_type": "code",
      "execution_count": null,
      "metadata": {
        "id": "z3fWHRLQOfuW"
      },
      "outputs": [],
      "source": [
        "# Create an instance of the RandomForestClassifier\n",
        "NB_model = BernoulliNB()\n",
        "\n",
        "# Fit the model on the training set\n",
        "NB_model.fit(over_X_train, over_ytrain2)\n",
        "\n",
        "# Predict on the testing set\n",
        "y_pred = NB_model.predict(vector_X_test)\n",
        "\n",
        "# Evaluate the model\n",
        "accuracy = accuracy_score(y_test.iloc[:, 1], y_pred)\n",
        "conf_matrix = confusion_matrix(y_test.iloc[:, 1], y_pred)\n",
        "classification_rep = classification_report(y_test.iloc[:, 1], y_pred,output_dict=True)\n",
        "macro_f1_nb_en = classification_rep['macro avg']['f1-score']"
      ]
    },
    {
      "cell_type": "code",
      "execution_count": null,
      "metadata": {
        "id": "gsBhDbn_ts9m"
      },
      "outputs": [],
      "source": [
        "clf = SVC()\n",
        "clf.fit(over_X_train, over_ytrain2)\n",
        "y_pred = clf.predict(vector_X_test)\n",
        "\n",
        "# Evaluate the model\n",
        "accuracy = accuracy_score(y_test.iloc[:, 1], y_pred)\n",
        "conf_matrix = confusion_matrix(y_test.iloc[:, 1], y_pred)\n",
        "classification_rep = classification_report(y_test.iloc[:, 1], y_pred,output_dict=True)\n",
        "macro_f1_svc_en = classification_rep['macro avg']['f1-score']"
      ]
    },
    {
      "cell_type": "code",
      "execution_count": null,
      "metadata": {
        "id": "k_Dy_tPaOlky"
      },
      "outputs": [],
      "source": [
        "macro_f1_en=[macro_f1_nb_en,macro_f1_dt_en,macro_f1_rf_en,macro_f1_sgd_en,macro_f1_logistic_en,macro_f1_svc_en]"
      ]
    },
    {
      "cell_type": "markdown",
      "metadata": {
        "id": "Ur3J_ea_t0eM"
      },
      "source": [
        "**Service**"
      ]
    },
    {
      "cell_type": "code",
      "execution_count": null,
      "metadata": {
        "id": "v3y7KMJ6uCpm"
      },
      "outputs": [],
      "source": [
        "ytrain3 = y_train.iloc[:,2]\n",
        "oversample = SMOTE()\n",
        "over_X_train, over_ytrain3 = oversample.fit_resample (vector_X_train, ytrain3)\n",
        "\n",
        "# Create an instance of the SGDClassifier\n",
        "linear_sgd_model = SGDClassifier()\n",
        "\n",
        "# Fit the model on the training set\n",
        "linear_sgd_model.fit(over_X_train, over_ytrain3)\n",
        "# Create an instance of the SGDClassifier\n",
        "linear_sgd_model = SGDClassifier()\n",
        "\n",
        "# Fit the model on the training set\n",
        "linear_sgd_model.fit(over_X_train, over_ytrain3)\n",
        "\n",
        "# Predict on the testing set\n",
        "y_pred = linear_sgd_model.predict(vector_X_test)\n",
        "\n",
        "# Evaluate the model\n",
        "accuracy = accuracy_score(y_test.iloc[:, 2], y_pred)\n",
        "conf_matrix = confusion_matrix(y_test.iloc[:, 2], y_pred)\n",
        "classification_rep = classification_report(y_test.iloc[:, 2], y_pred,output_dict=True)\n",
        "macro_f1_sgd_ser = classification_rep['macro avg']['f1-score']"
      ]
    },
    {
      "cell_type": "code",
      "execution_count": null,
      "metadata": {
        "id": "YXMm6u6JuRiV"
      },
      "outputs": [],
      "source": [
        "# Create an instance of the RandomForestClassifier\n",
        "random_forest_model = RandomForestClassifier()\n",
        "\n",
        "# Fit the model on the training set\n",
        "random_forest_model.fit(over_X_train, over_ytrain3)\n",
        "\n",
        "# Predict on the testing set\n",
        "y_pred = random_forest_model.predict(vector_X_test)\n",
        "\n",
        "# Evaluate the model\n",
        "accuracy = accuracy_score(y_test.iloc[:, 2], y_pred)\n",
        "conf_matrix = confusion_matrix(y_test.iloc[:, 2], y_pred)\n",
        "classification_rep = classification_report(y_test.iloc[:, 2], y_pred,output_dict=True)\n",
        "macro_f1_rf_ser = classification_rep['macro avg']['f1-score']"
      ]
    },
    {
      "cell_type": "code",
      "execution_count": null,
      "metadata": {
        "id": "j8p9Cj71PK5g"
      },
      "outputs": [],
      "source": [
        "logistic_regression_model = LogisticRegression()\n",
        "\n",
        "# Fit the model on the training set\n",
        "logistic_regression_model.fit(over_X_train, over_ytrain3)\n",
        "\n",
        "# Predict on the testing set\n",
        "y_pred = logistic_regression_model.predict(vector_X_test)\n",
        "\n",
        "# Evaluate the model\n",
        "accuracy = accuracy_score(y_test.iloc[:,2], y_pred)\n",
        "conf_matrix = confusion_matrix(y_test.iloc[:,2], y_pred)\n",
        "classification_rep = classification_report(y_test.iloc[:, 2], y_pred,output_dict=True)\n",
        "macro_f1_logistic_ser = classification_rep['macro avg']['f1-score']"
      ]
    },
    {
      "cell_type": "code",
      "execution_count": null,
      "metadata": {
        "id": "gnQEiiX7PeAq"
      },
      "outputs": [],
      "source": [
        "# Create an instance of the RandomForestClassifier\n",
        "NB_model = BernoulliNB()\n",
        "\n",
        "# Fit the model on the training set\n",
        "NB_model.fit(over_X_train, over_ytrain3)\n",
        "\n",
        "# Predict on the testing set\n",
        "y_pred = NB_model.predict(vector_X_test)\n",
        "\n",
        "# Evaluate the model\n",
        "accuracy = accuracy_score(y_test.iloc[:, 2], y_pred)\n",
        "conf_matrix = confusion_matrix(y_test.iloc[:, 2], y_pred)\n",
        "classification_rep = classification_report(y_test.iloc[:, 2], y_pred,output_dict=True)\n",
        "macro_f1_nb_ser = classification_rep['macro avg']['f1-score']"
      ]
    },
    {
      "cell_type": "code",
      "execution_count": null,
      "metadata": {
        "id": "D4HeHPrNPosG"
      },
      "outputs": [],
      "source": [
        "# Create an instance of the RandomForestClassifier\n",
        "DT_model = tree.DecisionTreeClassifier()\n",
        "\n",
        "# Fit the model on the training set\n",
        "DT_model.fit(over_X_train, over_ytrain3)\n",
        "\n",
        "# Predict on the testing set\n",
        "y_pred = DT_model.predict(vector_X_test)\n",
        "\n",
        "# Evaluate the model\n",
        "accuracy = accuracy_score(y_test.iloc[:, 2], y_pred)\n",
        "conf_matrix = confusion_matrix(y_test.iloc[:, 2], y_pred)\n",
        "classification_rep = classification_report(y_test.iloc[:, 2], y_pred,output_dict=True)\n",
        "macro_f1_dt_ser = classification_rep['macro avg']['f1-score']"
      ]
    },
    {
      "cell_type": "code",
      "execution_count": null,
      "metadata": {
        "id": "N9l-oMKItfcl"
      },
      "outputs": [],
      "source": [
        "clf = SVC()\n",
        "clf.fit(over_X_train, over_ytrain3)\n",
        "y_pred = clf.predict(vector_X_test)\n",
        "\n",
        "# Evaluate the model\n",
        "accuracy = accuracy_score(y_test.iloc[:, 2], y_pred)\n",
        "conf_matrix = confusion_matrix(y_test.iloc[:, 2], y_pred)\n",
        "classification_rep = classification_report(y_test.iloc[:, 2], y_pred,output_dict=True)\n",
        "macro_f1_svc_ser = classification_rep['macro avg']['f1-score']"
      ]
    },
    {
      "cell_type": "code",
      "execution_count": null,
      "metadata": {
        "id": "oE0YgbQ0Pqxi"
      },
      "outputs": [],
      "source": [
        "macro_f1_ser=[macro_f1_nb_ser,macro_f1_dt_ser,macro_f1_rf_ser,macro_f1_sgd_ser,macro_f1_logistic_ser,macro_f1_svc_ser]"
      ]
    },
    {
      "cell_type": "markdown",
      "metadata": {
        "id": "AxdjnzR4ubOo"
      },
      "source": [
        "**Convenience**"
      ]
    },
    {
      "cell_type": "code",
      "execution_count": null,
      "metadata": {
        "id": "67DLoNu_umYO"
      },
      "outputs": [],
      "source": [
        "ytrain4 = y_train.iloc[:,3]\n",
        "oversample = SMOTE()\n",
        "over_X_train, over_ytrain4 = oversample.fit_resample (vector_X_train, ytrain4)\n",
        "\n",
        "logistic_regression_model = LogisticRegression()\n",
        "\n",
        "# Fit the model on the training set\n",
        "logistic_regression_model.fit(over_X_train, over_ytrain4)\n",
        "\n",
        "# Predict on the testing set\n",
        "y_pred = logistic_regression_model.predict(vector_X_test)\n",
        "\n",
        "# Evaluate the model\n",
        "accuracy = accuracy_score(y_test.iloc[:,3], y_pred)\n",
        "conf_matrix = confusion_matrix(y_test.iloc[:,3], y_pred)\n",
        "classification_rep = classification_report(y_test.iloc[:, 3], y_pred,output_dict=True)\n",
        "macro_f1_logistic_con = classification_rep['macro avg']['f1-score']"
      ]
    },
    {
      "cell_type": "code",
      "execution_count": null,
      "metadata": {
        "id": "7gPu2DpgvAYt"
      },
      "outputs": [],
      "source": [
        "# Create an instance of the SGDClassifier\n",
        "linear_sgd_model = SGDClassifier()\n",
        "\n",
        "# Fit the model on the training set\n",
        "linear_sgd_model.fit(over_X_train, over_ytrain4)\n",
        "\n",
        "# Predict on the testing set\n",
        "y_pred = linear_sgd_model.predict(vector_X_test)\n",
        "\n",
        "# Evaluate the model\n",
        "accuracy = accuracy_score(y_test.iloc[:, 3], y_pred)\n",
        "conf_matrix = confusion_matrix(y_test.iloc[:, 3], y_pred)\n",
        "classification_rep = classification_report(y_test.iloc[:, 3], y_pred,output_dict=True)\n",
        "macro_f1_sgd_con = classification_rep['macro avg']['f1-score']"
      ]
    },
    {
      "cell_type": "code",
      "execution_count": null,
      "metadata": {
        "id": "9V4iC8G3vdNu"
      },
      "outputs": [],
      "source": [
        "# Create an instance of the RandomForestClassifier\n",
        "random_forest_model = RandomForestClassifier()\n",
        "\n",
        "# Fit the model on the training set\n",
        "random_forest_model.fit(over_X_train, over_ytrain4)\n",
        "\n",
        "# Predict on the testing set\n",
        "y_pred = random_forest_model.predict(vector_X_test)\n",
        "\n",
        "# Evaluate the model\n",
        "accuracy = accuracy_score(y_test.iloc[:, 3], y_pred)\n",
        "conf_matrix = confusion_matrix(y_test.iloc[:, 3], y_pred)\n",
        "classification_rep = classification_report(y_test.iloc[:, 3], y_pred,output_dict=True)\n",
        "macro_f1_rf_con = classification_rep['macro avg']['f1-score']"
      ]
    },
    {
      "cell_type": "code",
      "execution_count": null,
      "metadata": {
        "id": "d9UaWyGmRO4F"
      },
      "outputs": [],
      "source": [
        "# Create an instance of the RandomForestClassifier\n",
        "DT_model = tree.DecisionTreeClassifier()\n",
        "\n",
        "# Fit the model on the training set\n",
        "DT_model.fit(over_X_train, over_ytrain4)\n",
        "\n",
        "# Predict on the testing set\n",
        "y_pred = DT_model.predict(vector_X_test)\n",
        "\n",
        "# Evaluate the model\n",
        "accuracy = accuracy_score(y_test.iloc[:, 3], y_pred)\n",
        "conf_matrix = confusion_matrix(y_test.iloc[:, 3], y_pred)\n",
        "classification_rep = classification_report(y_test.iloc[:, 3], y_pred,output_dict=True)\n",
        "macro_f1_dt_con = classification_rep['macro avg']['f1-score']"
      ]
    },
    {
      "cell_type": "code",
      "execution_count": null,
      "metadata": {
        "id": "usPCHEU9Rc_F"
      },
      "outputs": [],
      "source": [
        "# Create an instance of the RandomForestClassifier\n",
        "NB_model = BernoulliNB()\n",
        "\n",
        "# Fit the model on the training set\n",
        "NB_model.fit(over_X_train, over_ytrain4)\n",
        "\n",
        "# Predict on the testing set\n",
        "y_pred = NB_model.predict(vector_X_test)\n",
        "\n",
        "# Evaluate the model\n",
        "accuracy = accuracy_score(y_test.iloc[:, 3], y_pred)\n",
        "conf_matrix = confusion_matrix(y_test.iloc[:, 3], y_pred)\n",
        "classification_rep = classification_report(y_test.iloc[:, 3], y_pred,output_dict=True)\n",
        "macro_f1_nb_con = classification_rep['macro avg']['f1-score']"
      ]
    },
    {
      "cell_type": "code",
      "execution_count": null,
      "metadata": {
        "id": "hWo0ufYYs-4B"
      },
      "outputs": [],
      "source": [
        "clf = SVC()\n",
        "clf.fit(over_X_train, over_ytrain4)\n",
        "y_pred = clf.predict(vector_X_test)\n",
        "\n",
        "# Evaluate the model\n",
        "accuracy = accuracy_score(y_test.iloc[:, 3], y_pred)\n",
        "conf_matrix = confusion_matrix(y_test.iloc[:, 3], y_pred)\n",
        "classification_rep = classification_report(y_test.iloc[:, 3], y_pred,output_dict=True)\n",
        "macro_f1_svc_con = classification_rep['macro avg']['f1-score']"
      ]
    },
    {
      "cell_type": "code",
      "execution_count": null,
      "metadata": {
        "id": "3brU43vmRjk3"
      },
      "outputs": [],
      "source": [
        "macro_f1_con=[macro_f1_nb_con,macro_f1_dt_con,macro_f1_rf_con,macro_f1_sgd_con,macro_f1_logistic_con,macro_f1_svc_con]"
      ]
    },
    {
      "cell_type": "markdown",
      "metadata": {
        "id": "I3QHbG4Nvmo_"
      },
      "source": [
        "**Cost effective**"
      ]
    },
    {
      "cell_type": "code",
      "execution_count": null,
      "metadata": {
        "id": "b-8EWdX-vxx1"
      },
      "outputs": [],
      "source": [
        "ytrain5 = y_train.iloc[:,4]\n",
        "oversample = SMOTE()\n",
        "over_X_train, over_ytrain5 = oversample.fit_resample (vector_X_train, ytrain5)\n",
        "\n",
        "logistic_regression_model = LogisticRegression()\n",
        "\n",
        "# Fit the model on the training set\n",
        "logistic_regression_model.fit(over_X_train, over_ytrain5)\n",
        "\n",
        "# Predict on the testing set\n",
        "y_pred = logistic_regression_model.predict(vector_X_test)\n",
        "\n",
        "# Evaluate the model\n",
        "accuracy = accuracy_score(y_test.iloc[:,4], y_pred)\n",
        "conf_matrix = confusion_matrix(y_test.iloc[:,4], y_pred)\n",
        "classification_rep = classification_report(y_test.iloc[:, 4], y_pred,output_dict=True)\n",
        "macro_f1_logistic_ce = classification_rep['macro avg']['f1-score']"
      ]
    },
    {
      "cell_type": "code",
      "execution_count": null,
      "metadata": {
        "id": "1BvDy211v_c3"
      },
      "outputs": [],
      "source": [
        "# Create an instance of the SGDClassifier\n",
        "linear_sgd_model = SGDClassifier()\n",
        "\n",
        "# Fit the model on the training set\n",
        "linear_sgd_model.fit(over_X_train, over_ytrain5)\n",
        "\n",
        "# Predict on the testing set\n",
        "y_pred = linear_sgd_model.predict(vector_X_test)\n",
        "\n",
        "# Evaluate the model\n",
        "accuracy = accuracy_score(y_test.iloc[:, 4], y_pred)\n",
        "conf_matrix = confusion_matrix(y_test.iloc[:, 4], y_pred)\n",
        "classification_rep = classification_report(y_test.iloc[:, 4], y_pred,output_dict=True)\n",
        "macro_f1_sgd_ce = classification_rep['macro avg']['f1-score']"
      ]
    },
    {
      "cell_type": "code",
      "execution_count": null,
      "metadata": {
        "id": "X0XKAa6LwHng"
      },
      "outputs": [],
      "source": [
        "# Create an instance of the RandomForestClassifier\n",
        "random_forest_model = RandomForestClassifier()\n",
        "\n",
        "# Fit the model on the training set\n",
        "random_forest_model.fit(over_X_train, over_ytrain5)\n",
        "\n",
        "# Predict on the testing set\n",
        "y_pred = random_forest_model.predict(vector_X_test)\n",
        "\n",
        "# Evaluate the model\n",
        "accuracy = accuracy_score(y_test.iloc[:, 4], y_pred)\n",
        "conf_matrix = confusion_matrix(y_test.iloc[:, 4], y_pred)\n",
        "classification_rep = classification_report(y_test.iloc[:, 4], y_pred,output_dict=True)\n",
        "macro_f1_rf_ce = classification_rep['macro avg']['f1-score']"
      ]
    },
    {
      "cell_type": "code",
      "execution_count": null,
      "metadata": {
        "id": "8jFKiEwORsMX"
      },
      "outputs": [],
      "source": [
        "# Create an instance of the RandomForestClassifier\n",
        "DT_model = tree.DecisionTreeClassifier()\n",
        "\n",
        "# Fit the model on the training set\n",
        "DT_model.fit(over_X_train, over_ytrain5)\n",
        "\n",
        "# Predict on the testing set\n",
        "y_pred = DT_model.predict(vector_X_test)\n",
        "\n",
        "# Evaluate the model\n",
        "accuracy = accuracy_score(y_test.iloc[:, 4], y_pred)\n",
        "conf_matrix = confusion_matrix(y_test.iloc[:, 4], y_pred)\n",
        "classification_rep = classification_report(y_test.iloc[:, 4], y_pred,output_dict=True)\n",
        "macro_f1_dt_ce = classification_rep['macro avg']['f1-score']"
      ]
    },
    {
      "cell_type": "code",
      "execution_count": null,
      "metadata": {
        "id": "1wRqJO8ER-eI"
      },
      "outputs": [],
      "source": [
        "# Create an instance of the RandomForestClassifier\n",
        "NB_model = BernoulliNB()\n",
        "\n",
        "# Fit the model on the training set\n",
        "NB_model.fit(over_X_train, over_ytrain5)\n",
        "\n",
        "# Predict on the testing set\n",
        "y_pred = NB_model.predict(vector_X_test)\n",
        "\n",
        "# Evaluate the model\n",
        "accuracy = accuracy_score(y_test.iloc[:, 4], y_pred)\n",
        "conf_matrix = confusion_matrix(y_test.iloc[:, 4], y_pred)\n",
        "classification_rep = classification_report(y_test.iloc[:, 4], y_pred,output_dict=True)\n",
        "macro_f1_nb_ce = classification_rep['macro avg']['f1-score']"
      ]
    },
    {
      "cell_type": "code",
      "execution_count": null,
      "metadata": {
        "id": "PJxHIrtDsz0e"
      },
      "outputs": [],
      "source": [
        "clf = SVC()\n",
        "clf.fit(over_X_train, over_ytrain5)\n",
        "y_pred = clf.predict(vector_X_test)\n",
        "\n",
        "# Evaluate the model\n",
        "accuracy = accuracy_score(y_test.iloc[:, 4], y_pred)\n",
        "conf_matrix = confusion_matrix(y_test.iloc[:, 4], y_pred)\n",
        "classification_rep = classification_report(y_test.iloc[:, 4], y_pred,output_dict=True)\n",
        "macro_f1_svc_ce = classification_rep['macro avg']['f1-score']"
      ]
    },
    {
      "cell_type": "code",
      "source": [
        "macro_f1_ce=[macro_f1_nb_ce,macro_f1_dt_ce,macro_f1_rf_ce,macro_f1_sgd_ce,macro_f1_logistic_ce,macro_f1_svc_ce]"
      ],
      "metadata": {
        "id": "45B2I64SKSwY"
      },
      "execution_count": null,
      "outputs": []
    },
    {
      "cell_type": "code",
      "execution_count": null,
      "metadata": {
        "id": "iNb8_9baXx6_"
      },
      "outputs": [],
      "source": [
        "model=[\"Naive Bayes\",\"Decision Tree\", \"Random Forest\", \"SGD\", \"Logistic\",\"SVM\"]\n",
        "data = {'Model': model, 'Food': macro_f1_food, 'Environment': macro_f1_en, \"Service\":macro_f1_ser,\n",
        "        \"Convinience\":macro_f1_con, \"Cost Effectiveness\":macro_f1_ce}"
      ]
    },
    {
      "cell_type": "code",
      "execution_count": null,
      "metadata": {
        "id": "dJksUnytY13k"
      },
      "outputs": [],
      "source": [
        "df = pd.DataFrame(data)\n",
        "df = df.T\n",
        "df = df.drop(df.index[0])"
      ]
    },
    {
      "cell_type": "code",
      "source": [
        "f1_metric = f1_metric.T\n",
        "f1_metric"
      ],
      "metadata": {
        "colab": {
          "base_uri": "https://localhost:8080/",
          "height": 206
        },
        "id": "IqDpr9wlK_NT",
        "outputId": "495b9674-d37f-43cd-f10a-3ab7d6ab1aed"
      },
      "execution_count": null,
      "outputs": [
        {
          "output_type": "execute_result",
          "data": {
            "text/plain": [
              "                    decision_tree  naive_bayes  linear_SGD_classifier  \\\n",
              "food_quality             0.432900     0.619048               0.296537   \n",
              "environment              0.604555     0.501035               0.283644   \n",
              "service                  0.697819     0.694704               0.308411   \n",
              "convenience              0.323529     0.333333               0.163399   \n",
              "cost_effectiveness       0.597148     0.411765               0.434938   \n",
              "\n",
              "                    logistic_regression  random_forest       svc  \n",
              "food_quality                   0.616883       0.623377  0.545455  \n",
              "environment                    0.534161       0.544513  0.525880  \n",
              "service                        0.838006       0.828660  0.781931  \n",
              "convenience                    0.334967       0.333333  0.333333  \n",
              "cost_effectiveness             0.513369       0.474153  0.486631  "
            ],
            "text/html": [
              "\n",
              "  <div id=\"df-bbf5626d-be4d-4fa7-afa3-aae96ed75e90\" class=\"colab-df-container\">\n",
              "    <div>\n",
              "<style scoped>\n",
              "    .dataframe tbody tr th:only-of-type {\n",
              "        vertical-align: middle;\n",
              "    }\n",
              "\n",
              "    .dataframe tbody tr th {\n",
              "        vertical-align: top;\n",
              "    }\n",
              "\n",
              "    .dataframe thead th {\n",
              "        text-align: right;\n",
              "    }\n",
              "</style>\n",
              "<table border=\"1\" class=\"dataframe\">\n",
              "  <thead>\n",
              "    <tr style=\"text-align: right;\">\n",
              "      <th></th>\n",
              "      <th>decision_tree</th>\n",
              "      <th>naive_bayes</th>\n",
              "      <th>linear_SGD_classifier</th>\n",
              "      <th>logistic_regression</th>\n",
              "      <th>random_forest</th>\n",
              "      <th>svc</th>\n",
              "    </tr>\n",
              "  </thead>\n",
              "  <tbody>\n",
              "    <tr>\n",
              "      <th>food_quality</th>\n",
              "      <td>0.432900</td>\n",
              "      <td>0.619048</td>\n",
              "      <td>0.296537</td>\n",
              "      <td>0.616883</td>\n",
              "      <td>0.623377</td>\n",
              "      <td>0.545455</td>\n",
              "    </tr>\n",
              "    <tr>\n",
              "      <th>environment</th>\n",
              "      <td>0.604555</td>\n",
              "      <td>0.501035</td>\n",
              "      <td>0.283644</td>\n",
              "      <td>0.534161</td>\n",
              "      <td>0.544513</td>\n",
              "      <td>0.525880</td>\n",
              "    </tr>\n",
              "    <tr>\n",
              "      <th>service</th>\n",
              "      <td>0.697819</td>\n",
              "      <td>0.694704</td>\n",
              "      <td>0.308411</td>\n",
              "      <td>0.838006</td>\n",
              "      <td>0.828660</td>\n",
              "      <td>0.781931</td>\n",
              "    </tr>\n",
              "    <tr>\n",
              "      <th>convenience</th>\n",
              "      <td>0.323529</td>\n",
              "      <td>0.333333</td>\n",
              "      <td>0.163399</td>\n",
              "      <td>0.334967</td>\n",
              "      <td>0.333333</td>\n",
              "      <td>0.333333</td>\n",
              "    </tr>\n",
              "    <tr>\n",
              "      <th>cost_effectiveness</th>\n",
              "      <td>0.597148</td>\n",
              "      <td>0.411765</td>\n",
              "      <td>0.434938</td>\n",
              "      <td>0.513369</td>\n",
              "      <td>0.474153</td>\n",
              "      <td>0.486631</td>\n",
              "    </tr>\n",
              "  </tbody>\n",
              "</table>\n",
              "</div>\n",
              "    <div class=\"colab-df-buttons\">\n",
              "\n",
              "  <div class=\"colab-df-container\">\n",
              "    <button class=\"colab-df-convert\" onclick=\"convertToInteractive('df-bbf5626d-be4d-4fa7-afa3-aae96ed75e90')\"\n",
              "            title=\"Convert this dataframe to an interactive table.\"\n",
              "            style=\"display:none;\">\n",
              "\n",
              "  <svg xmlns=\"http://www.w3.org/2000/svg\" height=\"24px\" viewBox=\"0 -960 960 960\">\n",
              "    <path d=\"M120-120v-720h720v720H120Zm60-500h600v-160H180v160Zm220 220h160v-160H400v160Zm0 220h160v-160H400v160ZM180-400h160v-160H180v160Zm440 0h160v-160H620v160ZM180-180h160v-160H180v160Zm440 0h160v-160H620v160Z\"/>\n",
              "  </svg>\n",
              "    </button>\n",
              "\n",
              "  <style>\n",
              "    .colab-df-container {\n",
              "      display:flex;\n",
              "      gap: 12px;\n",
              "    }\n",
              "\n",
              "    .colab-df-convert {\n",
              "      background-color: #E8F0FE;\n",
              "      border: none;\n",
              "      border-radius: 50%;\n",
              "      cursor: pointer;\n",
              "      display: none;\n",
              "      fill: #1967D2;\n",
              "      height: 32px;\n",
              "      padding: 0 0 0 0;\n",
              "      width: 32px;\n",
              "    }\n",
              "\n",
              "    .colab-df-convert:hover {\n",
              "      background-color: #E2EBFA;\n",
              "      box-shadow: 0px 1px 2px rgba(60, 64, 67, 0.3), 0px 1px 3px 1px rgba(60, 64, 67, 0.15);\n",
              "      fill: #174EA6;\n",
              "    }\n",
              "\n",
              "    .colab-df-buttons div {\n",
              "      margin-bottom: 4px;\n",
              "    }\n",
              "\n",
              "    [theme=dark] .colab-df-convert {\n",
              "      background-color: #3B4455;\n",
              "      fill: #D2E3FC;\n",
              "    }\n",
              "\n",
              "    [theme=dark] .colab-df-convert:hover {\n",
              "      background-color: #434B5C;\n",
              "      box-shadow: 0px 1px 3px 1px rgba(0, 0, 0, 0.15);\n",
              "      filter: drop-shadow(0px 1px 2px rgba(0, 0, 0, 0.3));\n",
              "      fill: #FFFFFF;\n",
              "    }\n",
              "  </style>\n",
              "\n",
              "    <script>\n",
              "      const buttonEl =\n",
              "        document.querySelector('#df-bbf5626d-be4d-4fa7-afa3-aae96ed75e90 button.colab-df-convert');\n",
              "      buttonEl.style.display =\n",
              "        google.colab.kernel.accessAllowed ? 'block' : 'none';\n",
              "\n",
              "      async function convertToInteractive(key) {\n",
              "        const element = document.querySelector('#df-bbf5626d-be4d-4fa7-afa3-aae96ed75e90');\n",
              "        const dataTable =\n",
              "          await google.colab.kernel.invokeFunction('convertToInteractive',\n",
              "                                                    [key], {});\n",
              "        if (!dataTable) return;\n",
              "\n",
              "        const docLinkHtml = 'Like what you see? Visit the ' +\n",
              "          '<a target=\"_blank\" href=https://colab.research.google.com/notebooks/data_table.ipynb>data table notebook</a>'\n",
              "          + ' to learn more about interactive tables.';\n",
              "        element.innerHTML = '';\n",
              "        dataTable['output_type'] = 'display_data';\n",
              "        await google.colab.output.renderOutput(dataTable, element);\n",
              "        const docLink = document.createElement('div');\n",
              "        docLink.innerHTML = docLinkHtml;\n",
              "        element.appendChild(docLink);\n",
              "      }\n",
              "    </script>\n",
              "  </div>\n",
              "\n",
              "\n",
              "<div id=\"df-7df2fc1e-88cc-4960-affc-9fd5ff8c9cae\">\n",
              "  <button class=\"colab-df-quickchart\" onclick=\"quickchart('df-7df2fc1e-88cc-4960-affc-9fd5ff8c9cae')\"\n",
              "            title=\"Suggest charts\"\n",
              "            style=\"display:none;\">\n",
              "\n",
              "<svg xmlns=\"http://www.w3.org/2000/svg\" height=\"24px\"viewBox=\"0 0 24 24\"\n",
              "     width=\"24px\">\n",
              "    <g>\n",
              "        <path d=\"M19 3H5c-1.1 0-2 .9-2 2v14c0 1.1.9 2 2 2h14c1.1 0 2-.9 2-2V5c0-1.1-.9-2-2-2zM9 17H7v-7h2v7zm4 0h-2V7h2v10zm4 0h-2v-4h2v4z\"/>\n",
              "    </g>\n",
              "</svg>\n",
              "  </button>\n",
              "\n",
              "<style>\n",
              "  .colab-df-quickchart {\n",
              "      --bg-color: #E8F0FE;\n",
              "      --fill-color: #1967D2;\n",
              "      --hover-bg-color: #E2EBFA;\n",
              "      --hover-fill-color: #174EA6;\n",
              "      --disabled-fill-color: #AAA;\n",
              "      --disabled-bg-color: #DDD;\n",
              "  }\n",
              "\n",
              "  [theme=dark] .colab-df-quickchart {\n",
              "      --bg-color: #3B4455;\n",
              "      --fill-color: #D2E3FC;\n",
              "      --hover-bg-color: #434B5C;\n",
              "      --hover-fill-color: #FFFFFF;\n",
              "      --disabled-bg-color: #3B4455;\n",
              "      --disabled-fill-color: #666;\n",
              "  }\n",
              "\n",
              "  .colab-df-quickchart {\n",
              "    background-color: var(--bg-color);\n",
              "    border: none;\n",
              "    border-radius: 50%;\n",
              "    cursor: pointer;\n",
              "    display: none;\n",
              "    fill: var(--fill-color);\n",
              "    height: 32px;\n",
              "    padding: 0;\n",
              "    width: 32px;\n",
              "  }\n",
              "\n",
              "  .colab-df-quickchart:hover {\n",
              "    background-color: var(--hover-bg-color);\n",
              "    box-shadow: 0 1px 2px rgba(60, 64, 67, 0.3), 0 1px 3px 1px rgba(60, 64, 67, 0.15);\n",
              "    fill: var(--button-hover-fill-color);\n",
              "  }\n",
              "\n",
              "  .colab-df-quickchart-complete:disabled,\n",
              "  .colab-df-quickchart-complete:disabled:hover {\n",
              "    background-color: var(--disabled-bg-color);\n",
              "    fill: var(--disabled-fill-color);\n",
              "    box-shadow: none;\n",
              "  }\n",
              "\n",
              "  .colab-df-spinner {\n",
              "    border: 2px solid var(--fill-color);\n",
              "    border-color: transparent;\n",
              "    border-bottom-color: var(--fill-color);\n",
              "    animation:\n",
              "      spin 1s steps(1) infinite;\n",
              "  }\n",
              "\n",
              "  @keyframes spin {\n",
              "    0% {\n",
              "      border-color: transparent;\n",
              "      border-bottom-color: var(--fill-color);\n",
              "      border-left-color: var(--fill-color);\n",
              "    }\n",
              "    20% {\n",
              "      border-color: transparent;\n",
              "      border-left-color: var(--fill-color);\n",
              "      border-top-color: var(--fill-color);\n",
              "    }\n",
              "    30% {\n",
              "      border-color: transparent;\n",
              "      border-left-color: var(--fill-color);\n",
              "      border-top-color: var(--fill-color);\n",
              "      border-right-color: var(--fill-color);\n",
              "    }\n",
              "    40% {\n",
              "      border-color: transparent;\n",
              "      border-right-color: var(--fill-color);\n",
              "      border-top-color: var(--fill-color);\n",
              "    }\n",
              "    60% {\n",
              "      border-color: transparent;\n",
              "      border-right-color: var(--fill-color);\n",
              "    }\n",
              "    80% {\n",
              "      border-color: transparent;\n",
              "      border-right-color: var(--fill-color);\n",
              "      border-bottom-color: var(--fill-color);\n",
              "    }\n",
              "    90% {\n",
              "      border-color: transparent;\n",
              "      border-bottom-color: var(--fill-color);\n",
              "    }\n",
              "  }\n",
              "</style>\n",
              "\n",
              "  <script>\n",
              "    async function quickchart(key) {\n",
              "      const quickchartButtonEl =\n",
              "        document.querySelector('#' + key + ' button');\n",
              "      quickchartButtonEl.disabled = true;  // To prevent multiple clicks.\n",
              "      quickchartButtonEl.classList.add('colab-df-spinner');\n",
              "      try {\n",
              "        const charts = await google.colab.kernel.invokeFunction(\n",
              "            'suggestCharts', [key], {});\n",
              "      } catch (error) {\n",
              "        console.error('Error during call to suggestCharts:', error);\n",
              "      }\n",
              "      quickchartButtonEl.classList.remove('colab-df-spinner');\n",
              "      quickchartButtonEl.classList.add('colab-df-quickchart-complete');\n",
              "    }\n",
              "    (() => {\n",
              "      let quickchartButtonEl =\n",
              "        document.querySelector('#df-7df2fc1e-88cc-4960-affc-9fd5ff8c9cae button');\n",
              "      quickchartButtonEl.style.display =\n",
              "        google.colab.kernel.accessAllowed ? 'block' : 'none';\n",
              "    })();\n",
              "  </script>\n",
              "</div>\n",
              "    </div>\n",
              "  </div>\n"
            ]
          },
          "metadata": {},
          "execution_count": 78
        }
      ]
    },
    {
      "cell_type": "code",
      "source": [
        "f1_metric['Naive Bayes_word2vec']= list(df.iloc[:,0])\n",
        "f1_metric['Decision Tree_word2vec']= list(df.iloc[:,1])\n",
        "f1_metric['Random Forest_word2vec']= list(df.iloc[:,2])\n",
        "f1_metric['SGD_word2vec']= list(df.iloc[:,3])\n",
        "f1_metric['Logistic_word2vec']= list(df.iloc[:,4])\n",
        "f1_metric['SVM_word2vec']= list(df.iloc[:,5])\n",
        "f1_metric['BERT']= [ 0.751224, 0.553662, 0.696538, 0.324600, 0.534528]\n",
        "f1_metric"
      ],
      "metadata": {
        "colab": {
          "base_uri": "https://localhost:8080/",
          "height": 244
        },
        "id": "Qgr8SarSLGPl",
        "outputId": "c9aca70c-4a57-4b30-a03c-f4fa6b4cbb7f"
      },
      "execution_count": null,
      "outputs": [
        {
          "output_type": "execute_result",
          "data": {
            "text/plain": [
              "                    decision_tree  naive_bayes  linear_SGD_classifier  \\\n",
              "food_quality             0.432900     0.619048               0.296537   \n",
              "environment              0.604555     0.501035               0.283644   \n",
              "service                  0.697819     0.694704               0.308411   \n",
              "convenience              0.323529     0.333333               0.163399   \n",
              "cost_effectiveness       0.597148     0.411765               0.434938   \n",
              "\n",
              "                    logistic_regression  random_forest       svc  \\\n",
              "food_quality                   0.616883       0.623377  0.545455   \n",
              "environment                    0.534161       0.544513  0.525880   \n",
              "service                        0.838006       0.828660  0.781931   \n",
              "convenience                    0.334967       0.333333  0.333333   \n",
              "cost_effectiveness             0.513369       0.474153  0.486631   \n",
              "\n",
              "                    Naive Bayes_word2vec  Decision Tree_word2vec  \\\n",
              "food_quality                    0.362837                0.377687   \n",
              "environment                     0.329211                0.311842   \n",
              "service                         0.445552                0.413372   \n",
              "convenience                     0.317136                0.344604   \n",
              "cost_effectiveness              0.362521                0.371790   \n",
              "\n",
              "                    Random Forest_word2vec  SGD_word2vec  Logistic_word2vec  \\\n",
              "food_quality                      0.346748      0.479247           0.534958   \n",
              "environment                       0.365052      0.373749           0.392959   \n",
              "service                           0.615484      0.568211           0.546562   \n",
              "convenience                       0.322222      0.310018           0.329259   \n",
              "cost_effectiveness                0.423643      0.390373           0.398577   \n",
              "\n",
              "                    SVM_word2vec      BERT  \n",
              "food_quality            0.520163  0.751224  \n",
              "environment             0.417601  0.553662  \n",
              "service                 0.607735  0.696538  \n",
              "convenience             0.311111  0.324600  \n",
              "cost_effectiveness      0.435306  0.534528  "
            ],
            "text/html": [
              "\n",
              "  <div id=\"df-41d3b73d-3fce-45c6-ac93-460d97e39935\" class=\"colab-df-container\">\n",
              "    <div>\n",
              "<style scoped>\n",
              "    .dataframe tbody tr th:only-of-type {\n",
              "        vertical-align: middle;\n",
              "    }\n",
              "\n",
              "    .dataframe tbody tr th {\n",
              "        vertical-align: top;\n",
              "    }\n",
              "\n",
              "    .dataframe thead th {\n",
              "        text-align: right;\n",
              "    }\n",
              "</style>\n",
              "<table border=\"1\" class=\"dataframe\">\n",
              "  <thead>\n",
              "    <tr style=\"text-align: right;\">\n",
              "      <th></th>\n",
              "      <th>decision_tree</th>\n",
              "      <th>naive_bayes</th>\n",
              "      <th>linear_SGD_classifier</th>\n",
              "      <th>logistic_regression</th>\n",
              "      <th>random_forest</th>\n",
              "      <th>svc</th>\n",
              "      <th>Naive Bayes_word2vec</th>\n",
              "      <th>Decision Tree_word2vec</th>\n",
              "      <th>Random Forest_word2vec</th>\n",
              "      <th>SGD_word2vec</th>\n",
              "      <th>Logistic_word2vec</th>\n",
              "      <th>SVM_word2vec</th>\n",
              "      <th>BERT</th>\n",
              "    </tr>\n",
              "  </thead>\n",
              "  <tbody>\n",
              "    <tr>\n",
              "      <th>food_quality</th>\n",
              "      <td>0.432900</td>\n",
              "      <td>0.619048</td>\n",
              "      <td>0.296537</td>\n",
              "      <td>0.616883</td>\n",
              "      <td>0.623377</td>\n",
              "      <td>0.545455</td>\n",
              "      <td>0.362837</td>\n",
              "      <td>0.377687</td>\n",
              "      <td>0.346748</td>\n",
              "      <td>0.479247</td>\n",
              "      <td>0.534958</td>\n",
              "      <td>0.520163</td>\n",
              "      <td>0.751224</td>\n",
              "    </tr>\n",
              "    <tr>\n",
              "      <th>environment</th>\n",
              "      <td>0.604555</td>\n",
              "      <td>0.501035</td>\n",
              "      <td>0.283644</td>\n",
              "      <td>0.534161</td>\n",
              "      <td>0.544513</td>\n",
              "      <td>0.525880</td>\n",
              "      <td>0.329211</td>\n",
              "      <td>0.311842</td>\n",
              "      <td>0.365052</td>\n",
              "      <td>0.373749</td>\n",
              "      <td>0.392959</td>\n",
              "      <td>0.417601</td>\n",
              "      <td>0.553662</td>\n",
              "    </tr>\n",
              "    <tr>\n",
              "      <th>service</th>\n",
              "      <td>0.697819</td>\n",
              "      <td>0.694704</td>\n",
              "      <td>0.308411</td>\n",
              "      <td>0.838006</td>\n",
              "      <td>0.828660</td>\n",
              "      <td>0.781931</td>\n",
              "      <td>0.445552</td>\n",
              "      <td>0.413372</td>\n",
              "      <td>0.615484</td>\n",
              "      <td>0.568211</td>\n",
              "      <td>0.546562</td>\n",
              "      <td>0.607735</td>\n",
              "      <td>0.696538</td>\n",
              "    </tr>\n",
              "    <tr>\n",
              "      <th>convenience</th>\n",
              "      <td>0.323529</td>\n",
              "      <td>0.333333</td>\n",
              "      <td>0.163399</td>\n",
              "      <td>0.334967</td>\n",
              "      <td>0.333333</td>\n",
              "      <td>0.333333</td>\n",
              "      <td>0.317136</td>\n",
              "      <td>0.344604</td>\n",
              "      <td>0.322222</td>\n",
              "      <td>0.310018</td>\n",
              "      <td>0.329259</td>\n",
              "      <td>0.311111</td>\n",
              "      <td>0.324600</td>\n",
              "    </tr>\n",
              "    <tr>\n",
              "      <th>cost_effectiveness</th>\n",
              "      <td>0.597148</td>\n",
              "      <td>0.411765</td>\n",
              "      <td>0.434938</td>\n",
              "      <td>0.513369</td>\n",
              "      <td>0.474153</td>\n",
              "      <td>0.486631</td>\n",
              "      <td>0.362521</td>\n",
              "      <td>0.371790</td>\n",
              "      <td>0.423643</td>\n",
              "      <td>0.390373</td>\n",
              "      <td>0.398577</td>\n",
              "      <td>0.435306</td>\n",
              "      <td>0.534528</td>\n",
              "    </tr>\n",
              "  </tbody>\n",
              "</table>\n",
              "</div>\n",
              "    <div class=\"colab-df-buttons\">\n",
              "\n",
              "  <div class=\"colab-df-container\">\n",
              "    <button class=\"colab-df-convert\" onclick=\"convertToInteractive('df-41d3b73d-3fce-45c6-ac93-460d97e39935')\"\n",
              "            title=\"Convert this dataframe to an interactive table.\"\n",
              "            style=\"display:none;\">\n",
              "\n",
              "  <svg xmlns=\"http://www.w3.org/2000/svg\" height=\"24px\" viewBox=\"0 -960 960 960\">\n",
              "    <path d=\"M120-120v-720h720v720H120Zm60-500h600v-160H180v160Zm220 220h160v-160H400v160Zm0 220h160v-160H400v160ZM180-400h160v-160H180v160Zm440 0h160v-160H620v160ZM180-180h160v-160H180v160Zm440 0h160v-160H620v160Z\"/>\n",
              "  </svg>\n",
              "    </button>\n",
              "\n",
              "  <style>\n",
              "    .colab-df-container {\n",
              "      display:flex;\n",
              "      gap: 12px;\n",
              "    }\n",
              "\n",
              "    .colab-df-convert {\n",
              "      background-color: #E8F0FE;\n",
              "      border: none;\n",
              "      border-radius: 50%;\n",
              "      cursor: pointer;\n",
              "      display: none;\n",
              "      fill: #1967D2;\n",
              "      height: 32px;\n",
              "      padding: 0 0 0 0;\n",
              "      width: 32px;\n",
              "    }\n",
              "\n",
              "    .colab-df-convert:hover {\n",
              "      background-color: #E2EBFA;\n",
              "      box-shadow: 0px 1px 2px rgba(60, 64, 67, 0.3), 0px 1px 3px 1px rgba(60, 64, 67, 0.15);\n",
              "      fill: #174EA6;\n",
              "    }\n",
              "\n",
              "    .colab-df-buttons div {\n",
              "      margin-bottom: 4px;\n",
              "    }\n",
              "\n",
              "    [theme=dark] .colab-df-convert {\n",
              "      background-color: #3B4455;\n",
              "      fill: #D2E3FC;\n",
              "    }\n",
              "\n",
              "    [theme=dark] .colab-df-convert:hover {\n",
              "      background-color: #434B5C;\n",
              "      box-shadow: 0px 1px 3px 1px rgba(0, 0, 0, 0.15);\n",
              "      filter: drop-shadow(0px 1px 2px rgba(0, 0, 0, 0.3));\n",
              "      fill: #FFFFFF;\n",
              "    }\n",
              "  </style>\n",
              "\n",
              "    <script>\n",
              "      const buttonEl =\n",
              "        document.querySelector('#df-41d3b73d-3fce-45c6-ac93-460d97e39935 button.colab-df-convert');\n",
              "      buttonEl.style.display =\n",
              "        google.colab.kernel.accessAllowed ? 'block' : 'none';\n",
              "\n",
              "      async function convertToInteractive(key) {\n",
              "        const element = document.querySelector('#df-41d3b73d-3fce-45c6-ac93-460d97e39935');\n",
              "        const dataTable =\n",
              "          await google.colab.kernel.invokeFunction('convertToInteractive',\n",
              "                                                    [key], {});\n",
              "        if (!dataTable) return;\n",
              "\n",
              "        const docLinkHtml = 'Like what you see? Visit the ' +\n",
              "          '<a target=\"_blank\" href=https://colab.research.google.com/notebooks/data_table.ipynb>data table notebook</a>'\n",
              "          + ' to learn more about interactive tables.';\n",
              "        element.innerHTML = '';\n",
              "        dataTable['output_type'] = 'display_data';\n",
              "        await google.colab.output.renderOutput(dataTable, element);\n",
              "        const docLink = document.createElement('div');\n",
              "        docLink.innerHTML = docLinkHtml;\n",
              "        element.appendChild(docLink);\n",
              "      }\n",
              "    </script>\n",
              "  </div>\n",
              "\n",
              "\n",
              "<div id=\"df-24c083b3-adaf-4913-a888-279708e3ec16\">\n",
              "  <button class=\"colab-df-quickchart\" onclick=\"quickchart('df-24c083b3-adaf-4913-a888-279708e3ec16')\"\n",
              "            title=\"Suggest charts\"\n",
              "            style=\"display:none;\">\n",
              "\n",
              "<svg xmlns=\"http://www.w3.org/2000/svg\" height=\"24px\"viewBox=\"0 0 24 24\"\n",
              "     width=\"24px\">\n",
              "    <g>\n",
              "        <path d=\"M19 3H5c-1.1 0-2 .9-2 2v14c0 1.1.9 2 2 2h14c1.1 0 2-.9 2-2V5c0-1.1-.9-2-2-2zM9 17H7v-7h2v7zm4 0h-2V7h2v10zm4 0h-2v-4h2v4z\"/>\n",
              "    </g>\n",
              "</svg>\n",
              "  </button>\n",
              "\n",
              "<style>\n",
              "  .colab-df-quickchart {\n",
              "      --bg-color: #E8F0FE;\n",
              "      --fill-color: #1967D2;\n",
              "      --hover-bg-color: #E2EBFA;\n",
              "      --hover-fill-color: #174EA6;\n",
              "      --disabled-fill-color: #AAA;\n",
              "      --disabled-bg-color: #DDD;\n",
              "  }\n",
              "\n",
              "  [theme=dark] .colab-df-quickchart {\n",
              "      --bg-color: #3B4455;\n",
              "      --fill-color: #D2E3FC;\n",
              "      --hover-bg-color: #434B5C;\n",
              "      --hover-fill-color: #FFFFFF;\n",
              "      --disabled-bg-color: #3B4455;\n",
              "      --disabled-fill-color: #666;\n",
              "  }\n",
              "\n",
              "  .colab-df-quickchart {\n",
              "    background-color: var(--bg-color);\n",
              "    border: none;\n",
              "    border-radius: 50%;\n",
              "    cursor: pointer;\n",
              "    display: none;\n",
              "    fill: var(--fill-color);\n",
              "    height: 32px;\n",
              "    padding: 0;\n",
              "    width: 32px;\n",
              "  }\n",
              "\n",
              "  .colab-df-quickchart:hover {\n",
              "    background-color: var(--hover-bg-color);\n",
              "    box-shadow: 0 1px 2px rgba(60, 64, 67, 0.3), 0 1px 3px 1px rgba(60, 64, 67, 0.15);\n",
              "    fill: var(--button-hover-fill-color);\n",
              "  }\n",
              "\n",
              "  .colab-df-quickchart-complete:disabled,\n",
              "  .colab-df-quickchart-complete:disabled:hover {\n",
              "    background-color: var(--disabled-bg-color);\n",
              "    fill: var(--disabled-fill-color);\n",
              "    box-shadow: none;\n",
              "  }\n",
              "\n",
              "  .colab-df-spinner {\n",
              "    border: 2px solid var(--fill-color);\n",
              "    border-color: transparent;\n",
              "    border-bottom-color: var(--fill-color);\n",
              "    animation:\n",
              "      spin 1s steps(1) infinite;\n",
              "  }\n",
              "\n",
              "  @keyframes spin {\n",
              "    0% {\n",
              "      border-color: transparent;\n",
              "      border-bottom-color: var(--fill-color);\n",
              "      border-left-color: var(--fill-color);\n",
              "    }\n",
              "    20% {\n",
              "      border-color: transparent;\n",
              "      border-left-color: var(--fill-color);\n",
              "      border-top-color: var(--fill-color);\n",
              "    }\n",
              "    30% {\n",
              "      border-color: transparent;\n",
              "      border-left-color: var(--fill-color);\n",
              "      border-top-color: var(--fill-color);\n",
              "      border-right-color: var(--fill-color);\n",
              "    }\n",
              "    40% {\n",
              "      border-color: transparent;\n",
              "      border-right-color: var(--fill-color);\n",
              "      border-top-color: var(--fill-color);\n",
              "    }\n",
              "    60% {\n",
              "      border-color: transparent;\n",
              "      border-right-color: var(--fill-color);\n",
              "    }\n",
              "    80% {\n",
              "      border-color: transparent;\n",
              "      border-right-color: var(--fill-color);\n",
              "      border-bottom-color: var(--fill-color);\n",
              "    }\n",
              "    90% {\n",
              "      border-color: transparent;\n",
              "      border-bottom-color: var(--fill-color);\n",
              "    }\n",
              "  }\n",
              "</style>\n",
              "\n",
              "  <script>\n",
              "    async function quickchart(key) {\n",
              "      const quickchartButtonEl =\n",
              "        document.querySelector('#' + key + ' button');\n",
              "      quickchartButtonEl.disabled = true;  // To prevent multiple clicks.\n",
              "      quickchartButtonEl.classList.add('colab-df-spinner');\n",
              "      try {\n",
              "        const charts = await google.colab.kernel.invokeFunction(\n",
              "            'suggestCharts', [key], {});\n",
              "      } catch (error) {\n",
              "        console.error('Error during call to suggestCharts:', error);\n",
              "      }\n",
              "      quickchartButtonEl.classList.remove('colab-df-spinner');\n",
              "      quickchartButtonEl.classList.add('colab-df-quickchart-complete');\n",
              "    }\n",
              "    (() => {\n",
              "      let quickchartButtonEl =\n",
              "        document.querySelector('#df-24c083b3-adaf-4913-a888-279708e3ec16 button');\n",
              "      quickchartButtonEl.style.display =\n",
              "        google.colab.kernel.accessAllowed ? 'block' : 'none';\n",
              "    })();\n",
              "  </script>\n",
              "</div>\n",
              "    </div>\n",
              "  </div>\n"
            ]
          },
          "metadata": {},
          "execution_count": 79
        }
      ]
    },
    {
      "cell_type": "code",
      "source": [
        "from scipy import stats\n",
        "\n",
        "# Assuming 'table' is your DataFrame\n",
        "num_models = 6\n",
        "alpha = 0.05\n",
        "\n",
        "for i in range(num_models):\n",
        "    for j in range(i + 1, num_models):\n",
        "        model_i_column = f1_metric.iloc[:, i]\n",
        "        model_j_column = f1_metric.iloc[:, j]\n",
        "\n",
        "        # Perform paired t-test\n",
        "        t_statistic, p_value = stats.ttest_rel(model_j_column, model_i_column, alternative='greater')\n",
        "\n",
        "        # Check if the p-value is less than alpha\n",
        "        if p_value < alpha:\n",
        "            print(f\"Models {i+1} and {j+1}: The mean of Model {i+1} is significantly greater than the mean of Model {j+1}.\")\n",
        "        else:\n",
        "            print(f\"Models {i+1} and {j+1}: There is no significant difference in means, or the mean of Model {j+1} is greater.\")"
      ],
      "metadata": {
        "colab": {
          "base_uri": "https://localhost:8080/"
        },
        "id": "OqZglgUyHRoR",
        "outputId": "68db5775-b64f-4a41-d16b-82dc0fede5c2"
      },
      "execution_count": null,
      "outputs": [
        {
          "output_type": "stream",
          "name": "stdout",
          "text": [
            "Models 1 and 2: There is no significant difference in means, or the mean of Model 2 is greater.\n",
            "Models 1 and 3: There is no significant difference in means, or the mean of Model 3 is greater.\n",
            "Models 1 and 4: There is no significant difference in means, or the mean of Model 4 is greater.\n",
            "Models 1 and 5: There is no significant difference in means, or the mean of Model 5 is greater.\n",
            "Models 1 and 6: There is no significant difference in means, or the mean of Model 6 is greater.\n",
            "Models 2 and 3: There is no significant difference in means, or the mean of Model 3 is greater.\n",
            "Models 2 and 4: There is no significant difference in means, or the mean of Model 4 is greater.\n",
            "Models 2 and 5: There is no significant difference in means, or the mean of Model 5 is greater.\n",
            "Models 2 and 6: There is no significant difference in means, or the mean of Model 6 is greater.\n",
            "Models 3 and 4: The mean of Model 3 is significantly greater than the mean of Model 4.\n",
            "Models 3 and 5: The mean of Model 3 is significantly greater than the mean of Model 5.\n",
            "Models 3 and 6: The mean of Model 3 is significantly greater than the mean of Model 6.\n",
            "Models 4 and 5: There is no significant difference in means, or the mean of Model 5 is greater.\n",
            "Models 4 and 6: There is no significant difference in means, or the mean of Model 6 is greater.\n",
            "Models 5 and 6: There is no significant difference in means, or the mean of Model 6 is greater.\n"
          ]
        }
      ]
    },
    {
      "cell_type": "code",
      "source": [
        "from scipy import stats\n",
        "\n",
        "# Assuming 'table' is your DataFrame\n",
        "num_models = 6\n",
        "alpha = 0.05\n",
        "\n",
        "for i in range(num_models):\n",
        "    for j in range(i + 1, num_models):\n",
        "        model_i_column = f1_metric.iloc[:, i+6]\n",
        "        model_j_column = f1_metric.iloc[:, j+6]\n",
        "\n",
        "        # Perform paired t-test\n",
        "        t_statistic, p_value = stats.ttest_rel(model_j_column, model_i_column, alternative='greater')\n",
        "\n",
        "        # Check if the p-value is less than alpha\n",
        "        if p_value < alpha:\n",
        "            print(f\"Models {i+1} and {j+1}: The mean of Model {i+1} is significantly greater than the mean of Model {j+1}.\")\n",
        "        else:\n",
        "            print(f\"Models {i+1} and {j+1}: There is no significant difference in means, or the mean of Model {j+1} is greater.\")"
      ],
      "metadata": {
        "colab": {
          "base_uri": "https://localhost:8080/"
        },
        "id": "9W8NaQt9H2-J",
        "outputId": "914c6448-a1bd-4a8d-c62c-ed03e7c03b39"
      },
      "execution_count": null,
      "outputs": [
        {
          "output_type": "stream",
          "name": "stdout",
          "text": [
            "Models 1 and 2: There is no significant difference in means, or the mean of Model 2 is greater.\n",
            "Models 1 and 3: There is no significant difference in means, or the mean of Model 3 is greater.\n",
            "Models 1 and 4: The mean of Model 1 is significantly greater than the mean of Model 4.\n",
            "Models 1 and 5: The mean of Model 1 is significantly greater than the mean of Model 5.\n",
            "Models 1 and 6: The mean of Model 1 is significantly greater than the mean of Model 6.\n",
            "Models 2 and 3: There is no significant difference in means, or the mean of Model 3 is greater.\n",
            "Models 2 and 4: There is no significant difference in means, or the mean of Model 4 is greater.\n",
            "Models 2 and 5: The mean of Model 2 is significantly greater than the mean of Model 5.\n",
            "Models 2 and 6: The mean of Model 2 is significantly greater than the mean of Model 6.\n",
            "Models 3 and 4: There is no significant difference in means, or the mean of Model 4 is greater.\n",
            "Models 3 and 5: There is no significant difference in means, or the mean of Model 5 is greater.\n",
            "Models 3 and 6: There is no significant difference in means, or the mean of Model 6 is greater.\n",
            "Models 4 and 5: There is no significant difference in means, or the mean of Model 5 is greater.\n",
            "Models 4 and 6: The mean of Model 4 is significantly greater than the mean of Model 6.\n",
            "Models 5 and 6: There is no significant difference in means, or the mean of Model 6 is greater.\n"
          ]
        }
      ]
    },
    {
      "cell_type": "code",
      "source": [
        "t_statistic, p_value = stats.ttest_rel(f1_metric.iloc[:, 5], f1_metric.iloc[:, -2], alternative='greater')\n",
        "\n",
        "if p_value < alpha:\n",
        "    print(f\"Model SVM_tfidf and SVM_Word2Vec: The performance of Model SVM_tfidf is significantly greater than Model SVM_Word2Vec.\")\n",
        "else:\n",
        "    print(f\"Model SVM_tfidf and SVM_Word2Vec: There is no significant difference in the performance of 2 Models.\")"
      ],
      "metadata": {
        "colab": {
          "base_uri": "https://localhost:8080/"
        },
        "id": "Q1QhAQenQGbG",
        "outputId": "0145dee8-9114-49d0-8508-ea8d3f15be13"
      },
      "execution_count": null,
      "outputs": [
        {
          "output_type": "stream",
          "name": "stdout",
          "text": [
            "Model SVM_tfidf and SVM_Word2Vec: The performance of Model SVM_tfidf is significantly greater than Model SVM_Word2Vec.\n"
          ]
        }
      ]
    },
    {
      "cell_type": "code",
      "source": [
        "t_statistic, p_value = stats.ttest_rel(f1_metric.iloc[:, 3], f1_metric.iloc[:, -3], alternative='greater')\n",
        "\n",
        "if p_value < alpha:\n",
        "    print(f\"Model logistic_tfidf and logistic_Word2Vec: The performance of Model logistic_tfidf is significantly greater than Model logistic_Word2Vec.\")\n",
        "else:\n",
        "    print(f\"Model logistic_tfidf and logistic_Word2Vec: There is no significant difference in the performance of 2 Models.\")"
      ],
      "metadata": {
        "colab": {
          "base_uri": "https://localhost:8080/"
        },
        "id": "0M9aybGBQuUk",
        "outputId": "578ea5e2-5621-43eb-a56d-e8e681dc7ad5"
      },
      "execution_count": null,
      "outputs": [
        {
          "output_type": "stream",
          "name": "stdout",
          "text": [
            "Model logistic_tfidf and logistic_Word2Vec: The performance of Model logistic_tfidf is significantly greater than Model logistic_Word2Vec.\n"
          ]
        }
      ]
    },
    {
      "cell_type": "code",
      "source": [
        "t_statistic, p_value = stats.ttest_rel(f1_metric.iloc[:, 2], f1_metric.iloc[:, -4], alternative='greater')\n",
        "\n",
        "if p_value < alpha:\n",
        "    print(f\"Model SGD_tfidf and SGD_Word2Vec: The performance of Model SGD_tfidf is significantly greater than Model SGD_Word2Vec.\")\n",
        "else:\n",
        "    print(f\"Model SGD_tfidf and SGD_Word2Vec: There is no significant difference in the performance of 2 Models.\")"
      ],
      "metadata": {
        "colab": {
          "base_uri": "https://localhost:8080/"
        },
        "id": "Bfyftt7AQ7Om",
        "outputId": "4b7e09a1-b477-4b5f-9cba-90dc268ce5da"
      },
      "execution_count": null,
      "outputs": [
        {
          "output_type": "stream",
          "name": "stdout",
          "text": [
            "Model SGD_tfidf and SGD_Word2Vec: There is no significant difference in the performance of 2 Models.\n"
          ]
        }
      ]
    },
    {
      "cell_type": "code",
      "source": [
        "lt = [5, 3, 2, -4, -1]\n",
        "\n",
        "for i in range(len(lt)):\n",
        "    for j in range(i + 1, len(lt)):\n",
        "        model_i_column = f1_metric.iloc[:, lt[i]]\n",
        "        model_j_column = f1_metric.iloc[:, j]\n",
        "\n",
        "        # Perform paired t-test\n",
        "        t_statistic, p_value = stats.ttest_rel(model_j_column, model_i_column, alternative='greater')\n",
        "\n",
        "        # Check if the p-value is less than alpha\n",
        "        if p_value < alpha:\n",
        "            print(f\"Models {i+1} and {j+1}: The mean of Model {i+1} is significantly greater than the mean of Model {j+1}.\")\n",
        "        else:\n",
        "            print(f\"Models {i+1} and {j+1}: There is no significant difference in means, or the mean of Model {j+1} is greater.\")"
      ],
      "metadata": {
        "colab": {
          "base_uri": "https://localhost:8080/"
        },
        "id": "hVDnaNJPOKfS",
        "outputId": "0a336e05-b0cf-49c9-8237-b7cdecd30e67"
      },
      "execution_count": null,
      "outputs": [
        {
          "output_type": "stream",
          "name": "stdout",
          "text": [
            "Models 1 and 2: There is no significant difference in means, or the mean of Model 2 is greater.\n",
            "Models 1 and 3: There is no significant difference in means, or the mean of Model 3 is greater.\n",
            "Models 1 and 4: The mean of Model 1 is significantly greater than the mean of Model 4.\n",
            "Models 1 and 5: There is no significant difference in means, or the mean of Model 5 is greater.\n",
            "Models 2 and 3: There is no significant difference in means, or the mean of Model 3 is greater.\n",
            "Models 2 and 4: There is no significant difference in means, or the mean of Model 4 is greater.\n",
            "Models 2 and 5: There is no significant difference in means, or the mean of Model 5 is greater.\n",
            "Models 3 and 4: The mean of Model 3 is significantly greater than the mean of Model 4.\n",
            "Models 3 and 5: The mean of Model 3 is significantly greater than the mean of Model 5.\n",
            "Models 4 and 5: The mean of Model 4 is significantly greater than the mean of Model 5.\n"
          ]
        }
      ]
    },
    {
      "cell_type": "code",
      "source": [
        "import pandas as pd\n",
        "from scipy import stats\n",
        "\n",
        "# Assuming you have a DataFrame named f1_metric\n",
        "# and a list of model names\n",
        "model_names = [\n",
        "    'Decision_Tree_tfidf', 'Naive_Bayes_tfidf', 'SGD_tfidf',\n",
        "    'Logistic_tfidf', 'Random_Forest_tfidf', 'SVC_tfidf',\n",
        "    'Naive_Bayes_word2vec', 'Decision_Tree_word2vec', 'Random_Forest_word2vec',\n",
        "    'SGD_word2vec', 'Logistic_word2vec', 'SVC_word2vec'\n",
        "]\n",
        "\n",
        "alpha = 0.05  # Set your desired alpha level\n",
        "\n",
        "for i in range(12):\n",
        "    model_i_column = f1_metric.iloc[:, i]\n",
        "    model_j_column = f1_metric.iloc[:, -1]\n",
        "\n",
        "    # Perform paired t-test\n",
        "    t_statistic, p_value = stats.ttest_rel(model_j_column, model_i_column, alternative='greater')\n",
        "\n",
        "    # Get the model name for the current index\n",
        "    model_name = model_names[i]\n",
        "\n",
        "    # Check if the p-value is less than alpha\n",
        "    if p_value < alpha:\n",
        "        print(f\"Model BERT and Model {model_name}: The performance of BERT is significantly greater than {model_name}.\")\n",
        "    else:\n",
        "        print(f\"Model BERT and Model {model_name}: There is no significant difference in performance for two models\")\n"
      ],
      "metadata": {
        "colab": {
          "base_uri": "https://localhost:8080/"
        },
        "id": "NqEwgTgQV6xW",
        "outputId": "1a89c566-8225-4a3e-876b-886cdf46eae0"
      },
      "execution_count": null,
      "outputs": [
        {
          "output_type": "stream",
          "name": "stdout",
          "text": [
            "Model BERT and Model Decision_Tree_tfidf: There is no significant difference in performance for two models\n",
            "Model BERT and Model Naive_Bayes_tfidf: There is no significant difference in performance for two models\n",
            "Model BERT and Model SGD_tfidf: The performance of BERT is significantly greater than SGD_tfidf.\n",
            "Model BERT and Model Logistic_tfidf: There is no significant difference in performance for two models\n",
            "Model BERT and Model Random_Forest_tfidf: There is no significant difference in performance for two models\n",
            "Model BERT and Model SVC_tfidf: There is no significant difference in performance for two models\n",
            "Model BERT and Model Naive_Bayes_word2vec: The performance of BERT is significantly greater than Naive_Bayes_word2vec.\n",
            "Model BERT and Model Decision_Tree_word2vec: The performance of BERT is significantly greater than Decision_Tree_word2vec.\n",
            "Model BERT and Model Random_Forest_word2vec: The performance of BERT is significantly greater than Random_Forest_word2vec.\n",
            "Model BERT and Model SGD_word2vec: The performance of BERT is significantly greater than SGD_word2vec.\n",
            "Model BERT and Model Logistic_word2vec: The performance of BERT is significantly greater than Logistic_word2vec.\n",
            "Model BERT and Model SVC_word2vec: The performance of BERT is significantly greater than SVC_word2vec.\n"
          ]
        }
      ]
    },
    {
      "cell_type": "markdown",
      "source": [
        "# RNN"
      ],
      "metadata": {
        "id": "d4_YKfFdErfn"
      }
    },
    {
      "cell_type": "code",
      "source": [
        "import tensorflow as tf\n",
        "from sklearn.utils.class_weight import compute_class_weight\n",
        "import numpy as np\n",
        "\n",
        "# Assuming vector_X_train and vector_X_test are defined earlier\n",
        "\n",
        "# Number of loops (adjust based on the number of columns in y_train)\n",
        "num_loops = 5\n",
        "timesteps = 128  # Set the value based on your data\n",
        "\n",
        "# Store history for each model\n",
        "history_list = []\n",
        "\n",
        "for i in range(num_loops):\n",
        "    print(i)\n",
        "    # Extract y_train and y_test for the current loop\n",
        "    y_train_loop = y_train.iloc[:, i]\n",
        "    y_test_loop = y_test.iloc[:, i]\n",
        "\n",
        "    # Create a mapping dictionary\n",
        "    class_mapping_loop = {-1: 0, 0: 1, 1: 2}\n",
        "\n",
        "    # Map values using the dictionary\n",
        "    y_train_map_loop = y_train_loop.map(class_mapping_loop)\n",
        "    y_test_map_loop = y_test_loop.map(class_mapping_loop)\n",
        "\n",
        "    # Convert to numpy arrays\n",
        "    y_train_np_loop = np.array(y_train_map_loop)\n",
        "    y_test_np_loop = np.array(y_test_map_loop)\n",
        "\n",
        "    # Compute class weights\n",
        "    class_labels_loop = np.unique(y_train_map_loop)\n",
        "    class_weights_loop = compute_class_weight(class_weight='balanced', classes=class_labels_loop, y=y_train_map_loop)\n",
        "    class_weights_dict_loop = dict(zip(class_labels_loop, class_weights_loop))\n",
        "\n",
        "    # Reshape X for LSTM\n",
        "    X_train_np_loop = np.array(vector_X_train)\n",
        "    X_test_np_loop = np.array(vector_X_test)\n",
        "    X_train_np_loop = X_train_np_loop.reshape(-1, timesteps, 1)\n",
        "    X_test_np_loop = X_test_np_loop.reshape(-1, timesteps, 1)\n",
        "\n",
        "    # Build and compile the model\n",
        "    model_loop = tf.keras.Sequential([\n",
        "        tf.keras.layers.Input(shape=(timesteps, 1)),\n",
        "        tf.keras.layers.Bidirectional(tf.keras.layers.LSTM(64)),\n",
        "        tf.keras.layers.Dense(64, activation='relu'),\n",
        "        tf.keras.layers.Dense(1)\n",
        "    ])\n",
        "\n",
        "    model_loop.compile(\n",
        "        loss=tf.keras.losses.BinaryCrossentropy(from_logits=True),\n",
        "        optimizer=tf.keras.optimizers.Adam(1e-4),\n",
        "        metrics=['accuracy']\n",
        "    )\n",
        "\n",
        "    # Train the model\n",
        "    history_loop = model_loop.fit(\n",
        "        X_train_np_loop, y_train_np_loop,\n",
        "        epochs=10,\n",
        "        validation_data=(X_test_np_loop, y_test_np_loop),\n",
        "        class_weight=class_weights_dict_loop\n",
        "    )\n",
        "\n",
        "    # Store history for later analysis\n",
        "    history_list.append(history_loop)\n"
      ],
      "metadata": {
        "id": "YdXqyO0UDMZf"
      },
      "execution_count": null,
      "outputs": []
    },
    {
      "cell_type": "code",
      "source": [
        "# Record the end time\n",
        "end_time = time.time()\n",
        "\n",
        "# Calculate the elapsed time\n",
        "elapsed_time = end_time - start_time\n",
        "\n",
        "# Print the elapsed time\n",
        "print(f\"Elapsed Time: {elapsed_time} seconds\")"
      ],
      "metadata": {
        "id": "h-N2fEyxRM5o"
      },
      "execution_count": null,
      "outputs": []
    }
  ],
  "metadata": {
    "colab": {
      "provenance": []
    },
    "kernelspec": {
      "display_name": "Python 3",
      "name": "python3"
    },
    "language_info": {
      "name": "python"
    }
  },
  "nbformat": 4,
  "nbformat_minor": 0
}