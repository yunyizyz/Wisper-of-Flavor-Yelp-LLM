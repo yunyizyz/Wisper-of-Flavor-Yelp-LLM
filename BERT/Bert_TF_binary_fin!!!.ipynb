{
  "nbformat": 4,
  "nbformat_minor": 0,
  "metadata": {
    "colab": {
      "provenance": [],
      "gpuType": "V100",
      "machine_shape": "hm"
    },
    "kernelspec": {
      "name": "python3",
      "display_name": "Python 3"
    },
    "language_info": {
      "name": "python"
    },
    "accelerator": "GPU",
    "widgets": {
      "application/vnd.jupyter.widget-state+json": {
        "2e7e3aa1ff8545dab33ac63255565221": {
          "model_module": "@jupyter-widgets/controls",
          "model_name": "HBoxModel",
          "model_module_version": "1.5.0",
          "state": {
            "_dom_classes": [],
            "_model_module": "@jupyter-widgets/controls",
            "_model_module_version": "1.5.0",
            "_model_name": "HBoxModel",
            "_view_count": null,
            "_view_module": "@jupyter-widgets/controls",
            "_view_module_version": "1.5.0",
            "_view_name": "HBoxView",
            "box_style": "",
            "children": [
              "IPY_MODEL_d18dcc3ea14742d8bdd6cb0b0cbc3116",
              "IPY_MODEL_a26e72ecf3434d4b9cb344c1bc0f5c39",
              "IPY_MODEL_bfa1e886361b458a9b408f2e8444e7bc"
            ],
            "layout": "IPY_MODEL_9a84ce87a8be477b86e98ff46af602f5"
          }
        },
        "d18dcc3ea14742d8bdd6cb0b0cbc3116": {
          "model_module": "@jupyter-widgets/controls",
          "model_name": "HTMLModel",
          "model_module_version": "1.5.0",
          "state": {
            "_dom_classes": [],
            "_model_module": "@jupyter-widgets/controls",
            "_model_module_version": "1.5.0",
            "_model_name": "HTMLModel",
            "_view_count": null,
            "_view_module": "@jupyter-widgets/controls",
            "_view_module_version": "1.5.0",
            "_view_name": "HTMLView",
            "description": "",
            "description_tooltip": null,
            "layout": "IPY_MODEL_b4de76c035a547a9911593bcfdda75c1",
            "placeholder": "​",
            "style": "IPY_MODEL_f13c888b5e97404f99f659454bf81a3d",
            "value": "100%"
          }
        },
        "a26e72ecf3434d4b9cb344c1bc0f5c39": {
          "model_module": "@jupyter-widgets/controls",
          "model_name": "FloatProgressModel",
          "model_module_version": "1.5.0",
          "state": {
            "_dom_classes": [],
            "_model_module": "@jupyter-widgets/controls",
            "_model_module_version": "1.5.0",
            "_model_name": "FloatProgressModel",
            "_view_count": null,
            "_view_module": "@jupyter-widgets/controls",
            "_view_module_version": "1.5.0",
            "_view_name": "ProgressView",
            "bar_style": "success",
            "description": "",
            "description_tooltip": null,
            "layout": "IPY_MODEL_c4d9aaec332548728bff58d543b8b889",
            "max": 1000000,
            "min": 0,
            "orientation": "horizontal",
            "style": "IPY_MODEL_f969e3b4f83a4096a026c16f9cc6e5ca",
            "value": 1000000
          }
        },
        "bfa1e886361b458a9b408f2e8444e7bc": {
          "model_module": "@jupyter-widgets/controls",
          "model_name": "HTMLModel",
          "model_module_version": "1.5.0",
          "state": {
            "_dom_classes": [],
            "_model_module": "@jupyter-widgets/controls",
            "_model_module_version": "1.5.0",
            "_model_name": "HTMLModel",
            "_view_count": null,
            "_view_module": "@jupyter-widgets/controls",
            "_view_module_version": "1.5.0",
            "_view_name": "HTMLView",
            "description": "",
            "description_tooltip": null,
            "layout": "IPY_MODEL_becdddd2b92448448f21429a4ca5263a",
            "placeholder": "​",
            "style": "IPY_MODEL_6ffc853f385d46e39aa86ef5b401fc87",
            "value": " 1000000/1000000 [35:58&lt;00:00, 470.12it/s]"
          }
        },
        "9a84ce87a8be477b86e98ff46af602f5": {
          "model_module": "@jupyter-widgets/base",
          "model_name": "LayoutModel",
          "model_module_version": "1.2.0",
          "state": {
            "_model_module": "@jupyter-widgets/base",
            "_model_module_version": "1.2.0",
            "_model_name": "LayoutModel",
            "_view_count": null,
            "_view_module": "@jupyter-widgets/base",
            "_view_module_version": "1.2.0",
            "_view_name": "LayoutView",
            "align_content": null,
            "align_items": null,
            "align_self": null,
            "border": null,
            "bottom": null,
            "display": null,
            "flex": null,
            "flex_flow": null,
            "grid_area": null,
            "grid_auto_columns": null,
            "grid_auto_flow": null,
            "grid_auto_rows": null,
            "grid_column": null,
            "grid_gap": null,
            "grid_row": null,
            "grid_template_areas": null,
            "grid_template_columns": null,
            "grid_template_rows": null,
            "height": null,
            "justify_content": null,
            "justify_items": null,
            "left": null,
            "margin": null,
            "max_height": null,
            "max_width": null,
            "min_height": null,
            "min_width": null,
            "object_fit": null,
            "object_position": null,
            "order": null,
            "overflow": null,
            "overflow_x": null,
            "overflow_y": null,
            "padding": null,
            "right": null,
            "top": null,
            "visibility": null,
            "width": null
          }
        },
        "b4de76c035a547a9911593bcfdda75c1": {
          "model_module": "@jupyter-widgets/base",
          "model_name": "LayoutModel",
          "model_module_version": "1.2.0",
          "state": {
            "_model_module": "@jupyter-widgets/base",
            "_model_module_version": "1.2.0",
            "_model_name": "LayoutModel",
            "_view_count": null,
            "_view_module": "@jupyter-widgets/base",
            "_view_module_version": "1.2.0",
            "_view_name": "LayoutView",
            "align_content": null,
            "align_items": null,
            "align_self": null,
            "border": null,
            "bottom": null,
            "display": null,
            "flex": null,
            "flex_flow": null,
            "grid_area": null,
            "grid_auto_columns": null,
            "grid_auto_flow": null,
            "grid_auto_rows": null,
            "grid_column": null,
            "grid_gap": null,
            "grid_row": null,
            "grid_template_areas": null,
            "grid_template_columns": null,
            "grid_template_rows": null,
            "height": null,
            "justify_content": null,
            "justify_items": null,
            "left": null,
            "margin": null,
            "max_height": null,
            "max_width": null,
            "min_height": null,
            "min_width": null,
            "object_fit": null,
            "object_position": null,
            "order": null,
            "overflow": null,
            "overflow_x": null,
            "overflow_y": null,
            "padding": null,
            "right": null,
            "top": null,
            "visibility": null,
            "width": null
          }
        },
        "f13c888b5e97404f99f659454bf81a3d": {
          "model_module": "@jupyter-widgets/controls",
          "model_name": "DescriptionStyleModel",
          "model_module_version": "1.5.0",
          "state": {
            "_model_module": "@jupyter-widgets/controls",
            "_model_module_version": "1.5.0",
            "_model_name": "DescriptionStyleModel",
            "_view_count": null,
            "_view_module": "@jupyter-widgets/base",
            "_view_module_version": "1.2.0",
            "_view_name": "StyleView",
            "description_width": ""
          }
        },
        "c4d9aaec332548728bff58d543b8b889": {
          "model_module": "@jupyter-widgets/base",
          "model_name": "LayoutModel",
          "model_module_version": "1.2.0",
          "state": {
            "_model_module": "@jupyter-widgets/base",
            "_model_module_version": "1.2.0",
            "_model_name": "LayoutModel",
            "_view_count": null,
            "_view_module": "@jupyter-widgets/base",
            "_view_module_version": "1.2.0",
            "_view_name": "LayoutView",
            "align_content": null,
            "align_items": null,
            "align_self": null,
            "border": null,
            "bottom": null,
            "display": null,
            "flex": null,
            "flex_flow": null,
            "grid_area": null,
            "grid_auto_columns": null,
            "grid_auto_flow": null,
            "grid_auto_rows": null,
            "grid_column": null,
            "grid_gap": null,
            "grid_row": null,
            "grid_template_areas": null,
            "grid_template_columns": null,
            "grid_template_rows": null,
            "height": null,
            "justify_content": null,
            "justify_items": null,
            "left": null,
            "margin": null,
            "max_height": null,
            "max_width": null,
            "min_height": null,
            "min_width": null,
            "object_fit": null,
            "object_position": null,
            "order": null,
            "overflow": null,
            "overflow_x": null,
            "overflow_y": null,
            "padding": null,
            "right": null,
            "top": null,
            "visibility": null,
            "width": null
          }
        },
        "f969e3b4f83a4096a026c16f9cc6e5ca": {
          "model_module": "@jupyter-widgets/controls",
          "model_name": "ProgressStyleModel",
          "model_module_version": "1.5.0",
          "state": {
            "_model_module": "@jupyter-widgets/controls",
            "_model_module_version": "1.5.0",
            "_model_name": "ProgressStyleModel",
            "_view_count": null,
            "_view_module": "@jupyter-widgets/base",
            "_view_module_version": "1.2.0",
            "_view_name": "StyleView",
            "bar_color": null,
            "description_width": ""
          }
        },
        "becdddd2b92448448f21429a4ca5263a": {
          "model_module": "@jupyter-widgets/base",
          "model_name": "LayoutModel",
          "model_module_version": "1.2.0",
          "state": {
            "_model_module": "@jupyter-widgets/base",
            "_model_module_version": "1.2.0",
            "_model_name": "LayoutModel",
            "_view_count": null,
            "_view_module": "@jupyter-widgets/base",
            "_view_module_version": "1.2.0",
            "_view_name": "LayoutView",
            "align_content": null,
            "align_items": null,
            "align_self": null,
            "border": null,
            "bottom": null,
            "display": null,
            "flex": null,
            "flex_flow": null,
            "grid_area": null,
            "grid_auto_columns": null,
            "grid_auto_flow": null,
            "grid_auto_rows": null,
            "grid_column": null,
            "grid_gap": null,
            "grid_row": null,
            "grid_template_areas": null,
            "grid_template_columns": null,
            "grid_template_rows": null,
            "height": null,
            "justify_content": null,
            "justify_items": null,
            "left": null,
            "margin": null,
            "max_height": null,
            "max_width": null,
            "min_height": null,
            "min_width": null,
            "object_fit": null,
            "object_position": null,
            "order": null,
            "overflow": null,
            "overflow_x": null,
            "overflow_y": null,
            "padding": null,
            "right": null,
            "top": null,
            "visibility": null,
            "width": null
          }
        },
        "6ffc853f385d46e39aa86ef5b401fc87": {
          "model_module": "@jupyter-widgets/controls",
          "model_name": "DescriptionStyleModel",
          "model_module_version": "1.5.0",
          "state": {
            "_model_module": "@jupyter-widgets/controls",
            "_model_module_version": "1.5.0",
            "_model_name": "DescriptionStyleModel",
            "_view_count": null,
            "_view_module": "@jupyter-widgets/base",
            "_view_module_version": "1.2.0",
            "_view_name": "StyleView",
            "description_width": ""
          }
        },
        "49cf8a7ab7cc4befa6dc7aed1682fcdc": {
          "model_module": "@jupyter-widgets/controls",
          "model_name": "HBoxModel",
          "model_module_version": "1.5.0",
          "state": {
            "_dom_classes": [],
            "_model_module": "@jupyter-widgets/controls",
            "_model_module_version": "1.5.0",
            "_model_name": "HBoxModel",
            "_view_count": null,
            "_view_module": "@jupyter-widgets/controls",
            "_view_module_version": "1.5.0",
            "_view_name": "HBoxView",
            "box_style": "",
            "children": [
              "IPY_MODEL_a7889b19f16345c8a2818e0420cb089e",
              "IPY_MODEL_878018835fcc46a6b3e0f4e9f38f9ae4",
              "IPY_MODEL_6b545ff4d74d4dd1bd2b30b4f3e96b81"
            ],
            "layout": "IPY_MODEL_da748446acf94471a6be00402db7d9c0"
          }
        },
        "a7889b19f16345c8a2818e0420cb089e": {
          "model_module": "@jupyter-widgets/controls",
          "model_name": "HTMLModel",
          "model_module_version": "1.5.0",
          "state": {
            "_dom_classes": [],
            "_model_module": "@jupyter-widgets/controls",
            "_model_module_version": "1.5.0",
            "_model_name": "HTMLModel",
            "_view_count": null,
            "_view_module": "@jupyter-widgets/controls",
            "_view_module_version": "1.5.0",
            "_view_name": "HTMLView",
            "description": "",
            "description_tooltip": null,
            "layout": "IPY_MODEL_80457268862a442ea398955bb1922015",
            "placeholder": "​",
            "style": "IPY_MODEL_82e71e79f1074603a9037c365b2d25d0",
            "value": "100%"
          }
        },
        "878018835fcc46a6b3e0f4e9f38f9ae4": {
          "model_module": "@jupyter-widgets/controls",
          "model_name": "FloatProgressModel",
          "model_module_version": "1.5.0",
          "state": {
            "_dom_classes": [],
            "_model_module": "@jupyter-widgets/controls",
            "_model_module_version": "1.5.0",
            "_model_name": "FloatProgressModel",
            "_view_count": null,
            "_view_module": "@jupyter-widgets/controls",
            "_view_module_version": "1.5.0",
            "_view_name": "ProgressView",
            "bar_style": "success",
            "description": "",
            "description_tooltip": null,
            "layout": "IPY_MODEL_2219bf46684a4c7990a40e7bbf8942be",
            "max": 7813,
            "min": 0,
            "orientation": "horizontal",
            "style": "IPY_MODEL_50356df955f24c088fc82e0dd6201967",
            "value": 7813
          }
        },
        "6b545ff4d74d4dd1bd2b30b4f3e96b81": {
          "model_module": "@jupyter-widgets/controls",
          "model_name": "HTMLModel",
          "model_module_version": "1.5.0",
          "state": {
            "_dom_classes": [],
            "_model_module": "@jupyter-widgets/controls",
            "_model_module_version": "1.5.0",
            "_model_name": "HTMLModel",
            "_view_count": null,
            "_view_module": "@jupyter-widgets/controls",
            "_view_module_version": "1.5.0",
            "_view_name": "HTMLView",
            "description": "",
            "description_tooltip": null,
            "layout": "IPY_MODEL_97e6b1ec3d8e4b01947e5613e6b0d13b",
            "placeholder": "​",
            "style": "IPY_MODEL_99cca17a04b746e0ac71f238efa5b265",
            "value": " 7813/7813 [39:05&lt;00:00,  1.31it/s]"
          }
        },
        "da748446acf94471a6be00402db7d9c0": {
          "model_module": "@jupyter-widgets/base",
          "model_name": "LayoutModel",
          "model_module_version": "1.2.0",
          "state": {
            "_model_module": "@jupyter-widgets/base",
            "_model_module_version": "1.2.0",
            "_model_name": "LayoutModel",
            "_view_count": null,
            "_view_module": "@jupyter-widgets/base",
            "_view_module_version": "1.2.0",
            "_view_name": "LayoutView",
            "align_content": null,
            "align_items": null,
            "align_self": null,
            "border": null,
            "bottom": null,
            "display": null,
            "flex": null,
            "flex_flow": null,
            "grid_area": null,
            "grid_auto_columns": null,
            "grid_auto_flow": null,
            "grid_auto_rows": null,
            "grid_column": null,
            "grid_gap": null,
            "grid_row": null,
            "grid_template_areas": null,
            "grid_template_columns": null,
            "grid_template_rows": null,
            "height": null,
            "justify_content": null,
            "justify_items": null,
            "left": null,
            "margin": null,
            "max_height": null,
            "max_width": null,
            "min_height": null,
            "min_width": null,
            "object_fit": null,
            "object_position": null,
            "order": null,
            "overflow": null,
            "overflow_x": null,
            "overflow_y": null,
            "padding": null,
            "right": null,
            "top": null,
            "visibility": null,
            "width": null
          }
        },
        "80457268862a442ea398955bb1922015": {
          "model_module": "@jupyter-widgets/base",
          "model_name": "LayoutModel",
          "model_module_version": "1.2.0",
          "state": {
            "_model_module": "@jupyter-widgets/base",
            "_model_module_version": "1.2.0",
            "_model_name": "LayoutModel",
            "_view_count": null,
            "_view_module": "@jupyter-widgets/base",
            "_view_module_version": "1.2.0",
            "_view_name": "LayoutView",
            "align_content": null,
            "align_items": null,
            "align_self": null,
            "border": null,
            "bottom": null,
            "display": null,
            "flex": null,
            "flex_flow": null,
            "grid_area": null,
            "grid_auto_columns": null,
            "grid_auto_flow": null,
            "grid_auto_rows": null,
            "grid_column": null,
            "grid_gap": null,
            "grid_row": null,
            "grid_template_areas": null,
            "grid_template_columns": null,
            "grid_template_rows": null,
            "height": null,
            "justify_content": null,
            "justify_items": null,
            "left": null,
            "margin": null,
            "max_height": null,
            "max_width": null,
            "min_height": null,
            "min_width": null,
            "object_fit": null,
            "object_position": null,
            "order": null,
            "overflow": null,
            "overflow_x": null,
            "overflow_y": null,
            "padding": null,
            "right": null,
            "top": null,
            "visibility": null,
            "width": null
          }
        },
        "82e71e79f1074603a9037c365b2d25d0": {
          "model_module": "@jupyter-widgets/controls",
          "model_name": "DescriptionStyleModel",
          "model_module_version": "1.5.0",
          "state": {
            "_model_module": "@jupyter-widgets/controls",
            "_model_module_version": "1.5.0",
            "_model_name": "DescriptionStyleModel",
            "_view_count": null,
            "_view_module": "@jupyter-widgets/base",
            "_view_module_version": "1.2.0",
            "_view_name": "StyleView",
            "description_width": ""
          }
        },
        "2219bf46684a4c7990a40e7bbf8942be": {
          "model_module": "@jupyter-widgets/base",
          "model_name": "LayoutModel",
          "model_module_version": "1.2.0",
          "state": {
            "_model_module": "@jupyter-widgets/base",
            "_model_module_version": "1.2.0",
            "_model_name": "LayoutModel",
            "_view_count": null,
            "_view_module": "@jupyter-widgets/base",
            "_view_module_version": "1.2.0",
            "_view_name": "LayoutView",
            "align_content": null,
            "align_items": null,
            "align_self": null,
            "border": null,
            "bottom": null,
            "display": null,
            "flex": null,
            "flex_flow": null,
            "grid_area": null,
            "grid_auto_columns": null,
            "grid_auto_flow": null,
            "grid_auto_rows": null,
            "grid_column": null,
            "grid_gap": null,
            "grid_row": null,
            "grid_template_areas": null,
            "grid_template_columns": null,
            "grid_template_rows": null,
            "height": null,
            "justify_content": null,
            "justify_items": null,
            "left": null,
            "margin": null,
            "max_height": null,
            "max_width": null,
            "min_height": null,
            "min_width": null,
            "object_fit": null,
            "object_position": null,
            "order": null,
            "overflow": null,
            "overflow_x": null,
            "overflow_y": null,
            "padding": null,
            "right": null,
            "top": null,
            "visibility": null,
            "width": null
          }
        },
        "50356df955f24c088fc82e0dd6201967": {
          "model_module": "@jupyter-widgets/controls",
          "model_name": "ProgressStyleModel",
          "model_module_version": "1.5.0",
          "state": {
            "_model_module": "@jupyter-widgets/controls",
            "_model_module_version": "1.5.0",
            "_model_name": "ProgressStyleModel",
            "_view_count": null,
            "_view_module": "@jupyter-widgets/base",
            "_view_module_version": "1.2.0",
            "_view_name": "StyleView",
            "bar_color": null,
            "description_width": ""
          }
        },
        "97e6b1ec3d8e4b01947e5613e6b0d13b": {
          "model_module": "@jupyter-widgets/base",
          "model_name": "LayoutModel",
          "model_module_version": "1.2.0",
          "state": {
            "_model_module": "@jupyter-widgets/base",
            "_model_module_version": "1.2.0",
            "_model_name": "LayoutModel",
            "_view_count": null,
            "_view_module": "@jupyter-widgets/base",
            "_view_module_version": "1.2.0",
            "_view_name": "LayoutView",
            "align_content": null,
            "align_items": null,
            "align_self": null,
            "border": null,
            "bottom": null,
            "display": null,
            "flex": null,
            "flex_flow": null,
            "grid_area": null,
            "grid_auto_columns": null,
            "grid_auto_flow": null,
            "grid_auto_rows": null,
            "grid_column": null,
            "grid_gap": null,
            "grid_row": null,
            "grid_template_areas": null,
            "grid_template_columns": null,
            "grid_template_rows": null,
            "height": null,
            "justify_content": null,
            "justify_items": null,
            "left": null,
            "margin": null,
            "max_height": null,
            "max_width": null,
            "min_height": null,
            "min_width": null,
            "object_fit": null,
            "object_position": null,
            "order": null,
            "overflow": null,
            "overflow_x": null,
            "overflow_y": null,
            "padding": null,
            "right": null,
            "top": null,
            "visibility": null,
            "width": null
          }
        },
        "99cca17a04b746e0ac71f238efa5b265": {
          "model_module": "@jupyter-widgets/controls",
          "model_name": "DescriptionStyleModel",
          "model_module_version": "1.5.0",
          "state": {
            "_model_module": "@jupyter-widgets/controls",
            "_model_module_version": "1.5.0",
            "_model_name": "DescriptionStyleModel",
            "_view_count": null,
            "_view_module": "@jupyter-widgets/base",
            "_view_module_version": "1.2.0",
            "_view_name": "StyleView",
            "description_width": ""
          }
        },
        "2e65fc3983ec4e8dad6134317a32c04b": {
          "model_module": "@jupyter-widgets/controls",
          "model_name": "HBoxModel",
          "model_module_version": "1.5.0",
          "state": {
            "_dom_classes": [],
            "_model_module": "@jupyter-widgets/controls",
            "_model_module_version": "1.5.0",
            "_model_name": "HBoxModel",
            "_view_count": null,
            "_view_module": "@jupyter-widgets/controls",
            "_view_module_version": "1.5.0",
            "_view_name": "HBoxView",
            "box_style": "",
            "children": [
              "IPY_MODEL_b85e4cf932ba486aaf670314867bcad7",
              "IPY_MODEL_f4d878ac4a0f42489f95ea27186c5287",
              "IPY_MODEL_3e68fbe5008d4ea5b071479f49c11448"
            ],
            "layout": "IPY_MODEL_f9c7b3044b3241f9bcfc7715400db966"
          }
        },
        "b85e4cf932ba486aaf670314867bcad7": {
          "model_module": "@jupyter-widgets/controls",
          "model_name": "HTMLModel",
          "model_module_version": "1.5.0",
          "state": {
            "_dom_classes": [],
            "_model_module": "@jupyter-widgets/controls",
            "_model_module_version": "1.5.0",
            "_model_name": "HTMLModel",
            "_view_count": null,
            "_view_module": "@jupyter-widgets/controls",
            "_view_module_version": "1.5.0",
            "_view_name": "HTMLView",
            "description": "",
            "description_tooltip": null,
            "layout": "IPY_MODEL_b78440a1d33b4c43a8637a7a4ce7e3d0",
            "placeholder": "​",
            "style": "IPY_MODEL_7be47ac4d373410496a47bc0046279a2",
            "value": "100%"
          }
        },
        "f4d878ac4a0f42489f95ea27186c5287": {
          "model_module": "@jupyter-widgets/controls",
          "model_name": "FloatProgressModel",
          "model_module_version": "1.5.0",
          "state": {
            "_dom_classes": [],
            "_model_module": "@jupyter-widgets/controls",
            "_model_module_version": "1.5.0",
            "_model_name": "FloatProgressModel",
            "_view_count": null,
            "_view_module": "@jupyter-widgets/controls",
            "_view_module_version": "1.5.0",
            "_view_name": "ProgressView",
            "bar_style": "success",
            "description": "",
            "description_tooltip": null,
            "layout": "IPY_MODEL_437fb8cabdab49b8a7a48ca660d2e145",
            "max": 1937,
            "min": 0,
            "orientation": "horizontal",
            "style": "IPY_MODEL_c9afcb4d34e244a382ef877a9041a987",
            "value": 1937
          }
        },
        "3e68fbe5008d4ea5b071479f49c11448": {
          "model_module": "@jupyter-widgets/controls",
          "model_name": "HTMLModel",
          "model_module_version": "1.5.0",
          "state": {
            "_dom_classes": [],
            "_model_module": "@jupyter-widgets/controls",
            "_model_module_version": "1.5.0",
            "_model_name": "HTMLModel",
            "_view_count": null,
            "_view_module": "@jupyter-widgets/controls",
            "_view_module_version": "1.5.0",
            "_view_name": "HTMLView",
            "description": "",
            "description_tooltip": null,
            "layout": "IPY_MODEL_edd4e2b2d8f64ff2b2f7d08139945b2f",
            "placeholder": "​",
            "style": "IPY_MODEL_2af71954c705417a9458d3527a1d2256",
            "value": " 1937/1937 [00:03&lt;00:00, 489.35it/s]"
          }
        },
        "f9c7b3044b3241f9bcfc7715400db966": {
          "model_module": "@jupyter-widgets/base",
          "model_name": "LayoutModel",
          "model_module_version": "1.2.0",
          "state": {
            "_model_module": "@jupyter-widgets/base",
            "_model_module_version": "1.2.0",
            "_model_name": "LayoutModel",
            "_view_count": null,
            "_view_module": "@jupyter-widgets/base",
            "_view_module_version": "1.2.0",
            "_view_name": "LayoutView",
            "align_content": null,
            "align_items": null,
            "align_self": null,
            "border": null,
            "bottom": null,
            "display": null,
            "flex": null,
            "flex_flow": null,
            "grid_area": null,
            "grid_auto_columns": null,
            "grid_auto_flow": null,
            "grid_auto_rows": null,
            "grid_column": null,
            "grid_gap": null,
            "grid_row": null,
            "grid_template_areas": null,
            "grid_template_columns": null,
            "grid_template_rows": null,
            "height": null,
            "justify_content": null,
            "justify_items": null,
            "left": null,
            "margin": null,
            "max_height": null,
            "max_width": null,
            "min_height": null,
            "min_width": null,
            "object_fit": null,
            "object_position": null,
            "order": null,
            "overflow": null,
            "overflow_x": null,
            "overflow_y": null,
            "padding": null,
            "right": null,
            "top": null,
            "visibility": null,
            "width": null
          }
        },
        "b78440a1d33b4c43a8637a7a4ce7e3d0": {
          "model_module": "@jupyter-widgets/base",
          "model_name": "LayoutModel",
          "model_module_version": "1.2.0",
          "state": {
            "_model_module": "@jupyter-widgets/base",
            "_model_module_version": "1.2.0",
            "_model_name": "LayoutModel",
            "_view_count": null,
            "_view_module": "@jupyter-widgets/base",
            "_view_module_version": "1.2.0",
            "_view_name": "LayoutView",
            "align_content": null,
            "align_items": null,
            "align_self": null,
            "border": null,
            "bottom": null,
            "display": null,
            "flex": null,
            "flex_flow": null,
            "grid_area": null,
            "grid_auto_columns": null,
            "grid_auto_flow": null,
            "grid_auto_rows": null,
            "grid_column": null,
            "grid_gap": null,
            "grid_row": null,
            "grid_template_areas": null,
            "grid_template_columns": null,
            "grid_template_rows": null,
            "height": null,
            "justify_content": null,
            "justify_items": null,
            "left": null,
            "margin": null,
            "max_height": null,
            "max_width": null,
            "min_height": null,
            "min_width": null,
            "object_fit": null,
            "object_position": null,
            "order": null,
            "overflow": null,
            "overflow_x": null,
            "overflow_y": null,
            "padding": null,
            "right": null,
            "top": null,
            "visibility": null,
            "width": null
          }
        },
        "7be47ac4d373410496a47bc0046279a2": {
          "model_module": "@jupyter-widgets/controls",
          "model_name": "DescriptionStyleModel",
          "model_module_version": "1.5.0",
          "state": {
            "_model_module": "@jupyter-widgets/controls",
            "_model_module_version": "1.5.0",
            "_model_name": "DescriptionStyleModel",
            "_view_count": null,
            "_view_module": "@jupyter-widgets/base",
            "_view_module_version": "1.2.0",
            "_view_name": "StyleView",
            "description_width": ""
          }
        },
        "437fb8cabdab49b8a7a48ca660d2e145": {
          "model_module": "@jupyter-widgets/base",
          "model_name": "LayoutModel",
          "model_module_version": "1.2.0",
          "state": {
            "_model_module": "@jupyter-widgets/base",
            "_model_module_version": "1.2.0",
            "_model_name": "LayoutModel",
            "_view_count": null,
            "_view_module": "@jupyter-widgets/base",
            "_view_module_version": "1.2.0",
            "_view_name": "LayoutView",
            "align_content": null,
            "align_items": null,
            "align_self": null,
            "border": null,
            "bottom": null,
            "display": null,
            "flex": null,
            "flex_flow": null,
            "grid_area": null,
            "grid_auto_columns": null,
            "grid_auto_flow": null,
            "grid_auto_rows": null,
            "grid_column": null,
            "grid_gap": null,
            "grid_row": null,
            "grid_template_areas": null,
            "grid_template_columns": null,
            "grid_template_rows": null,
            "height": null,
            "justify_content": null,
            "justify_items": null,
            "left": null,
            "margin": null,
            "max_height": null,
            "max_width": null,
            "min_height": null,
            "min_width": null,
            "object_fit": null,
            "object_position": null,
            "order": null,
            "overflow": null,
            "overflow_x": null,
            "overflow_y": null,
            "padding": null,
            "right": null,
            "top": null,
            "visibility": null,
            "width": null
          }
        },
        "c9afcb4d34e244a382ef877a9041a987": {
          "model_module": "@jupyter-widgets/controls",
          "model_name": "ProgressStyleModel",
          "model_module_version": "1.5.0",
          "state": {
            "_model_module": "@jupyter-widgets/controls",
            "_model_module_version": "1.5.0",
            "_model_name": "ProgressStyleModel",
            "_view_count": null,
            "_view_module": "@jupyter-widgets/base",
            "_view_module_version": "1.2.0",
            "_view_name": "StyleView",
            "bar_color": null,
            "description_width": ""
          }
        },
        "edd4e2b2d8f64ff2b2f7d08139945b2f": {
          "model_module": "@jupyter-widgets/base",
          "model_name": "LayoutModel",
          "model_module_version": "1.2.0",
          "state": {
            "_model_module": "@jupyter-widgets/base",
            "_model_module_version": "1.2.0",
            "_model_name": "LayoutModel",
            "_view_count": null,
            "_view_module": "@jupyter-widgets/base",
            "_view_module_version": "1.2.0",
            "_view_name": "LayoutView",
            "align_content": null,
            "align_items": null,
            "align_self": null,
            "border": null,
            "bottom": null,
            "display": null,
            "flex": null,
            "flex_flow": null,
            "grid_area": null,
            "grid_auto_columns": null,
            "grid_auto_flow": null,
            "grid_auto_rows": null,
            "grid_column": null,
            "grid_gap": null,
            "grid_row": null,
            "grid_template_areas": null,
            "grid_template_columns": null,
            "grid_template_rows": null,
            "height": null,
            "justify_content": null,
            "justify_items": null,
            "left": null,
            "margin": null,
            "max_height": null,
            "max_width": null,
            "min_height": null,
            "min_width": null,
            "object_fit": null,
            "object_position": null,
            "order": null,
            "overflow": null,
            "overflow_x": null,
            "overflow_y": null,
            "padding": null,
            "right": null,
            "top": null,
            "visibility": null,
            "width": null
          }
        },
        "2af71954c705417a9458d3527a1d2256": {
          "model_module": "@jupyter-widgets/controls",
          "model_name": "DescriptionStyleModel",
          "model_module_version": "1.5.0",
          "state": {
            "_model_module": "@jupyter-widgets/controls",
            "_model_module_version": "1.5.0",
            "_model_name": "DescriptionStyleModel",
            "_view_count": null,
            "_view_module": "@jupyter-widgets/base",
            "_view_module_version": "1.2.0",
            "_view_name": "StyleView",
            "description_width": ""
          }
        },
        "33239a6a1a864036b030e8af0d9b5a5a": {
          "model_module": "@jupyter-widgets/controls",
          "model_name": "HBoxModel",
          "model_module_version": "1.5.0",
          "state": {
            "_dom_classes": [],
            "_model_module": "@jupyter-widgets/controls",
            "_model_module_version": "1.5.0",
            "_model_name": "HBoxModel",
            "_view_count": null,
            "_view_module": "@jupyter-widgets/controls",
            "_view_module_version": "1.5.0",
            "_view_name": "HBoxView",
            "box_style": "",
            "children": [
              "IPY_MODEL_33747876dc72461c902718cdb05feff7",
              "IPY_MODEL_b998613e427a4080b295cf294a69347d",
              "IPY_MODEL_0f1becd568924d54988e04cb6908bf56"
            ],
            "layout": "IPY_MODEL_22bbb1347b834c61872084674d52bafa"
          }
        },
        "33747876dc72461c902718cdb05feff7": {
          "model_module": "@jupyter-widgets/controls",
          "model_name": "HTMLModel",
          "model_module_version": "1.5.0",
          "state": {
            "_dom_classes": [],
            "_model_module": "@jupyter-widgets/controls",
            "_model_module_version": "1.5.0",
            "_model_name": "HTMLModel",
            "_view_count": null,
            "_view_module": "@jupyter-widgets/controls",
            "_view_module_version": "1.5.0",
            "_view_name": "HTMLView",
            "description": "",
            "description_tooltip": null,
            "layout": "IPY_MODEL_ab6e33b425f0433d805a4fac28dee1e3",
            "placeholder": "​",
            "style": "IPY_MODEL_3807ba10913a4b2aa11ddfe893b053b6",
            "value": ""
          }
        },
        "b998613e427a4080b295cf294a69347d": {
          "model_module": "@jupyter-widgets/controls",
          "model_name": "FloatProgressModel",
          "model_module_version": "1.5.0",
          "state": {
            "_dom_classes": [],
            "_model_module": "@jupyter-widgets/controls",
            "_model_module_version": "1.5.0",
            "_model_name": "FloatProgressModel",
            "_view_count": null,
            "_view_module": "@jupyter-widgets/controls",
            "_view_module_version": "1.5.0",
            "_view_name": "ProgressView",
            "bar_style": "success",
            "description": "",
            "description_tooltip": null,
            "layout": "IPY_MODEL_33d52daca5f045a5a1172713a30a4fbd",
            "max": 48,
            "min": 0,
            "orientation": "horizontal",
            "style": "IPY_MODEL_0d6653189c444859b69657aee9ccfbda",
            "value": 48
          }
        },
        "0f1becd568924d54988e04cb6908bf56": {
          "model_module": "@jupyter-widgets/controls",
          "model_name": "HTMLModel",
          "model_module_version": "1.5.0",
          "state": {
            "_dom_classes": [],
            "_model_module": "@jupyter-widgets/controls",
            "_model_module_version": "1.5.0",
            "_model_name": "HTMLModel",
            "_view_count": null,
            "_view_module": "@jupyter-widgets/controls",
            "_view_module_version": "1.5.0",
            "_view_name": "HTMLView",
            "description": "",
            "description_tooltip": null,
            "layout": "IPY_MODEL_279056d3ff3b40f380684b9a9e6f82da",
            "placeholder": "​",
            "style": "IPY_MODEL_ad4e8c1559e049ac883da24368fa7f69",
            "value": " 146/? [01:18&lt;00:00,  3.59s/it]"
          }
        },
        "22bbb1347b834c61872084674d52bafa": {
          "model_module": "@jupyter-widgets/base",
          "model_name": "LayoutModel",
          "model_module_version": "1.2.0",
          "state": {
            "_model_module": "@jupyter-widgets/base",
            "_model_module_version": "1.2.0",
            "_model_name": "LayoutModel",
            "_view_count": null,
            "_view_module": "@jupyter-widgets/base",
            "_view_module_version": "1.2.0",
            "_view_name": "LayoutView",
            "align_content": null,
            "align_items": null,
            "align_self": null,
            "border": null,
            "bottom": null,
            "display": null,
            "flex": null,
            "flex_flow": null,
            "grid_area": null,
            "grid_auto_columns": null,
            "grid_auto_flow": null,
            "grid_auto_rows": null,
            "grid_column": null,
            "grid_gap": null,
            "grid_row": null,
            "grid_template_areas": null,
            "grid_template_columns": null,
            "grid_template_rows": null,
            "height": null,
            "justify_content": null,
            "justify_items": null,
            "left": null,
            "margin": null,
            "max_height": null,
            "max_width": null,
            "min_height": null,
            "min_width": null,
            "object_fit": null,
            "object_position": null,
            "order": null,
            "overflow": null,
            "overflow_x": null,
            "overflow_y": null,
            "padding": null,
            "right": null,
            "top": null,
            "visibility": null,
            "width": null
          }
        },
        "ab6e33b425f0433d805a4fac28dee1e3": {
          "model_module": "@jupyter-widgets/base",
          "model_name": "LayoutModel",
          "model_module_version": "1.2.0",
          "state": {
            "_model_module": "@jupyter-widgets/base",
            "_model_module_version": "1.2.0",
            "_model_name": "LayoutModel",
            "_view_count": null,
            "_view_module": "@jupyter-widgets/base",
            "_view_module_version": "1.2.0",
            "_view_name": "LayoutView",
            "align_content": null,
            "align_items": null,
            "align_self": null,
            "border": null,
            "bottom": null,
            "display": null,
            "flex": null,
            "flex_flow": null,
            "grid_area": null,
            "grid_auto_columns": null,
            "grid_auto_flow": null,
            "grid_auto_rows": null,
            "grid_column": null,
            "grid_gap": null,
            "grid_row": null,
            "grid_template_areas": null,
            "grid_template_columns": null,
            "grid_template_rows": null,
            "height": null,
            "justify_content": null,
            "justify_items": null,
            "left": null,
            "margin": null,
            "max_height": null,
            "max_width": null,
            "min_height": null,
            "min_width": null,
            "object_fit": null,
            "object_position": null,
            "order": null,
            "overflow": null,
            "overflow_x": null,
            "overflow_y": null,
            "padding": null,
            "right": null,
            "top": null,
            "visibility": null,
            "width": null
          }
        },
        "3807ba10913a4b2aa11ddfe893b053b6": {
          "model_module": "@jupyter-widgets/controls",
          "model_name": "DescriptionStyleModel",
          "model_module_version": "1.5.0",
          "state": {
            "_model_module": "@jupyter-widgets/controls",
            "_model_module_version": "1.5.0",
            "_model_name": "DescriptionStyleModel",
            "_view_count": null,
            "_view_module": "@jupyter-widgets/base",
            "_view_module_version": "1.2.0",
            "_view_name": "StyleView",
            "description_width": ""
          }
        },
        "33d52daca5f045a5a1172713a30a4fbd": {
          "model_module": "@jupyter-widgets/base",
          "model_name": "LayoutModel",
          "model_module_version": "1.2.0",
          "state": {
            "_model_module": "@jupyter-widgets/base",
            "_model_module_version": "1.2.0",
            "_model_name": "LayoutModel",
            "_view_count": null,
            "_view_module": "@jupyter-widgets/base",
            "_view_module_version": "1.2.0",
            "_view_name": "LayoutView",
            "align_content": null,
            "align_items": null,
            "align_self": null,
            "border": null,
            "bottom": null,
            "display": null,
            "flex": null,
            "flex_flow": null,
            "grid_area": null,
            "grid_auto_columns": null,
            "grid_auto_flow": null,
            "grid_auto_rows": null,
            "grid_column": null,
            "grid_gap": null,
            "grid_row": null,
            "grid_template_areas": null,
            "grid_template_columns": null,
            "grid_template_rows": null,
            "height": null,
            "justify_content": null,
            "justify_items": null,
            "left": null,
            "margin": null,
            "max_height": null,
            "max_width": null,
            "min_height": null,
            "min_width": null,
            "object_fit": null,
            "object_position": null,
            "order": null,
            "overflow": null,
            "overflow_x": null,
            "overflow_y": null,
            "padding": null,
            "right": null,
            "top": null,
            "visibility": null,
            "width": null
          }
        },
        "0d6653189c444859b69657aee9ccfbda": {
          "model_module": "@jupyter-widgets/controls",
          "model_name": "ProgressStyleModel",
          "model_module_version": "1.5.0",
          "state": {
            "_model_module": "@jupyter-widgets/controls",
            "_model_module_version": "1.5.0",
            "_model_name": "ProgressStyleModel",
            "_view_count": null,
            "_view_module": "@jupyter-widgets/base",
            "_view_module_version": "1.2.0",
            "_view_name": "StyleView",
            "bar_color": null,
            "description_width": ""
          }
        },
        "279056d3ff3b40f380684b9a9e6f82da": {
          "model_module": "@jupyter-widgets/base",
          "model_name": "LayoutModel",
          "model_module_version": "1.2.0",
          "state": {
            "_model_module": "@jupyter-widgets/base",
            "_model_module_version": "1.2.0",
            "_model_name": "LayoutModel",
            "_view_count": null,
            "_view_module": "@jupyter-widgets/base",
            "_view_module_version": "1.2.0",
            "_view_name": "LayoutView",
            "align_content": null,
            "align_items": null,
            "align_self": null,
            "border": null,
            "bottom": null,
            "display": null,
            "flex": null,
            "flex_flow": null,
            "grid_area": null,
            "grid_auto_columns": null,
            "grid_auto_flow": null,
            "grid_auto_rows": null,
            "grid_column": null,
            "grid_gap": null,
            "grid_row": null,
            "grid_template_areas": null,
            "grid_template_columns": null,
            "grid_template_rows": null,
            "height": null,
            "justify_content": null,
            "justify_items": null,
            "left": null,
            "margin": null,
            "max_height": null,
            "max_width": null,
            "min_height": null,
            "min_width": null,
            "object_fit": null,
            "object_position": null,
            "order": null,
            "overflow": null,
            "overflow_x": null,
            "overflow_y": null,
            "padding": null,
            "right": null,
            "top": null,
            "visibility": null,
            "width": null
          }
        },
        "ad4e8c1559e049ac883da24368fa7f69": {
          "model_module": "@jupyter-widgets/controls",
          "model_name": "DescriptionStyleModel",
          "model_module_version": "1.5.0",
          "state": {
            "_model_module": "@jupyter-widgets/controls",
            "_model_module_version": "1.5.0",
            "_model_name": "DescriptionStyleModel",
            "_view_count": null,
            "_view_module": "@jupyter-widgets/base",
            "_view_module_version": "1.2.0",
            "_view_name": "StyleView",
            "description_width": ""
          }
        },
        "b874bb9445374719ae30d652a8cf631a": {
          "model_module": "@jupyter-widgets/controls",
          "model_name": "HBoxModel",
          "model_module_version": "1.5.0",
          "state": {
            "_dom_classes": [],
            "_model_module": "@jupyter-widgets/controls",
            "_model_module_version": "1.5.0",
            "_model_name": "HBoxModel",
            "_view_count": null,
            "_view_module": "@jupyter-widgets/controls",
            "_view_module_version": "1.5.0",
            "_view_name": "HBoxView",
            "box_style": "",
            "children": [
              "IPY_MODEL_79eb7944ebfd403a9d64bc659fa906e7",
              "IPY_MODEL_7e45f9efd4ba4384b4b8790c5fb9b03e",
              "IPY_MODEL_f1d86cc596be454a9f251ae6af643162"
            ],
            "layout": "IPY_MODEL_2c0077429d4948df92119efb69bcd638"
          }
        },
        "79eb7944ebfd403a9d64bc659fa906e7": {
          "model_module": "@jupyter-widgets/controls",
          "model_name": "HTMLModel",
          "model_module_version": "1.5.0",
          "state": {
            "_dom_classes": [],
            "_model_module": "@jupyter-widgets/controls",
            "_model_module_version": "1.5.0",
            "_model_name": "HTMLModel",
            "_view_count": null,
            "_view_module": "@jupyter-widgets/controls",
            "_view_module_version": "1.5.0",
            "_view_name": "HTMLView",
            "description": "",
            "description_tooltip": null,
            "layout": "IPY_MODEL_7978ece589ff428499c2059311e856d4",
            "placeholder": "​",
            "style": "IPY_MODEL_40e6809c803f4e15ad5d4175629af53f",
            "value": ""
          }
        },
        "7e45f9efd4ba4384b4b8790c5fb9b03e": {
          "model_module": "@jupyter-widgets/controls",
          "model_name": "FloatProgressModel",
          "model_module_version": "1.5.0",
          "state": {
            "_dom_classes": [],
            "_model_module": "@jupyter-widgets/controls",
            "_model_module_version": "1.5.0",
            "_model_name": "FloatProgressModel",
            "_view_count": null,
            "_view_module": "@jupyter-widgets/controls",
            "_view_module_version": "1.5.0",
            "_view_name": "ProgressView",
            "bar_style": "success",
            "description": "",
            "description_tooltip": null,
            "layout": "IPY_MODEL_54d6c4f4bb6a40f2bb43f87d507475c9",
            "max": 12,
            "min": 0,
            "orientation": "horizontal",
            "style": "IPY_MODEL_a5f62371634c45f89668e76cdba0ab78",
            "value": 12
          }
        },
        "f1d86cc596be454a9f251ae6af643162": {
          "model_module": "@jupyter-widgets/controls",
          "model_name": "HTMLModel",
          "model_module_version": "1.5.0",
          "state": {
            "_dom_classes": [],
            "_model_module": "@jupyter-widgets/controls",
            "_model_module_version": "1.5.0",
            "_model_name": "HTMLModel",
            "_view_count": null,
            "_view_module": "@jupyter-widgets/controls",
            "_view_module_version": "1.5.0",
            "_view_name": "HTMLView",
            "description": "",
            "description_tooltip": null,
            "layout": "IPY_MODEL_f2f5ceb8970d4f5e924c89f4cfe01bf1",
            "placeholder": "​",
            "style": "IPY_MODEL_3bd24d2a889e48c9bd3fd71dc463cfd4",
            "value": " 37/? [00:08&lt;00:00,  1.73it/s]"
          }
        },
        "2c0077429d4948df92119efb69bcd638": {
          "model_module": "@jupyter-widgets/base",
          "model_name": "LayoutModel",
          "model_module_version": "1.2.0",
          "state": {
            "_model_module": "@jupyter-widgets/base",
            "_model_module_version": "1.2.0",
            "_model_name": "LayoutModel",
            "_view_count": null,
            "_view_module": "@jupyter-widgets/base",
            "_view_module_version": "1.2.0",
            "_view_name": "LayoutView",
            "align_content": null,
            "align_items": null,
            "align_self": null,
            "border": null,
            "bottom": null,
            "display": null,
            "flex": null,
            "flex_flow": null,
            "grid_area": null,
            "grid_auto_columns": null,
            "grid_auto_flow": null,
            "grid_auto_rows": null,
            "grid_column": null,
            "grid_gap": null,
            "grid_row": null,
            "grid_template_areas": null,
            "grid_template_columns": null,
            "grid_template_rows": null,
            "height": null,
            "justify_content": null,
            "justify_items": null,
            "left": null,
            "margin": null,
            "max_height": null,
            "max_width": null,
            "min_height": null,
            "min_width": null,
            "object_fit": null,
            "object_position": null,
            "order": null,
            "overflow": null,
            "overflow_x": null,
            "overflow_y": null,
            "padding": null,
            "right": null,
            "top": null,
            "visibility": null,
            "width": null
          }
        },
        "7978ece589ff428499c2059311e856d4": {
          "model_module": "@jupyter-widgets/base",
          "model_name": "LayoutModel",
          "model_module_version": "1.2.0",
          "state": {
            "_model_module": "@jupyter-widgets/base",
            "_model_module_version": "1.2.0",
            "_model_name": "LayoutModel",
            "_view_count": null,
            "_view_module": "@jupyter-widgets/base",
            "_view_module_version": "1.2.0",
            "_view_name": "LayoutView",
            "align_content": null,
            "align_items": null,
            "align_self": null,
            "border": null,
            "bottom": null,
            "display": null,
            "flex": null,
            "flex_flow": null,
            "grid_area": null,
            "grid_auto_columns": null,
            "grid_auto_flow": null,
            "grid_auto_rows": null,
            "grid_column": null,
            "grid_gap": null,
            "grid_row": null,
            "grid_template_areas": null,
            "grid_template_columns": null,
            "grid_template_rows": null,
            "height": null,
            "justify_content": null,
            "justify_items": null,
            "left": null,
            "margin": null,
            "max_height": null,
            "max_width": null,
            "min_height": null,
            "min_width": null,
            "object_fit": null,
            "object_position": null,
            "order": null,
            "overflow": null,
            "overflow_x": null,
            "overflow_y": null,
            "padding": null,
            "right": null,
            "top": null,
            "visibility": null,
            "width": null
          }
        },
        "40e6809c803f4e15ad5d4175629af53f": {
          "model_module": "@jupyter-widgets/controls",
          "model_name": "DescriptionStyleModel",
          "model_module_version": "1.5.0",
          "state": {
            "_model_module": "@jupyter-widgets/controls",
            "_model_module_version": "1.5.0",
            "_model_name": "DescriptionStyleModel",
            "_view_count": null,
            "_view_module": "@jupyter-widgets/base",
            "_view_module_version": "1.2.0",
            "_view_name": "StyleView",
            "description_width": ""
          }
        },
        "54d6c4f4bb6a40f2bb43f87d507475c9": {
          "model_module": "@jupyter-widgets/base",
          "model_name": "LayoutModel",
          "model_module_version": "1.2.0",
          "state": {
            "_model_module": "@jupyter-widgets/base",
            "_model_module_version": "1.2.0",
            "_model_name": "LayoutModel",
            "_view_count": null,
            "_view_module": "@jupyter-widgets/base",
            "_view_module_version": "1.2.0",
            "_view_name": "LayoutView",
            "align_content": null,
            "align_items": null,
            "align_self": null,
            "border": null,
            "bottom": null,
            "display": null,
            "flex": null,
            "flex_flow": null,
            "grid_area": null,
            "grid_auto_columns": null,
            "grid_auto_flow": null,
            "grid_auto_rows": null,
            "grid_column": null,
            "grid_gap": null,
            "grid_row": null,
            "grid_template_areas": null,
            "grid_template_columns": null,
            "grid_template_rows": null,
            "height": null,
            "justify_content": null,
            "justify_items": null,
            "left": null,
            "margin": null,
            "max_height": null,
            "max_width": null,
            "min_height": null,
            "min_width": null,
            "object_fit": null,
            "object_position": null,
            "order": null,
            "overflow": null,
            "overflow_x": null,
            "overflow_y": null,
            "padding": null,
            "right": null,
            "top": null,
            "visibility": null,
            "width": null
          }
        },
        "a5f62371634c45f89668e76cdba0ab78": {
          "model_module": "@jupyter-widgets/controls",
          "model_name": "ProgressStyleModel",
          "model_module_version": "1.5.0",
          "state": {
            "_model_module": "@jupyter-widgets/controls",
            "_model_module_version": "1.5.0",
            "_model_name": "ProgressStyleModel",
            "_view_count": null,
            "_view_module": "@jupyter-widgets/base",
            "_view_module_version": "1.2.0",
            "_view_name": "StyleView",
            "bar_color": null,
            "description_width": ""
          }
        },
        "f2f5ceb8970d4f5e924c89f4cfe01bf1": {
          "model_module": "@jupyter-widgets/base",
          "model_name": "LayoutModel",
          "model_module_version": "1.2.0",
          "state": {
            "_model_module": "@jupyter-widgets/base",
            "_model_module_version": "1.2.0",
            "_model_name": "LayoutModel",
            "_view_count": null,
            "_view_module": "@jupyter-widgets/base",
            "_view_module_version": "1.2.0",
            "_view_name": "LayoutView",
            "align_content": null,
            "align_items": null,
            "align_self": null,
            "border": null,
            "bottom": null,
            "display": null,
            "flex": null,
            "flex_flow": null,
            "grid_area": null,
            "grid_auto_columns": null,
            "grid_auto_flow": null,
            "grid_auto_rows": null,
            "grid_column": null,
            "grid_gap": null,
            "grid_row": null,
            "grid_template_areas": null,
            "grid_template_columns": null,
            "grid_template_rows": null,
            "height": null,
            "justify_content": null,
            "justify_items": null,
            "left": null,
            "margin": null,
            "max_height": null,
            "max_width": null,
            "min_height": null,
            "min_width": null,
            "object_fit": null,
            "object_position": null,
            "order": null,
            "overflow": null,
            "overflow_x": null,
            "overflow_y": null,
            "padding": null,
            "right": null,
            "top": null,
            "visibility": null,
            "width": null
          }
        },
        "3bd24d2a889e48c9bd3fd71dc463cfd4": {
          "model_module": "@jupyter-widgets/controls",
          "model_name": "DescriptionStyleModel",
          "model_module_version": "1.5.0",
          "state": {
            "_model_module": "@jupyter-widgets/controls",
            "_model_module_version": "1.5.0",
            "_model_name": "DescriptionStyleModel",
            "_view_count": null,
            "_view_module": "@jupyter-widgets/base",
            "_view_module_version": "1.2.0",
            "_view_name": "StyleView",
            "description_width": ""
          }
        },
        "2c8a4de3a8d745faad2751b7032316e8": {
          "model_module": "@jupyter-widgets/controls",
          "model_name": "HBoxModel",
          "model_module_version": "1.5.0",
          "state": {
            "_dom_classes": [],
            "_model_module": "@jupyter-widgets/controls",
            "_model_module_version": "1.5.0",
            "_model_name": "HBoxModel",
            "_view_count": null,
            "_view_module": "@jupyter-widgets/controls",
            "_view_module_version": "1.5.0",
            "_view_name": "HBoxView",
            "box_style": "",
            "children": [
              "IPY_MODEL_60ce54dc41b144e7acd6e37385143d3a",
              "IPY_MODEL_3ca5ef6af8d1492489389119b090f7b2",
              "IPY_MODEL_f9b0c3031f164660bfa2a379bd289e5c"
            ],
            "layout": "IPY_MODEL_523ba72c62e34858a689393ba5fe4ec6"
          }
        },
        "60ce54dc41b144e7acd6e37385143d3a": {
          "model_module": "@jupyter-widgets/controls",
          "model_name": "HTMLModel",
          "model_module_version": "1.5.0",
          "state": {
            "_dom_classes": [],
            "_model_module": "@jupyter-widgets/controls",
            "_model_module_version": "1.5.0",
            "_model_name": "HTMLModel",
            "_view_count": null,
            "_view_module": "@jupyter-widgets/controls",
            "_view_module_version": "1.5.0",
            "_view_name": "HTMLView",
            "description": "",
            "description_tooltip": null,
            "layout": "IPY_MODEL_98ab9a05ec8e46bf8d3ec9e1479376ee",
            "placeholder": "​",
            "style": "IPY_MODEL_7400fb6ba080462985a491d97498d4a3",
            "value": ""
          }
        },
        "3ca5ef6af8d1492489389119b090f7b2": {
          "model_module": "@jupyter-widgets/controls",
          "model_name": "FloatProgressModel",
          "model_module_version": "1.5.0",
          "state": {
            "_dom_classes": [],
            "_model_module": "@jupyter-widgets/controls",
            "_model_module_version": "1.5.0",
            "_model_name": "FloatProgressModel",
            "_view_count": null,
            "_view_module": "@jupyter-widgets/controls",
            "_view_module_version": "1.5.0",
            "_view_name": "ProgressView",
            "bar_style": "success",
            "description": "",
            "description_tooltip": null,
            "layout": "IPY_MODEL_896652d64fc9445781f954a7c5e20c56",
            "max": 48,
            "min": 0,
            "orientation": "horizontal",
            "style": "IPY_MODEL_2b6f6cab47044209b70b5ad28f5593f0",
            "value": 48
          }
        },
        "f9b0c3031f164660bfa2a379bd289e5c": {
          "model_module": "@jupyter-widgets/controls",
          "model_name": "HTMLModel",
          "model_module_version": "1.5.0",
          "state": {
            "_dom_classes": [],
            "_model_module": "@jupyter-widgets/controls",
            "_model_module_version": "1.5.0",
            "_model_name": "HTMLModel",
            "_view_count": null,
            "_view_module": "@jupyter-widgets/controls",
            "_view_module_version": "1.5.0",
            "_view_name": "HTMLView",
            "description": "",
            "description_tooltip": null,
            "layout": "IPY_MODEL_9eaba92464b14016b47f4302c33f4b8f",
            "placeholder": "​",
            "style": "IPY_MODEL_61e09e86f698497db7e38c2faab91f2c",
            "value": " 146/? [00:35&lt;00:00,  4.18it/s]"
          }
        },
        "523ba72c62e34858a689393ba5fe4ec6": {
          "model_module": "@jupyter-widgets/base",
          "model_name": "LayoutModel",
          "model_module_version": "1.2.0",
          "state": {
            "_model_module": "@jupyter-widgets/base",
            "_model_module_version": "1.2.0",
            "_model_name": "LayoutModel",
            "_view_count": null,
            "_view_module": "@jupyter-widgets/base",
            "_view_module_version": "1.2.0",
            "_view_name": "LayoutView",
            "align_content": null,
            "align_items": null,
            "align_self": null,
            "border": null,
            "bottom": null,
            "display": null,
            "flex": null,
            "flex_flow": null,
            "grid_area": null,
            "grid_auto_columns": null,
            "grid_auto_flow": null,
            "grid_auto_rows": null,
            "grid_column": null,
            "grid_gap": null,
            "grid_row": null,
            "grid_template_areas": null,
            "grid_template_columns": null,
            "grid_template_rows": null,
            "height": null,
            "justify_content": null,
            "justify_items": null,
            "left": null,
            "margin": null,
            "max_height": null,
            "max_width": null,
            "min_height": null,
            "min_width": null,
            "object_fit": null,
            "object_position": null,
            "order": null,
            "overflow": null,
            "overflow_x": null,
            "overflow_y": null,
            "padding": null,
            "right": null,
            "top": null,
            "visibility": null,
            "width": null
          }
        },
        "98ab9a05ec8e46bf8d3ec9e1479376ee": {
          "model_module": "@jupyter-widgets/base",
          "model_name": "LayoutModel",
          "model_module_version": "1.2.0",
          "state": {
            "_model_module": "@jupyter-widgets/base",
            "_model_module_version": "1.2.0",
            "_model_name": "LayoutModel",
            "_view_count": null,
            "_view_module": "@jupyter-widgets/base",
            "_view_module_version": "1.2.0",
            "_view_name": "LayoutView",
            "align_content": null,
            "align_items": null,
            "align_self": null,
            "border": null,
            "bottom": null,
            "display": null,
            "flex": null,
            "flex_flow": null,
            "grid_area": null,
            "grid_auto_columns": null,
            "grid_auto_flow": null,
            "grid_auto_rows": null,
            "grid_column": null,
            "grid_gap": null,
            "grid_row": null,
            "grid_template_areas": null,
            "grid_template_columns": null,
            "grid_template_rows": null,
            "height": null,
            "justify_content": null,
            "justify_items": null,
            "left": null,
            "margin": null,
            "max_height": null,
            "max_width": null,
            "min_height": null,
            "min_width": null,
            "object_fit": null,
            "object_position": null,
            "order": null,
            "overflow": null,
            "overflow_x": null,
            "overflow_y": null,
            "padding": null,
            "right": null,
            "top": null,
            "visibility": null,
            "width": null
          }
        },
        "7400fb6ba080462985a491d97498d4a3": {
          "model_module": "@jupyter-widgets/controls",
          "model_name": "DescriptionStyleModel",
          "model_module_version": "1.5.0",
          "state": {
            "_model_module": "@jupyter-widgets/controls",
            "_model_module_version": "1.5.0",
            "_model_name": "DescriptionStyleModel",
            "_view_count": null,
            "_view_module": "@jupyter-widgets/base",
            "_view_module_version": "1.2.0",
            "_view_name": "StyleView",
            "description_width": ""
          }
        },
        "896652d64fc9445781f954a7c5e20c56": {
          "model_module": "@jupyter-widgets/base",
          "model_name": "LayoutModel",
          "model_module_version": "1.2.0",
          "state": {
            "_model_module": "@jupyter-widgets/base",
            "_model_module_version": "1.2.0",
            "_model_name": "LayoutModel",
            "_view_count": null,
            "_view_module": "@jupyter-widgets/base",
            "_view_module_version": "1.2.0",
            "_view_name": "LayoutView",
            "align_content": null,
            "align_items": null,
            "align_self": null,
            "border": null,
            "bottom": null,
            "display": null,
            "flex": null,
            "flex_flow": null,
            "grid_area": null,
            "grid_auto_columns": null,
            "grid_auto_flow": null,
            "grid_auto_rows": null,
            "grid_column": null,
            "grid_gap": null,
            "grid_row": null,
            "grid_template_areas": null,
            "grid_template_columns": null,
            "grid_template_rows": null,
            "height": null,
            "justify_content": null,
            "justify_items": null,
            "left": null,
            "margin": null,
            "max_height": null,
            "max_width": null,
            "min_height": null,
            "min_width": null,
            "object_fit": null,
            "object_position": null,
            "order": null,
            "overflow": null,
            "overflow_x": null,
            "overflow_y": null,
            "padding": null,
            "right": null,
            "top": null,
            "visibility": null,
            "width": null
          }
        },
        "2b6f6cab47044209b70b5ad28f5593f0": {
          "model_module": "@jupyter-widgets/controls",
          "model_name": "ProgressStyleModel",
          "model_module_version": "1.5.0",
          "state": {
            "_model_module": "@jupyter-widgets/controls",
            "_model_module_version": "1.5.0",
            "_model_name": "ProgressStyleModel",
            "_view_count": null,
            "_view_module": "@jupyter-widgets/base",
            "_view_module_version": "1.2.0",
            "_view_name": "StyleView",
            "bar_color": null,
            "description_width": ""
          }
        },
        "9eaba92464b14016b47f4302c33f4b8f": {
          "model_module": "@jupyter-widgets/base",
          "model_name": "LayoutModel",
          "model_module_version": "1.2.0",
          "state": {
            "_model_module": "@jupyter-widgets/base",
            "_model_module_version": "1.2.0",
            "_model_name": "LayoutModel",
            "_view_count": null,
            "_view_module": "@jupyter-widgets/base",
            "_view_module_version": "1.2.0",
            "_view_name": "LayoutView",
            "align_content": null,
            "align_items": null,
            "align_self": null,
            "border": null,
            "bottom": null,
            "display": null,
            "flex": null,
            "flex_flow": null,
            "grid_area": null,
            "grid_auto_columns": null,
            "grid_auto_flow": null,
            "grid_auto_rows": null,
            "grid_column": null,
            "grid_gap": null,
            "grid_row": null,
            "grid_template_areas": null,
            "grid_template_columns": null,
            "grid_template_rows": null,
            "height": null,
            "justify_content": null,
            "justify_items": null,
            "left": null,
            "margin": null,
            "max_height": null,
            "max_width": null,
            "min_height": null,
            "min_width": null,
            "object_fit": null,
            "object_position": null,
            "order": null,
            "overflow": null,
            "overflow_x": null,
            "overflow_y": null,
            "padding": null,
            "right": null,
            "top": null,
            "visibility": null,
            "width": null
          }
        },
        "61e09e86f698497db7e38c2faab91f2c": {
          "model_module": "@jupyter-widgets/controls",
          "model_name": "DescriptionStyleModel",
          "model_module_version": "1.5.0",
          "state": {
            "_model_module": "@jupyter-widgets/controls",
            "_model_module_version": "1.5.0",
            "_model_name": "DescriptionStyleModel",
            "_view_count": null,
            "_view_module": "@jupyter-widgets/base",
            "_view_module_version": "1.2.0",
            "_view_name": "StyleView",
            "description_width": ""
          }
        },
        "234964b68f644c6ba29ed11e57b02f32": {
          "model_module": "@jupyter-widgets/controls",
          "model_name": "HBoxModel",
          "model_module_version": "1.5.0",
          "state": {
            "_dom_classes": [],
            "_model_module": "@jupyter-widgets/controls",
            "_model_module_version": "1.5.0",
            "_model_name": "HBoxModel",
            "_view_count": null,
            "_view_module": "@jupyter-widgets/controls",
            "_view_module_version": "1.5.0",
            "_view_name": "HBoxView",
            "box_style": "",
            "children": [
              "IPY_MODEL_4785422bc3c94d3e96a3fa84d4ded8de",
              "IPY_MODEL_e64118eacb654f57a3669b24130294f8",
              "IPY_MODEL_9596c4f9ca6044da8155757a8b85b0b6"
            ],
            "layout": "IPY_MODEL_3f1157cc81244a66b401bd24ca70cdf1"
          }
        },
        "4785422bc3c94d3e96a3fa84d4ded8de": {
          "model_module": "@jupyter-widgets/controls",
          "model_name": "HTMLModel",
          "model_module_version": "1.5.0",
          "state": {
            "_dom_classes": [],
            "_model_module": "@jupyter-widgets/controls",
            "_model_module_version": "1.5.0",
            "_model_name": "HTMLModel",
            "_view_count": null,
            "_view_module": "@jupyter-widgets/controls",
            "_view_module_version": "1.5.0",
            "_view_name": "HTMLView",
            "description": "",
            "description_tooltip": null,
            "layout": "IPY_MODEL_e3563f01fdce4210b647ceafa7138170",
            "placeholder": "​",
            "style": "IPY_MODEL_0686346827c047e9923f5f0ecf0c4736",
            "value": ""
          }
        },
        "e64118eacb654f57a3669b24130294f8": {
          "model_module": "@jupyter-widgets/controls",
          "model_name": "FloatProgressModel",
          "model_module_version": "1.5.0",
          "state": {
            "_dom_classes": [],
            "_model_module": "@jupyter-widgets/controls",
            "_model_module_version": "1.5.0",
            "_model_name": "FloatProgressModel",
            "_view_count": null,
            "_view_module": "@jupyter-widgets/controls",
            "_view_module_version": "1.5.0",
            "_view_name": "ProgressView",
            "bar_style": "success",
            "description": "",
            "description_tooltip": null,
            "layout": "IPY_MODEL_6eac78e9bf8d41898c24939453c9ba89",
            "max": 12,
            "min": 0,
            "orientation": "horizontal",
            "style": "IPY_MODEL_c37c9452c9f94f9785ff36da617d9caa",
            "value": 12
          }
        },
        "9596c4f9ca6044da8155757a8b85b0b6": {
          "model_module": "@jupyter-widgets/controls",
          "model_name": "HTMLModel",
          "model_module_version": "1.5.0",
          "state": {
            "_dom_classes": [],
            "_model_module": "@jupyter-widgets/controls",
            "_model_module_version": "1.5.0",
            "_model_name": "HTMLModel",
            "_view_count": null,
            "_view_module": "@jupyter-widgets/controls",
            "_view_module_version": "1.5.0",
            "_view_name": "HTMLView",
            "description": "",
            "description_tooltip": null,
            "layout": "IPY_MODEL_afe291f3115344839be46826ffc4ffa5",
            "placeholder": "​",
            "style": "IPY_MODEL_3e016f45d89848989375de9b06a660ef",
            "value": " 37/? [00:02&lt;00:00, 12.72it/s]"
          }
        },
        "3f1157cc81244a66b401bd24ca70cdf1": {
          "model_module": "@jupyter-widgets/base",
          "model_name": "LayoutModel",
          "model_module_version": "1.2.0",
          "state": {
            "_model_module": "@jupyter-widgets/base",
            "_model_module_version": "1.2.0",
            "_model_name": "LayoutModel",
            "_view_count": null,
            "_view_module": "@jupyter-widgets/base",
            "_view_module_version": "1.2.0",
            "_view_name": "LayoutView",
            "align_content": null,
            "align_items": null,
            "align_self": null,
            "border": null,
            "bottom": null,
            "display": null,
            "flex": null,
            "flex_flow": null,
            "grid_area": null,
            "grid_auto_columns": null,
            "grid_auto_flow": null,
            "grid_auto_rows": null,
            "grid_column": null,
            "grid_gap": null,
            "grid_row": null,
            "grid_template_areas": null,
            "grid_template_columns": null,
            "grid_template_rows": null,
            "height": null,
            "justify_content": null,
            "justify_items": null,
            "left": null,
            "margin": null,
            "max_height": null,
            "max_width": null,
            "min_height": null,
            "min_width": null,
            "object_fit": null,
            "object_position": null,
            "order": null,
            "overflow": null,
            "overflow_x": null,
            "overflow_y": null,
            "padding": null,
            "right": null,
            "top": null,
            "visibility": null,
            "width": null
          }
        },
        "e3563f01fdce4210b647ceafa7138170": {
          "model_module": "@jupyter-widgets/base",
          "model_name": "LayoutModel",
          "model_module_version": "1.2.0",
          "state": {
            "_model_module": "@jupyter-widgets/base",
            "_model_module_version": "1.2.0",
            "_model_name": "LayoutModel",
            "_view_count": null,
            "_view_module": "@jupyter-widgets/base",
            "_view_module_version": "1.2.0",
            "_view_name": "LayoutView",
            "align_content": null,
            "align_items": null,
            "align_self": null,
            "border": null,
            "bottom": null,
            "display": null,
            "flex": null,
            "flex_flow": null,
            "grid_area": null,
            "grid_auto_columns": null,
            "grid_auto_flow": null,
            "grid_auto_rows": null,
            "grid_column": null,
            "grid_gap": null,
            "grid_row": null,
            "grid_template_areas": null,
            "grid_template_columns": null,
            "grid_template_rows": null,
            "height": null,
            "justify_content": null,
            "justify_items": null,
            "left": null,
            "margin": null,
            "max_height": null,
            "max_width": null,
            "min_height": null,
            "min_width": null,
            "object_fit": null,
            "object_position": null,
            "order": null,
            "overflow": null,
            "overflow_x": null,
            "overflow_y": null,
            "padding": null,
            "right": null,
            "top": null,
            "visibility": null,
            "width": null
          }
        },
        "0686346827c047e9923f5f0ecf0c4736": {
          "model_module": "@jupyter-widgets/controls",
          "model_name": "DescriptionStyleModel",
          "model_module_version": "1.5.0",
          "state": {
            "_model_module": "@jupyter-widgets/controls",
            "_model_module_version": "1.5.0",
            "_model_name": "DescriptionStyleModel",
            "_view_count": null,
            "_view_module": "@jupyter-widgets/base",
            "_view_module_version": "1.2.0",
            "_view_name": "StyleView",
            "description_width": ""
          }
        },
        "6eac78e9bf8d41898c24939453c9ba89": {
          "model_module": "@jupyter-widgets/base",
          "model_name": "LayoutModel",
          "model_module_version": "1.2.0",
          "state": {
            "_model_module": "@jupyter-widgets/base",
            "_model_module_version": "1.2.0",
            "_model_name": "LayoutModel",
            "_view_count": null,
            "_view_module": "@jupyter-widgets/base",
            "_view_module_version": "1.2.0",
            "_view_name": "LayoutView",
            "align_content": null,
            "align_items": null,
            "align_self": null,
            "border": null,
            "bottom": null,
            "display": null,
            "flex": null,
            "flex_flow": null,
            "grid_area": null,
            "grid_auto_columns": null,
            "grid_auto_flow": null,
            "grid_auto_rows": null,
            "grid_column": null,
            "grid_gap": null,
            "grid_row": null,
            "grid_template_areas": null,
            "grid_template_columns": null,
            "grid_template_rows": null,
            "height": null,
            "justify_content": null,
            "justify_items": null,
            "left": null,
            "margin": null,
            "max_height": null,
            "max_width": null,
            "min_height": null,
            "min_width": null,
            "object_fit": null,
            "object_position": null,
            "order": null,
            "overflow": null,
            "overflow_x": null,
            "overflow_y": null,
            "padding": null,
            "right": null,
            "top": null,
            "visibility": null,
            "width": null
          }
        },
        "c37c9452c9f94f9785ff36da617d9caa": {
          "model_module": "@jupyter-widgets/controls",
          "model_name": "ProgressStyleModel",
          "model_module_version": "1.5.0",
          "state": {
            "_model_module": "@jupyter-widgets/controls",
            "_model_module_version": "1.5.0",
            "_model_name": "ProgressStyleModel",
            "_view_count": null,
            "_view_module": "@jupyter-widgets/base",
            "_view_module_version": "1.2.0",
            "_view_name": "StyleView",
            "bar_color": null,
            "description_width": ""
          }
        },
        "afe291f3115344839be46826ffc4ffa5": {
          "model_module": "@jupyter-widgets/base",
          "model_name": "LayoutModel",
          "model_module_version": "1.2.0",
          "state": {
            "_model_module": "@jupyter-widgets/base",
            "_model_module_version": "1.2.0",
            "_model_name": "LayoutModel",
            "_view_count": null,
            "_view_module": "@jupyter-widgets/base",
            "_view_module_version": "1.2.0",
            "_view_name": "LayoutView",
            "align_content": null,
            "align_items": null,
            "align_self": null,
            "border": null,
            "bottom": null,
            "display": null,
            "flex": null,
            "flex_flow": null,
            "grid_area": null,
            "grid_auto_columns": null,
            "grid_auto_flow": null,
            "grid_auto_rows": null,
            "grid_column": null,
            "grid_gap": null,
            "grid_row": null,
            "grid_template_areas": null,
            "grid_template_columns": null,
            "grid_template_rows": null,
            "height": null,
            "justify_content": null,
            "justify_items": null,
            "left": null,
            "margin": null,
            "max_height": null,
            "max_width": null,
            "min_height": null,
            "min_width": null,
            "object_fit": null,
            "object_position": null,
            "order": null,
            "overflow": null,
            "overflow_x": null,
            "overflow_y": null,
            "padding": null,
            "right": null,
            "top": null,
            "visibility": null,
            "width": null
          }
        },
        "3e016f45d89848989375de9b06a660ef": {
          "model_module": "@jupyter-widgets/controls",
          "model_name": "DescriptionStyleModel",
          "model_module_version": "1.5.0",
          "state": {
            "_model_module": "@jupyter-widgets/controls",
            "_model_module_version": "1.5.0",
            "_model_name": "DescriptionStyleModel",
            "_view_count": null,
            "_view_module": "@jupyter-widgets/base",
            "_view_module_version": "1.2.0",
            "_view_name": "StyleView",
            "description_width": ""
          }
        },
        "74104f5b7bdb4a089f6e6601db1a3eca": {
          "model_module": "@jupyter-widgets/controls",
          "model_name": "HBoxModel",
          "model_module_version": "1.5.0",
          "state": {
            "_dom_classes": [],
            "_model_module": "@jupyter-widgets/controls",
            "_model_module_version": "1.5.0",
            "_model_name": "HBoxModel",
            "_view_count": null,
            "_view_module": "@jupyter-widgets/controls",
            "_view_module_version": "1.5.0",
            "_view_name": "HBoxView",
            "box_style": "",
            "children": [
              "IPY_MODEL_3ead8a99a0694a5ab1154101aa73f5d9",
              "IPY_MODEL_ad41a75f22b044e0b9c076d9b9832519",
              "IPY_MODEL_3f2e1496b88c42659d8038fd0afc089f"
            ],
            "layout": "IPY_MODEL_3c6eb4185e1240baa9adc32e9df72e6f"
          }
        },
        "3ead8a99a0694a5ab1154101aa73f5d9": {
          "model_module": "@jupyter-widgets/controls",
          "model_name": "HTMLModel",
          "model_module_version": "1.5.0",
          "state": {
            "_dom_classes": [],
            "_model_module": "@jupyter-widgets/controls",
            "_model_module_version": "1.5.0",
            "_model_name": "HTMLModel",
            "_view_count": null,
            "_view_module": "@jupyter-widgets/controls",
            "_view_module_version": "1.5.0",
            "_view_name": "HTMLView",
            "description": "",
            "description_tooltip": null,
            "layout": "IPY_MODEL_8b61476678094698b9d6a39db7bf7e77",
            "placeholder": "​",
            "style": "IPY_MODEL_dde0fb2b1a024ddc97c68fe6cfaf7c61",
            "value": ""
          }
        },
        "ad41a75f22b044e0b9c076d9b9832519": {
          "model_module": "@jupyter-widgets/controls",
          "model_name": "FloatProgressModel",
          "model_module_version": "1.5.0",
          "state": {
            "_dom_classes": [],
            "_model_module": "@jupyter-widgets/controls",
            "_model_module_version": "1.5.0",
            "_model_name": "FloatProgressModel",
            "_view_count": null,
            "_view_module": "@jupyter-widgets/controls",
            "_view_module_version": "1.5.0",
            "_view_name": "ProgressView",
            "bar_style": "success",
            "description": "",
            "description_tooltip": null,
            "layout": "IPY_MODEL_5d6e478e31a746bbb19ae7d046b3b9b5",
            "max": 48,
            "min": 0,
            "orientation": "horizontal",
            "style": "IPY_MODEL_ddc06938bf12430bad10ead3f2356945",
            "value": 48
          }
        },
        "3f2e1496b88c42659d8038fd0afc089f": {
          "model_module": "@jupyter-widgets/controls",
          "model_name": "HTMLModel",
          "model_module_version": "1.5.0",
          "state": {
            "_dom_classes": [],
            "_model_module": "@jupyter-widgets/controls",
            "_model_module_version": "1.5.0",
            "_model_name": "HTMLModel",
            "_view_count": null,
            "_view_module": "@jupyter-widgets/controls",
            "_view_module_version": "1.5.0",
            "_view_name": "HTMLView",
            "description": "",
            "description_tooltip": null,
            "layout": "IPY_MODEL_4c92d1e5de9446329d1d0e3d56700d6e",
            "placeholder": "​",
            "style": "IPY_MODEL_ddfbb8736bb84d15b640937bb2104958",
            "value": " 146/? [00:35&lt;00:00,  4.34it/s]"
          }
        },
        "3c6eb4185e1240baa9adc32e9df72e6f": {
          "model_module": "@jupyter-widgets/base",
          "model_name": "LayoutModel",
          "model_module_version": "1.2.0",
          "state": {
            "_model_module": "@jupyter-widgets/base",
            "_model_module_version": "1.2.0",
            "_model_name": "LayoutModel",
            "_view_count": null,
            "_view_module": "@jupyter-widgets/base",
            "_view_module_version": "1.2.0",
            "_view_name": "LayoutView",
            "align_content": null,
            "align_items": null,
            "align_self": null,
            "border": null,
            "bottom": null,
            "display": null,
            "flex": null,
            "flex_flow": null,
            "grid_area": null,
            "grid_auto_columns": null,
            "grid_auto_flow": null,
            "grid_auto_rows": null,
            "grid_column": null,
            "grid_gap": null,
            "grid_row": null,
            "grid_template_areas": null,
            "grid_template_columns": null,
            "grid_template_rows": null,
            "height": null,
            "justify_content": null,
            "justify_items": null,
            "left": null,
            "margin": null,
            "max_height": null,
            "max_width": null,
            "min_height": null,
            "min_width": null,
            "object_fit": null,
            "object_position": null,
            "order": null,
            "overflow": null,
            "overflow_x": null,
            "overflow_y": null,
            "padding": null,
            "right": null,
            "top": null,
            "visibility": null,
            "width": null
          }
        },
        "8b61476678094698b9d6a39db7bf7e77": {
          "model_module": "@jupyter-widgets/base",
          "model_name": "LayoutModel",
          "model_module_version": "1.2.0",
          "state": {
            "_model_module": "@jupyter-widgets/base",
            "_model_module_version": "1.2.0",
            "_model_name": "LayoutModel",
            "_view_count": null,
            "_view_module": "@jupyter-widgets/base",
            "_view_module_version": "1.2.0",
            "_view_name": "LayoutView",
            "align_content": null,
            "align_items": null,
            "align_self": null,
            "border": null,
            "bottom": null,
            "display": null,
            "flex": null,
            "flex_flow": null,
            "grid_area": null,
            "grid_auto_columns": null,
            "grid_auto_flow": null,
            "grid_auto_rows": null,
            "grid_column": null,
            "grid_gap": null,
            "grid_row": null,
            "grid_template_areas": null,
            "grid_template_columns": null,
            "grid_template_rows": null,
            "height": null,
            "justify_content": null,
            "justify_items": null,
            "left": null,
            "margin": null,
            "max_height": null,
            "max_width": null,
            "min_height": null,
            "min_width": null,
            "object_fit": null,
            "object_position": null,
            "order": null,
            "overflow": null,
            "overflow_x": null,
            "overflow_y": null,
            "padding": null,
            "right": null,
            "top": null,
            "visibility": null,
            "width": null
          }
        },
        "dde0fb2b1a024ddc97c68fe6cfaf7c61": {
          "model_module": "@jupyter-widgets/controls",
          "model_name": "DescriptionStyleModel",
          "model_module_version": "1.5.0",
          "state": {
            "_model_module": "@jupyter-widgets/controls",
            "_model_module_version": "1.5.0",
            "_model_name": "DescriptionStyleModel",
            "_view_count": null,
            "_view_module": "@jupyter-widgets/base",
            "_view_module_version": "1.2.0",
            "_view_name": "StyleView",
            "description_width": ""
          }
        },
        "5d6e478e31a746bbb19ae7d046b3b9b5": {
          "model_module": "@jupyter-widgets/base",
          "model_name": "LayoutModel",
          "model_module_version": "1.2.0",
          "state": {
            "_model_module": "@jupyter-widgets/base",
            "_model_module_version": "1.2.0",
            "_model_name": "LayoutModel",
            "_view_count": null,
            "_view_module": "@jupyter-widgets/base",
            "_view_module_version": "1.2.0",
            "_view_name": "LayoutView",
            "align_content": null,
            "align_items": null,
            "align_self": null,
            "border": null,
            "bottom": null,
            "display": null,
            "flex": null,
            "flex_flow": null,
            "grid_area": null,
            "grid_auto_columns": null,
            "grid_auto_flow": null,
            "grid_auto_rows": null,
            "grid_column": null,
            "grid_gap": null,
            "grid_row": null,
            "grid_template_areas": null,
            "grid_template_columns": null,
            "grid_template_rows": null,
            "height": null,
            "justify_content": null,
            "justify_items": null,
            "left": null,
            "margin": null,
            "max_height": null,
            "max_width": null,
            "min_height": null,
            "min_width": null,
            "object_fit": null,
            "object_position": null,
            "order": null,
            "overflow": null,
            "overflow_x": null,
            "overflow_y": null,
            "padding": null,
            "right": null,
            "top": null,
            "visibility": null,
            "width": null
          }
        },
        "ddc06938bf12430bad10ead3f2356945": {
          "model_module": "@jupyter-widgets/controls",
          "model_name": "ProgressStyleModel",
          "model_module_version": "1.5.0",
          "state": {
            "_model_module": "@jupyter-widgets/controls",
            "_model_module_version": "1.5.0",
            "_model_name": "ProgressStyleModel",
            "_view_count": null,
            "_view_module": "@jupyter-widgets/base",
            "_view_module_version": "1.2.0",
            "_view_name": "StyleView",
            "bar_color": null,
            "description_width": ""
          }
        },
        "4c92d1e5de9446329d1d0e3d56700d6e": {
          "model_module": "@jupyter-widgets/base",
          "model_name": "LayoutModel",
          "model_module_version": "1.2.0",
          "state": {
            "_model_module": "@jupyter-widgets/base",
            "_model_module_version": "1.2.0",
            "_model_name": "LayoutModel",
            "_view_count": null,
            "_view_module": "@jupyter-widgets/base",
            "_view_module_version": "1.2.0",
            "_view_name": "LayoutView",
            "align_content": null,
            "align_items": null,
            "align_self": null,
            "border": null,
            "bottom": null,
            "display": null,
            "flex": null,
            "flex_flow": null,
            "grid_area": null,
            "grid_auto_columns": null,
            "grid_auto_flow": null,
            "grid_auto_rows": null,
            "grid_column": null,
            "grid_gap": null,
            "grid_row": null,
            "grid_template_areas": null,
            "grid_template_columns": null,
            "grid_template_rows": null,
            "height": null,
            "justify_content": null,
            "justify_items": null,
            "left": null,
            "margin": null,
            "max_height": null,
            "max_width": null,
            "min_height": null,
            "min_width": null,
            "object_fit": null,
            "object_position": null,
            "order": null,
            "overflow": null,
            "overflow_x": null,
            "overflow_y": null,
            "padding": null,
            "right": null,
            "top": null,
            "visibility": null,
            "width": null
          }
        },
        "ddfbb8736bb84d15b640937bb2104958": {
          "model_module": "@jupyter-widgets/controls",
          "model_name": "DescriptionStyleModel",
          "model_module_version": "1.5.0",
          "state": {
            "_model_module": "@jupyter-widgets/controls",
            "_model_module_version": "1.5.0",
            "_model_name": "DescriptionStyleModel",
            "_view_count": null,
            "_view_module": "@jupyter-widgets/base",
            "_view_module_version": "1.2.0",
            "_view_name": "StyleView",
            "description_width": ""
          }
        },
        "838e1946bbbb483881db2eeb4f8d3c08": {
          "model_module": "@jupyter-widgets/controls",
          "model_name": "HBoxModel",
          "model_module_version": "1.5.0",
          "state": {
            "_dom_classes": [],
            "_model_module": "@jupyter-widgets/controls",
            "_model_module_version": "1.5.0",
            "_model_name": "HBoxModel",
            "_view_count": null,
            "_view_module": "@jupyter-widgets/controls",
            "_view_module_version": "1.5.0",
            "_view_name": "HBoxView",
            "box_style": "",
            "children": [
              "IPY_MODEL_db2a47ee27d5455f85ecb474706f77e6",
              "IPY_MODEL_be9100dca95a47dcb015891b06e3ced9",
              "IPY_MODEL_a2ce85c2234e4e6cacd6b1032de9ec8e"
            ],
            "layout": "IPY_MODEL_97afbb2a2d0d4fc8a24dc6ca6c9224fb"
          }
        },
        "db2a47ee27d5455f85ecb474706f77e6": {
          "model_module": "@jupyter-widgets/controls",
          "model_name": "HTMLModel",
          "model_module_version": "1.5.0",
          "state": {
            "_dom_classes": [],
            "_model_module": "@jupyter-widgets/controls",
            "_model_module_version": "1.5.0",
            "_model_name": "HTMLModel",
            "_view_count": null,
            "_view_module": "@jupyter-widgets/controls",
            "_view_module_version": "1.5.0",
            "_view_name": "HTMLView",
            "description": "",
            "description_tooltip": null,
            "layout": "IPY_MODEL_8ed16152381449188931ce4f42ae0077",
            "placeholder": "​",
            "style": "IPY_MODEL_eaecdb4f5eed405586df4000c2b3a03e",
            "value": ""
          }
        },
        "be9100dca95a47dcb015891b06e3ced9": {
          "model_module": "@jupyter-widgets/controls",
          "model_name": "FloatProgressModel",
          "model_module_version": "1.5.0",
          "state": {
            "_dom_classes": [],
            "_model_module": "@jupyter-widgets/controls",
            "_model_module_version": "1.5.0",
            "_model_name": "FloatProgressModel",
            "_view_count": null,
            "_view_module": "@jupyter-widgets/controls",
            "_view_module_version": "1.5.0",
            "_view_name": "ProgressView",
            "bar_style": "success",
            "description": "",
            "description_tooltip": null,
            "layout": "IPY_MODEL_5f12ba9332ac47619ab7f5f54605b3eb",
            "max": 12,
            "min": 0,
            "orientation": "horizontal",
            "style": "IPY_MODEL_410e142b81d74a03ba66358f07337bb9",
            "value": 12
          }
        },
        "a2ce85c2234e4e6cacd6b1032de9ec8e": {
          "model_module": "@jupyter-widgets/controls",
          "model_name": "HTMLModel",
          "model_module_version": "1.5.0",
          "state": {
            "_dom_classes": [],
            "_model_module": "@jupyter-widgets/controls",
            "_model_module_version": "1.5.0",
            "_model_name": "HTMLModel",
            "_view_count": null,
            "_view_module": "@jupyter-widgets/controls",
            "_view_module_version": "1.5.0",
            "_view_name": "HTMLView",
            "description": "",
            "description_tooltip": null,
            "layout": "IPY_MODEL_32908f7a5e5744a792917bd2fb31d893",
            "placeholder": "​",
            "style": "IPY_MODEL_ea58cb6322fe4e3ba57f649022eb767f",
            "value": " 37/? [00:02&lt;00:00, 12.75it/s]"
          }
        },
        "97afbb2a2d0d4fc8a24dc6ca6c9224fb": {
          "model_module": "@jupyter-widgets/base",
          "model_name": "LayoutModel",
          "model_module_version": "1.2.0",
          "state": {
            "_model_module": "@jupyter-widgets/base",
            "_model_module_version": "1.2.0",
            "_model_name": "LayoutModel",
            "_view_count": null,
            "_view_module": "@jupyter-widgets/base",
            "_view_module_version": "1.2.0",
            "_view_name": "LayoutView",
            "align_content": null,
            "align_items": null,
            "align_self": null,
            "border": null,
            "bottom": null,
            "display": null,
            "flex": null,
            "flex_flow": null,
            "grid_area": null,
            "grid_auto_columns": null,
            "grid_auto_flow": null,
            "grid_auto_rows": null,
            "grid_column": null,
            "grid_gap": null,
            "grid_row": null,
            "grid_template_areas": null,
            "grid_template_columns": null,
            "grid_template_rows": null,
            "height": null,
            "justify_content": null,
            "justify_items": null,
            "left": null,
            "margin": null,
            "max_height": null,
            "max_width": null,
            "min_height": null,
            "min_width": null,
            "object_fit": null,
            "object_position": null,
            "order": null,
            "overflow": null,
            "overflow_x": null,
            "overflow_y": null,
            "padding": null,
            "right": null,
            "top": null,
            "visibility": null,
            "width": null
          }
        },
        "8ed16152381449188931ce4f42ae0077": {
          "model_module": "@jupyter-widgets/base",
          "model_name": "LayoutModel",
          "model_module_version": "1.2.0",
          "state": {
            "_model_module": "@jupyter-widgets/base",
            "_model_module_version": "1.2.0",
            "_model_name": "LayoutModel",
            "_view_count": null,
            "_view_module": "@jupyter-widgets/base",
            "_view_module_version": "1.2.0",
            "_view_name": "LayoutView",
            "align_content": null,
            "align_items": null,
            "align_self": null,
            "border": null,
            "bottom": null,
            "display": null,
            "flex": null,
            "flex_flow": null,
            "grid_area": null,
            "grid_auto_columns": null,
            "grid_auto_flow": null,
            "grid_auto_rows": null,
            "grid_column": null,
            "grid_gap": null,
            "grid_row": null,
            "grid_template_areas": null,
            "grid_template_columns": null,
            "grid_template_rows": null,
            "height": null,
            "justify_content": null,
            "justify_items": null,
            "left": null,
            "margin": null,
            "max_height": null,
            "max_width": null,
            "min_height": null,
            "min_width": null,
            "object_fit": null,
            "object_position": null,
            "order": null,
            "overflow": null,
            "overflow_x": null,
            "overflow_y": null,
            "padding": null,
            "right": null,
            "top": null,
            "visibility": null,
            "width": null
          }
        },
        "eaecdb4f5eed405586df4000c2b3a03e": {
          "model_module": "@jupyter-widgets/controls",
          "model_name": "DescriptionStyleModel",
          "model_module_version": "1.5.0",
          "state": {
            "_model_module": "@jupyter-widgets/controls",
            "_model_module_version": "1.5.0",
            "_model_name": "DescriptionStyleModel",
            "_view_count": null,
            "_view_module": "@jupyter-widgets/base",
            "_view_module_version": "1.2.0",
            "_view_name": "StyleView",
            "description_width": ""
          }
        },
        "5f12ba9332ac47619ab7f5f54605b3eb": {
          "model_module": "@jupyter-widgets/base",
          "model_name": "LayoutModel",
          "model_module_version": "1.2.0",
          "state": {
            "_model_module": "@jupyter-widgets/base",
            "_model_module_version": "1.2.0",
            "_model_name": "LayoutModel",
            "_view_count": null,
            "_view_module": "@jupyter-widgets/base",
            "_view_module_version": "1.2.0",
            "_view_name": "LayoutView",
            "align_content": null,
            "align_items": null,
            "align_self": null,
            "border": null,
            "bottom": null,
            "display": null,
            "flex": null,
            "flex_flow": null,
            "grid_area": null,
            "grid_auto_columns": null,
            "grid_auto_flow": null,
            "grid_auto_rows": null,
            "grid_column": null,
            "grid_gap": null,
            "grid_row": null,
            "grid_template_areas": null,
            "grid_template_columns": null,
            "grid_template_rows": null,
            "height": null,
            "justify_content": null,
            "justify_items": null,
            "left": null,
            "margin": null,
            "max_height": null,
            "max_width": null,
            "min_height": null,
            "min_width": null,
            "object_fit": null,
            "object_position": null,
            "order": null,
            "overflow": null,
            "overflow_x": null,
            "overflow_y": null,
            "padding": null,
            "right": null,
            "top": null,
            "visibility": null,
            "width": null
          }
        },
        "410e142b81d74a03ba66358f07337bb9": {
          "model_module": "@jupyter-widgets/controls",
          "model_name": "ProgressStyleModel",
          "model_module_version": "1.5.0",
          "state": {
            "_model_module": "@jupyter-widgets/controls",
            "_model_module_version": "1.5.0",
            "_model_name": "ProgressStyleModel",
            "_view_count": null,
            "_view_module": "@jupyter-widgets/base",
            "_view_module_version": "1.2.0",
            "_view_name": "StyleView",
            "bar_color": null,
            "description_width": ""
          }
        },
        "32908f7a5e5744a792917bd2fb31d893": {
          "model_module": "@jupyter-widgets/base",
          "model_name": "LayoutModel",
          "model_module_version": "1.2.0",
          "state": {
            "_model_module": "@jupyter-widgets/base",
            "_model_module_version": "1.2.0",
            "_model_name": "LayoutModel",
            "_view_count": null,
            "_view_module": "@jupyter-widgets/base",
            "_view_module_version": "1.2.0",
            "_view_name": "LayoutView",
            "align_content": null,
            "align_items": null,
            "align_self": null,
            "border": null,
            "bottom": null,
            "display": null,
            "flex": null,
            "flex_flow": null,
            "grid_area": null,
            "grid_auto_columns": null,
            "grid_auto_flow": null,
            "grid_auto_rows": null,
            "grid_column": null,
            "grid_gap": null,
            "grid_row": null,
            "grid_template_areas": null,
            "grid_template_columns": null,
            "grid_template_rows": null,
            "height": null,
            "justify_content": null,
            "justify_items": null,
            "left": null,
            "margin": null,
            "max_height": null,
            "max_width": null,
            "min_height": null,
            "min_width": null,
            "object_fit": null,
            "object_position": null,
            "order": null,
            "overflow": null,
            "overflow_x": null,
            "overflow_y": null,
            "padding": null,
            "right": null,
            "top": null,
            "visibility": null,
            "width": null
          }
        },
        "ea58cb6322fe4e3ba57f649022eb767f": {
          "model_module": "@jupyter-widgets/controls",
          "model_name": "DescriptionStyleModel",
          "model_module_version": "1.5.0",
          "state": {
            "_model_module": "@jupyter-widgets/controls",
            "_model_module_version": "1.5.0",
            "_model_name": "DescriptionStyleModel",
            "_view_count": null,
            "_view_module": "@jupyter-widgets/base",
            "_view_module_version": "1.2.0",
            "_view_name": "StyleView",
            "description_width": ""
          }
        }
      }
    }
  },
  "cells": [
    {
      "cell_type": "code",
      "source": [
        "import pandas as pd\n",
        "import numpy as np\n",
        "import torch\n",
        "import tensorflow as tf\n",
        "import time\n",
        "\n",
        "from torch.utils.data import DataLoader, Dataset, RandomSampler, SequentialSampler\n",
        "from transformers import BertTokenizer, TFBertModel, BertModel, BertConfig, create_optimizer\n",
        "\n",
        "from sklearn.model_selection import train_test_split\n",
        "from sklearn import metrics\n",
        "\n",
        "from tensorflow.keras.layers import Dense\n",
        "from tensorflow.keras.preprocessing.sequence import pad_sequences\n",
        "from tqdm.notebook import tqdm\n",
        "from torch import cuda\n",
        "from scipy import interp\n",
        "from itertools import cycle\n",
        "\n",
        "import warnings\n",
        "warnings.filterwarnings('ignore')\n",
        "pd.set_option('display.max_columns', None)"
      ],
      "metadata": {
        "id": "_6bmWGnPEUWq"
      },
      "execution_count": 1,
      "outputs": []
    },
    {
      "cell_type": "code",
      "source": [
        "device = 'cuda' if cuda.is_available() else 'cpu'"
      ],
      "metadata": {
        "id": "PivN07hGZXB6"
      },
      "execution_count": 2,
      "outputs": []
    },
    {
      "cell_type": "code",
      "source": [
        "df_train= pd.read_excel(\"labeled_raw_data.xlsx\")\n",
        "df_train.shape"
      ],
      "metadata": {
        "id": "kgxeePLvHVIA",
        "colab": {
          "base_uri": "https://localhost:8080/"
        },
        "outputId": "e6bd62dc-5bbe-43ca-9b53-a74e29fc1b4b"
      },
      "execution_count": 3,
      "outputs": [
        {
          "output_type": "execute_result",
          "data": {
            "text/plain": [
              "(1955, 7)"
            ]
          },
          "metadata": {},
          "execution_count": 3
        }
      ]
    },
    {
      "cell_type": "code",
      "source": [
        "df_train=df_train.dropna()\n",
        "df_train.shape"
      ],
      "metadata": {
        "colab": {
          "base_uri": "https://localhost:8080/"
        },
        "id": "v-htsNmbk5l5",
        "outputId": "c602b659-33d5-4b1b-e81b-11e676321603"
      },
      "execution_count": 4,
      "outputs": [
        {
          "output_type": "execute_result",
          "data": {
            "text/plain": [
              "(1937, 7)"
            ]
          },
          "metadata": {},
          "execution_count": 4
        }
      ]
    },
    {
      "cell_type": "code",
      "source": [
        "labels_to_check = ['food_quality', 'environment', 'service', 'convenience', 'cost_effectiveness']\n",
        "\n",
        "for label in labels_to_check:\n",
        "    pos_col = f'{label}_pos'\n",
        "    neu_col = f'{label}_neu'\n",
        "    neg_col = f'{label}_neg'\n",
        "\n",
        "    df_train[pos_col] = np.where(df_train[label] == 1, 1, 0)\n",
        "    df_train[neu_col] = np.where(df_train[label] == 0, 1, 0)\n",
        "    df_train[neg_col] = np.where(df_train[label] == -1, 1, 0)"
      ],
      "metadata": {
        "id": "gfxL_3Uvpjxm"
      },
      "execution_count": 5,
      "outputs": []
    },
    {
      "cell_type": "code",
      "source": [
        "df_train = df_train.drop(labels_to_check, axis=1)\n",
        "df_train.shape"
      ],
      "metadata": {
        "colab": {
          "base_uri": "https://localhost:8080/"
        },
        "id": "x2pcCd9pkuA0",
        "outputId": "50d41d86-9d8e-4b26-e858-c4fc3708d1d4"
      },
      "execution_count": 6,
      "outputs": [
        {
          "output_type": "execute_result",
          "data": {
            "text/plain": [
              "(1937, 17)"
            ]
          },
          "metadata": {},
          "execution_count": 6
        }
      ]
    },
    {
      "cell_type": "code",
      "source": [
        "label_cols = ['food_quality_pos', 'food_quality_neu', 'food_quality_neg',\t'environment_pos', 'environment_neu','environment_neg',\n",
        "              'service_pos',\t'service_neu', 'service_neg', 'convenience_pos', 'convenience_neu', 'convenience_neg',\n",
        "              'cost_effectiveness_pos',\t'cost_effectiveness_neu',\t'cost_effectiveness_neg']\n",
        "label_cols"
      ],
      "metadata": {
        "colab": {
          "base_uri": "https://localhost:8080/"
        },
        "id": "cYxJfmZ0k1VQ",
        "outputId": "73f7b10d-4d10-4413-b2ec-da35c614e12f"
      },
      "execution_count": 7,
      "outputs": [
        {
          "output_type": "execute_result",
          "data": {
            "text/plain": [
              "['food_quality_pos',\n",
              " 'food_quality_neu',\n",
              " 'food_quality_neg',\n",
              " 'environment_pos',\n",
              " 'environment_neu',\n",
              " 'environment_neg',\n",
              " 'service_pos',\n",
              " 'service_neu',\n",
              " 'service_neg',\n",
              " 'convenience_pos',\n",
              " 'convenience_neu',\n",
              " 'convenience_neg',\n",
              " 'cost_effectiveness_pos',\n",
              " 'cost_effectiveness_neu',\n",
              " 'cost_effectiveness_neg']"
            ]
          },
          "metadata": {},
          "execution_count": 7
        }
      ]
    },
    {
      "cell_type": "code",
      "source": [
        "bert_model_name = 'bert-base-multilingual-uncased'\n",
        "\n",
        "tokenizer = BertTokenizer.from_pretrained(bert_model_name, do_lower_case=True)\n",
        "MAX_LEN = 128\n",
        "\n",
        "def tokenize_sentences(sentences, tokenizer, max_seq_len = MAX_LEN):\n",
        "    tokenized_sentences = []\n",
        "\n",
        "    for sentence in tqdm(sentences):\n",
        "        tokenized_sentence = tokenizer.encode(\n",
        "                            sentence,                  # Sentence to encode.\n",
        "                            add_special_tokens = True, # Add '[CLS]' and '[SEP]'\n",
        "                            max_length = max_seq_len,  # Truncate all sentences.\n",
        "                            )\n",
        "\n",
        "        tokenized_sentences.append(tokenized_sentence)\n",
        "\n",
        "    return tokenized_sentences\n",
        "\n",
        "def create_attention_masks(tokenized_and_padded_sentences):\n",
        "    attention_masks = []\n",
        "\n",
        "    for sentence in tokenized_and_padded_sentences:\n",
        "        att_mask = [int(token_id > 0) for token_id in sentence]\n",
        "        attention_masks.append(att_mask)\n",
        "\n",
        "    return np.asarray(attention_masks)\n",
        "\n",
        "input_ids = tokenize_sentences(df_train['text'], tokenizer, MAX_LEN)\n",
        "input_ids = pad_sequences(input_ids, maxlen=MAX_LEN, dtype=\"long\", value=0, truncating=\"post\", padding=\"post\")\n",
        "attention_masks = create_attention_masks(input_ids)"
      ],
      "metadata": {
        "colab": {
          "base_uri": "https://localhost:8080/",
          "height": 87,
          "referenced_widgets": [
            "2e65fc3983ec4e8dad6134317a32c04b",
            "b85e4cf932ba486aaf670314867bcad7",
            "f4d878ac4a0f42489f95ea27186c5287",
            "3e68fbe5008d4ea5b071479f49c11448",
            "f9c7b3044b3241f9bcfc7715400db966",
            "b78440a1d33b4c43a8637a7a4ce7e3d0",
            "7be47ac4d373410496a47bc0046279a2",
            "437fb8cabdab49b8a7a48ca660d2e145",
            "c9afcb4d34e244a382ef877a9041a987",
            "edd4e2b2d8f64ff2b2f7d08139945b2f",
            "2af71954c705417a9458d3527a1d2256"
          ]
        },
        "id": "XscHeSfqXEj0",
        "outputId": "f0d8e576-ea34-442c-f330-a2dd7af84e46"
      },
      "execution_count": 8,
      "outputs": [
        {
          "output_type": "display_data",
          "data": {
            "text/plain": [
              "  0%|          | 0/1937 [00:00<?, ?it/s]"
            ],
            "application/vnd.jupyter.widget-view+json": {
              "version_major": 2,
              "version_minor": 0,
              "model_id": "2e65fc3983ec4e8dad6134317a32c04b"
            }
          },
          "metadata": {}
        },
        {
          "output_type": "stream",
          "name": "stderr",
          "text": [
            "Truncation was not explicitly activated but `max_length` is provided a specific value, please use `truncation=True` to explicitly truncate examples to max length. Defaulting to 'longest_first' truncation strategy. If you encode pairs of sequences (GLUE-style) with the tokenizer you can select this strategy more precisely by providing a specific strategy to `truncation`.\n"
          ]
        }
      ]
    },
    {
      "cell_type": "code",
      "source": [
        "labels =  df_train[label_cols].values\n",
        "train_inputs, validation_inputs, train_labels, validation_labels = train_test_split(input_ids, labels, random_state=0, test_size=0.2)\n",
        "train_masks, validation_masks, _, _ = train_test_split(attention_masks, labels, random_state=0, test_size=0.2)\n",
        "\n",
        "train_size = len(train_inputs)\n",
        "validation_size = len(validation_inputs)"
      ],
      "metadata": {
        "id": "j_PIodurXyzB"
      },
      "execution_count": 9,
      "outputs": []
    },
    {
      "cell_type": "code",
      "source": [
        "BATCH_SIZE=32\n",
        "NR_EPOCHS=3\n",
        "def create_dataset(data_tuple, epochs=1, batch_size=BATCH_SIZE, buffer_size=10000, train=True):\n",
        "    dataset = tf.data.Dataset.from_tensor_slices(data_tuple)\n",
        "    if train:\n",
        "        dataset = dataset.shuffle(buffer_size=buffer_size)\n",
        "    dataset = dataset.repeat(epochs)\n",
        "    dataset = dataset.batch(batch_size)\n",
        "    if train:\n",
        "        dataset = dataset.prefetch(1)\n",
        "\n",
        "    return dataset\n",
        "\n",
        "train_dataset = create_dataset((train_inputs, train_masks, train_labels), epochs=NR_EPOCHS, batch_size=BATCH_SIZE)\n",
        "validation_dataset = create_dataset((validation_inputs, validation_masks, validation_labels), epochs=NR_EPOCHS, batch_size=BATCH_SIZE)"
      ],
      "metadata": {
        "id": "dtx8P40DZcF7"
      },
      "execution_count": 21,
      "outputs": []
    },
    {
      "cell_type": "code",
      "source": [
        "class BertClassifier(tf.keras.Model):\n",
        "        def __init__(self, bert: TFBertModel, num_classes: int):\n",
        "            super().__init__()\n",
        "            self.bert = bert\n",
        "            self.classifier = Dense(num_classes, activation='sigmoid')\n",
        "\n",
        "        @tf.function\n",
        "        def call(self, input_ids, attention_mask=None, token_type_ids=None, position_ids=None, head_mask=None):\n",
        "            outputs = self.bert(input_ids,\n",
        "                                   attention_mask=attention_mask,\n",
        "                                   token_type_ids=token_type_ids,\n",
        "                                   position_ids=position_ids,\n",
        "                                   head_mask=head_mask)\n",
        "            cls_output = outputs[1]\n",
        "            cls_output = self.classifier(cls_output)\n",
        "\n",
        "            return cls_output\n",
        "\n",
        "model = BertClassifier(TFBertModel.from_pretrained(bert_model_name), len(label_cols))"
      ],
      "metadata": {
        "colab": {
          "base_uri": "https://localhost:8080/"
        },
        "id": "ahQgO7g4Zem9",
        "outputId": "910bdaf5-cc0f-4011-f5aa-5a86719ef472"
      },
      "execution_count": 22,
      "outputs": [
        {
          "output_type": "stream",
          "name": "stderr",
          "text": [
            "Some weights of the PyTorch model were not used when initializing the TF 2.0 model TFBertModel: ['cls.predictions.transform.LayerNorm.bias', 'cls.seq_relationship.bias', 'cls.predictions.transform.LayerNorm.weight', 'cls.predictions.transform.dense.bias', 'cls.predictions.transform.dense.weight', 'cls.predictions.bias', 'cls.seq_relationship.weight']\n",
            "- This IS expected if you are initializing TFBertModel from a PyTorch model trained on another task or with another architecture (e.g. initializing a TFBertForSequenceClassification model from a BertForPreTraining model).\n",
            "- This IS NOT expected if you are initializing TFBertModel from a PyTorch model that you expect to be exactly identical (e.g. initializing a TFBertForSequenceClassification model from a BertForSequenceClassification model).\n",
            "All the weights of TFBertModel were initialized from the PyTorch model.\n",
            "If your task is similar to the task the model of the checkpoint was trained on, you can already use TFBertModel for predictions without further training.\n"
          ]
        }
      ]
    },
    {
      "cell_type": "code",
      "source": [
        "lw=2\n",
        "steps_per_epoch = train_size // BATCH_SIZE\n",
        "validation_steps = validation_size // BATCH_SIZE\n",
        "\n",
        "# Loss Function\n",
        "loss_object = tf.keras.losses.BinaryCrossentropy(reduction=tf.keras.losses.Reduction.NONE)\n",
        "train_loss = tf.keras.metrics.Mean(name='train_loss')\n",
        "validation_loss = tf.keras.metrics.Mean(name='test_loss')\n",
        "\n",
        "# Optimizer\n",
        "warmup_steps = steps_per_epoch // 3\n",
        "total_steps = steps_per_epoch * NR_EPOCHS - warmup_steps\n",
        "optimizer = tf.keras.optimizers.Adam(learning_rate=1e-5)\n",
        "\n",
        "# Metrics\n",
        "train_precision_metrics = [tf.keras.metrics.Precision() for _ in range(len(label_cols))]\n",
        "train_recall_metrics = [tf.keras.metrics.Recall() for _ in range(len(label_cols))]\n",
        "train_f1_metrics = [tf.keras.metrics.Mean(name='train_f1') for _ in range(len(label_cols))]\n",
        "train_accuracy_metrics = [tf.keras.metrics.BinaryAccuracy() for i in range(len(label_cols))]\n",
        "\n",
        "validation_precision_metrics = [tf.keras.metrics.Precision() for _ in range(len(label_cols))]\n",
        "validation_recall_metrics = [tf.keras.metrics.Recall() for _ in range(len(label_cols))]\n",
        "validation_f1_metrics = [tf.keras.metrics.Mean(name='validation_f1') for _ in range(len(label_cols))]\n",
        "validation_accuracy_metrics = [tf.keras.metrics.BinaryAccuracy() for i in range(len(label_cols))]\n",
        "\n",
        "@tf.function\n",
        "def train_step(model, token_ids, masks, labels):\n",
        "    labels = tf.dtypes.cast(labels, tf.float32)\n",
        "\n",
        "    with tf.GradientTape() as tape:\n",
        "        predictions = model(token_ids, attention_mask=masks)\n",
        "        loss = loss_object(labels, predictions)\n",
        "    #Loss Function into gradient\n",
        "    gradients = tape.gradient(loss, model.trainable_variables)\n",
        "    #Apply gradient to optimizer\n",
        "    optimizer.apply_gradients(zip(gradients, model.trainable_variables))\n",
        "\n",
        "    train_loss(loss)\n",
        "\n",
        "    for i, precision in enumerate(train_precision_metrics):\n",
        "        precision.update_state(labels[:, i], predictions[:, i])\n",
        "\n",
        "    for i, recall in enumerate(train_recall_metrics):\n",
        "        recall.update_state(labels[:, i], predictions[:, i])\n",
        "\n",
        "    for i, accuracy in enumerate(train_accuracy_metrics):\n",
        "        accuracy.update_state(labels[:, i], predictions[:, i])\n",
        "\n",
        "    for i, f1 in enumerate(train_f1_metrics):\n",
        "        precision_value = train_precision_metrics[i].result()\n",
        "        recall_value = train_recall_metrics[i].result()\n",
        "        f1_value = 2 * ((precision_value * recall_value) / (precision_value + recall_value + 1e-10))\n",
        "        f1.update_state(f1_value)\n",
        "\n",
        "@tf.function\n",
        "def validation_step(model, token_ids, masks, labels):\n",
        "    labels = tf.dtypes.cast(labels, tf.float32)\n",
        "\n",
        "    predictions = model(token_ids, attention_mask=masks, training=False)\n",
        "    v_loss = loss_object(labels, predictions)\n",
        "\n",
        "    validation_loss(v_loss)\n",
        "\n",
        "    for i, precision in enumerate(validation_precision_metrics):\n",
        "        precision.update_state(labels[:, i], predictions[:, i])\n",
        "\n",
        "    for i, recall in enumerate(validation_recall_metrics):\n",
        "        recall.update_state(labels[:, i], predictions[:, i])\n",
        "\n",
        "    for i, accuracy in enumerate(validation_accuracy_metrics):\n",
        "        accuracy.update_state(labels[:,i], predictions[:,i])\n",
        "\n",
        "    for i, f1 in enumerate(validation_f1_metrics):\n",
        "        precision_value = validation_precision_metrics[i].result()\n",
        "        recall_value = validation_recall_metrics[i].result()\n",
        "        f1_value = 2 * ((precision_value * recall_value) / (precision_value + recall_value + 1e-10))\n",
        "        f1.update_state(f1_value)\n",
        "\n",
        "def print_metrics(metrics, label_cols, metric_name):\n",
        "    for i, label_name in enumerate(label_cols):\n",
        "        print(f\"{label_name} {metric_name}: {metrics[i].result()}\")\n",
        "        metrics[i].reset_states()\n",
        "\n",
        "def train(model, train_dataset, val_dataset, train_steps_per_epoch, val_steps_per_epoch, epochs):\n",
        "    for epoch in range(epochs):\n",
        "        print('=' * 50, f\"EPOCH {epoch+1}\", '=' * 50)\n",
        "\n",
        "        start = time.time()\n",
        "\n",
        "        for i, (token_ids, masks, labels) in enumerate(tqdm(train_dataset, total=train_steps_per_epoch)):\n",
        "            train_step(model, token_ids, masks, labels)\n",
        "            if i % 500 == 0:\n",
        "                print(f'\\nTrain Step: {i}, Loss: {train_loss.result()}')\n",
        "                for i, label_name in enumerate(label_cols):\n",
        "                    print(f\"{label_name} precision {train_precision_metrics[i].result()}\")\n",
        "                    print(f\"{label_name} recall {train_recall_metrics[i].result()}\")\n",
        "                    print(f\"{label_name} f1-score {train_f1_metrics[i].result()}\")\n",
        "                    print(f\"{label_name} accuracy {train_accuracy_metrics[i].result()}\")\n",
        "                    train_precision_metrics[i].reset_states()\n",
        "                    train_recall_metrics[i].reset_states()\n",
        "                    train_f1_metrics[i].reset_states()\n",
        "                    train_accuracy_metrics[i].reset_states()\n",
        "\n",
        "        for i, (token_ids, masks, labels) in enumerate(tqdm(val_dataset, total=val_steps_per_epoch)):\n",
        "            validation_step(model, token_ids, masks, labels)\n",
        "\n",
        "        print(f'\\nEpoch {epoch+1}, Validation Loss: {validation_loss.result()}, Time: {time.time()-start}\\n')\n",
        "\n",
        "        for i, label_name in enumerate(label_cols):\n",
        "            print(f\"{label_name} precision {validation_precision_metrics[i].result()}\")\n",
        "            print(f\"{label_name} recall {validation_recall_metrics[i].result()}\")\n",
        "            print(f\"{label_name} f1-score {validation_f1_metrics[i].result()}\")\n",
        "            print(f\"{label_name} accuracy {validation_accuracy_metrics[i].result()}\")\n",
        "            validation_precision_metrics[i].reset_states()\n",
        "            validation_recall_metrics[i].reset_states()\n",
        "            validation_f1_metrics[i].reset_states()\n",
        "            validation_accuracy_metrics[i].reset_states()\n",
        "        print('\\n')\n",
        "\n",
        "\n",
        "train(model, train_dataset, validation_dataset, steps_per_epoch, validation_steps, NR_EPOCHS)"
      ],
      "metadata": {
        "colab": {
          "base_uri": "https://localhost:8080/",
          "height": 1000,
          "referenced_widgets": [
            "33239a6a1a864036b030e8af0d9b5a5a",
            "33747876dc72461c902718cdb05feff7",
            "b998613e427a4080b295cf294a69347d",
            "0f1becd568924d54988e04cb6908bf56",
            "22bbb1347b834c61872084674d52bafa",
            "ab6e33b425f0433d805a4fac28dee1e3",
            "3807ba10913a4b2aa11ddfe893b053b6",
            "33d52daca5f045a5a1172713a30a4fbd",
            "0d6653189c444859b69657aee9ccfbda",
            "279056d3ff3b40f380684b9a9e6f82da",
            "ad4e8c1559e049ac883da24368fa7f69",
            "b874bb9445374719ae30d652a8cf631a",
            "79eb7944ebfd403a9d64bc659fa906e7",
            "7e45f9efd4ba4384b4b8790c5fb9b03e",
            "f1d86cc596be454a9f251ae6af643162",
            "2c0077429d4948df92119efb69bcd638",
            "7978ece589ff428499c2059311e856d4",
            "40e6809c803f4e15ad5d4175629af53f",
            "54d6c4f4bb6a40f2bb43f87d507475c9",
            "a5f62371634c45f89668e76cdba0ab78",
            "f2f5ceb8970d4f5e924c89f4cfe01bf1",
            "3bd24d2a889e48c9bd3fd71dc463cfd4",
            "2c8a4de3a8d745faad2751b7032316e8",
            "60ce54dc41b144e7acd6e37385143d3a",
            "3ca5ef6af8d1492489389119b090f7b2",
            "f9b0c3031f164660bfa2a379bd289e5c",
            "523ba72c62e34858a689393ba5fe4ec6",
            "98ab9a05ec8e46bf8d3ec9e1479376ee",
            "7400fb6ba080462985a491d97498d4a3",
            "896652d64fc9445781f954a7c5e20c56",
            "2b6f6cab47044209b70b5ad28f5593f0",
            "9eaba92464b14016b47f4302c33f4b8f",
            "61e09e86f698497db7e38c2faab91f2c",
            "234964b68f644c6ba29ed11e57b02f32",
            "4785422bc3c94d3e96a3fa84d4ded8de",
            "e64118eacb654f57a3669b24130294f8",
            "9596c4f9ca6044da8155757a8b85b0b6",
            "3f1157cc81244a66b401bd24ca70cdf1",
            "e3563f01fdce4210b647ceafa7138170",
            "0686346827c047e9923f5f0ecf0c4736",
            "6eac78e9bf8d41898c24939453c9ba89",
            "c37c9452c9f94f9785ff36da617d9caa",
            "afe291f3115344839be46826ffc4ffa5",
            "3e016f45d89848989375de9b06a660ef",
            "74104f5b7bdb4a089f6e6601db1a3eca",
            "3ead8a99a0694a5ab1154101aa73f5d9",
            "ad41a75f22b044e0b9c076d9b9832519",
            "3f2e1496b88c42659d8038fd0afc089f",
            "3c6eb4185e1240baa9adc32e9df72e6f",
            "8b61476678094698b9d6a39db7bf7e77",
            "dde0fb2b1a024ddc97c68fe6cfaf7c61",
            "5d6e478e31a746bbb19ae7d046b3b9b5",
            "ddc06938bf12430bad10ead3f2356945",
            "4c92d1e5de9446329d1d0e3d56700d6e",
            "ddfbb8736bb84d15b640937bb2104958",
            "838e1946bbbb483881db2eeb4f8d3c08",
            "db2a47ee27d5455f85ecb474706f77e6",
            "be9100dca95a47dcb015891b06e3ced9",
            "a2ce85c2234e4e6cacd6b1032de9ec8e",
            "97afbb2a2d0d4fc8a24dc6ca6c9224fb",
            "8ed16152381449188931ce4f42ae0077",
            "eaecdb4f5eed405586df4000c2b3a03e",
            "5f12ba9332ac47619ab7f5f54605b3eb",
            "410e142b81d74a03ba66358f07337bb9",
            "32908f7a5e5744a792917bd2fb31d893",
            "ea58cb6322fe4e3ba57f649022eb767f"
          ]
        },
        "id": "5qi9LEdLZeqx",
        "outputId": "9b8bae79-dae8-49a0-83f1-500118b46a22"
      },
      "execution_count": 23,
      "outputs": [
        {
          "output_type": "stream",
          "name": "stdout",
          "text": [
            "================================================== EPOCH 1 ==================================================\n"
          ]
        },
        {
          "output_type": "display_data",
          "data": {
            "text/plain": [
              "  0%|          | 0/48 [00:00<?, ?it/s]"
            ],
            "application/vnd.jupyter.widget-view+json": {
              "version_major": 2,
              "version_minor": 0,
              "model_id": "33239a6a1a864036b030e8af0d9b5a5a"
            }
          },
          "metadata": {}
        },
        {
          "output_type": "stream",
          "name": "stdout",
          "text": [
            "\n",
            "Train Step: 0, Loss: 0.730596661567688\n",
            "food_quality_pos precision 0.5625\n",
            "food_quality_pos recall 1.0\n",
            "food_quality_pos f1-score 0.7200000286102295\n",
            "food_quality_pos accuracy 0.5625\n",
            "food_quality_neu precision 0.25\n",
            "food_quality_neu recall 1.0\n",
            "food_quality_neu f1-score 0.4000000059604645\n",
            "food_quality_neu accuracy 0.25\n",
            "food_quality_neg precision 0.19354838132858276\n",
            "food_quality_neg recall 1.0\n",
            "food_quality_neg f1-score 0.3243243098258972\n",
            "food_quality_neg accuracy 0.21875\n",
            "environment_pos precision 0.0\n",
            "environment_pos recall 0.0\n",
            "environment_pos f1-score 0.0\n",
            "environment_pos accuracy 0.65625\n",
            "environment_neu precision 0.8125\n",
            "environment_neu recall 0.5199999809265137\n",
            "environment_neu f1-score 0.6341463327407837\n",
            "environment_neu accuracy 0.53125\n",
            "environment_neg precision 0.0625\n",
            "environment_neg recall 1.0\n",
            "environment_neg f1-score 0.11764705926179886\n",
            "environment_neg accuracy 0.0625\n",
            "service_pos precision 0.3125\n",
            "service_pos recall 1.0\n",
            "service_pos f1-score 0.4761904776096344\n",
            "service_pos accuracy 0.3125\n",
            "service_neu precision 0.5625\n",
            "service_neu recall 1.0\n",
            "service_neu f1-score 0.7200000286102295\n",
            "service_neu accuracy 0.5625\n",
            "service_neg precision 0.0\n",
            "service_neg recall 0.0\n",
            "service_neg f1-score 0.0\n",
            "service_neg accuracy 0.875\n",
            "convenience_pos precision 0.03125\n",
            "convenience_pos recall 1.0\n",
            "convenience_pos f1-score 0.06060606241226196\n",
            "convenience_pos accuracy 0.03125\n",
            "convenience_neu precision 0.9375\n",
            "convenience_neu recall 1.0\n",
            "convenience_neu f1-score 0.9677419066429138\n",
            "convenience_neu accuracy 0.9375\n",
            "convenience_neg precision 0.03125\n",
            "convenience_neg recall 1.0\n",
            "convenience_neg f1-score 0.06060606241226196\n",
            "convenience_neg accuracy 0.03125\n",
            "cost_effectiveness_pos precision 0.07407407462596893\n",
            "cost_effectiveness_pos recall 1.0\n",
            "cost_effectiveness_pos f1-score 0.13793103396892548\n",
            "cost_effectiveness_pos accuracy 0.21875\n",
            "cost_effectiveness_neu precision 0.0\n",
            "cost_effectiveness_neu recall 0.0\n",
            "cost_effectiveness_neu f1-score 0.0\n",
            "cost_effectiveness_neu accuracy 0.125\n",
            "cost_effectiveness_neg precision 0.0\n",
            "cost_effectiveness_neg recall 0.0\n",
            "cost_effectiveness_neg f1-score 0.0\n",
            "cost_effectiveness_neg accuracy 0.9375\n"
          ]
        },
        {
          "output_type": "display_data",
          "data": {
            "text/plain": [
              "  0%|          | 0/12 [00:00<?, ?it/s]"
            ],
            "application/vnd.jupyter.widget-view+json": {
              "version_major": 2,
              "version_minor": 0,
              "model_id": "b874bb9445374719ae30d652a8cf631a"
            }
          },
          "metadata": {}
        },
        {
          "output_type": "stream",
          "name": "stdout",
          "text": [
            "\n",
            "Epoch 1, Validation Loss: 0.2836870551109314, Time: 86.66949653625488\n",
            "\n",
            "food_quality_pos precision 0.8512820601463318\n",
            "food_quality_pos recall 0.8383838534355164\n",
            "food_quality_pos f1-score 0.8368892669677734\n",
            "food_quality_pos accuracy 0.842783510684967\n",
            "food_quality_neu precision 0.9103448390960693\n",
            "food_quality_neu recall 0.8571428656578064\n",
            "food_quality_neu f1-score 0.8737377524375916\n",
            "food_quality_neu accuracy 0.9097937941551208\n",
            "food_quality_neg precision 0.0\n",
            "food_quality_neg recall 0.0\n",
            "food_quality_neg f1-score 0.0\n",
            "food_quality_neg accuracy 0.907216489315033\n",
            "environment_pos precision 0.7272727489471436\n",
            "environment_pos recall 0.22857142984867096\n",
            "environment_pos f1-score 0.360847145318985\n",
            "environment_pos accuracy 0.8453608155250549\n",
            "environment_neu precision 0.8158640265464783\n",
            "environment_neu recall 0.9599999785423279\n",
            "environment_neu f1-score 0.8804826736450195\n",
            "environment_neu accuracy 0.8015463948249817\n",
            "environment_neg precision 0.0\n",
            "environment_neg recall 0.0\n",
            "environment_neg f1-score 0.0\n",
            "environment_neg accuracy 0.9536082744598389\n",
            "service_pos precision 0.6027397513389587\n",
            "service_pos recall 0.40740740299224854\n",
            "service_pos f1-score 0.45975714921951294\n",
            "service_pos accuracy 0.7603092789649963\n",
            "service_neu precision 0.831818163394928\n",
            "service_neu recall 0.7689075469970703\n",
            "service_neu f1-score 0.7910400032997131\n",
            "service_neu accuracy 0.7628865838050842\n",
            "service_neg precision 0.6097561120986938\n",
            "service_neg recall 0.5952380895614624\n",
            "service_neg f1-score 0.5783467888832092\n",
            "service_neg accuracy 0.9149484634399414\n",
            "convenience_pos precision 0.0\n",
            "convenience_pos recall 0.0\n",
            "convenience_pos f1-score 0.0\n",
            "convenience_pos accuracy 0.9613401889801025\n",
            "convenience_neu precision 0.9484536051750183\n",
            "convenience_neu recall 1.0\n",
            "convenience_neu f1-score 0.9757221341133118\n",
            "convenience_neu accuracy 0.9484536051750183\n",
            "convenience_neg precision 0.0\n",
            "convenience_neg recall 0.0\n",
            "convenience_neg f1-score 0.0\n",
            "convenience_neg accuracy 0.9871134161949158\n",
            "cost_effectiveness_pos precision 1.0\n",
            "cost_effectiveness_pos recall 0.03333333507180214\n",
            "cost_effectiveness_pos f1-score 0.06729855388402939\n",
            "cost_effectiveness_pos accuracy 0.9252577424049377\n",
            "cost_effectiveness_neu precision 0.8883116841316223\n",
            "cost_effectiveness_neu recall 0.9970845580101013\n",
            "cost_effectiveness_neu f1-score 0.9406854510307312\n",
            "cost_effectiveness_neu accuracy 0.8865979313850403\n",
            "cost_effectiveness_neg precision 0.20000000298023224\n",
            "cost_effectiveness_neg recall 0.06666667014360428\n",
            "cost_effectiveness_neg f1-score 0.10981732606887817\n",
            "cost_effectiveness_neg accuracy 0.9536082744598389\n",
            "\n",
            "\n",
            "================================================== EPOCH 2 ==================================================\n"
          ]
        },
        {
          "output_type": "display_data",
          "data": {
            "text/plain": [
              "  0%|          | 0/48 [00:00<?, ?it/s]"
            ],
            "application/vnd.jupyter.widget-view+json": {
              "version_major": 2,
              "version_minor": 0,
              "model_id": "2c8a4de3a8d745faad2751b7032316e8"
            }
          },
          "metadata": {}
        },
        {
          "output_type": "stream",
          "name": "stdout",
          "text": [
            "\n",
            "Train Step: 0, Loss: 0.36106494069099426\n",
            "food_quality_pos precision 0.7169917821884155\n",
            "food_quality_pos recall 0.929618775844574\n",
            "food_quality_pos f1-score 0.7670541405677795\n",
            "food_quality_pos accuracy 0.7432752251625061\n",
            "food_quality_neu precision 0.6987847089767456\n",
            "food_quality_neu recall 0.5453929305076599\n",
            "food_quality_neu f1-score 0.4459371566772461\n",
            "food_quality_neu accuracy 0.7809339165687561\n",
            "food_quality_neg precision 0.10256410390138626\n",
            "food_quality_neg recall 0.03611738234758377\n",
            "food_quality_neg f1-score 0.09592805802822113\n",
            "food_quality_neg accuracy 0.8779857754707336\n",
            "environment_pos precision 0.4059829115867615\n",
            "environment_pos recall 0.11229314655065536\n",
            "environment_pos f1-score 0.147520050406456\n",
            "environment_pos accuracy 0.808478593826294\n",
            "environment_neu precision 0.7893133163452148\n",
            "environment_neu recall 0.9407821297645569\n",
            "environment_neu f1-score 0.7662460803985596\n",
            "environment_neu accuracy 0.7609210014343262\n",
            "environment_neg precision 0.024911031126976013\n",
            "environment_neg recall 0.031674209982156754\n",
            "environment_neg f1-score 0.03591358661651611\n",
            "environment_neg accuracy 0.8949860334396362\n",
            "service_pos precision 0.5644444227218628\n",
            "service_pos recall 0.34487441182136536\n",
            "service_pos f1-score 0.34075069427490234\n",
            "service_pos accuracy 0.707983672618866\n",
            "service_neu precision 0.689738929271698\n",
            "service_neu recall 0.8550997376441956\n",
            "service_neu f1-score 0.7278866767883301\n",
            "service_neu accuracy 0.6972240209579468\n",
            "service_neg precision 0.8039215803146362\n",
            "service_neg recall 0.07930367439985275\n",
            "service_neg f1-score 0.019429553300142288\n",
            "service_neg accuracy 0.8954163789749146\n",
            "convenience_pos precision 0.014705882407724857\n",
            "convenience_pos recall 0.014184396713972092\n",
            "convenience_pos f1-score 0.019469374790787697\n",
            "convenience_pos accuracy 0.9412524104118347\n",
            "convenience_neu precision 0.9575979113578796\n",
            "convenience_neu recall 0.9997752904891968\n",
            "convenience_neu f1-score 0.9778285622596741\n",
            "convenience_neu accuracy 0.9573918581008911\n",
            "convenience_neg precision 0.016393441706895828\n",
            "convenience_neg recall 0.01785714365541935\n",
            "convenience_neg f1-score 0.02331252209842205\n",
            "convenience_neg accuracy 0.9752528667449951\n",
            "cost_effectiveness_pos precision 0.5\n",
            "cost_effectiveness_pos recall 0.002433090005069971\n",
            "cost_effectiveness_pos f1-score 0.0012630783021450043\n",
            "cost_effectiveness_pos accuracy 0.911555826663971\n",
            "cost_effectiveness_neu precision 0.8656887412071228\n",
            "cost_effectiveness_neu recall 0.938152015209198\n",
            "cost_effectiveness_neu f1-score 0.7918083071708679\n",
            "cost_effectiveness_neu accuracy 0.8203141689300537\n",
            "cost_effectiveness_neg precision 0.03448275849223137\n",
            "cost_effectiveness_neg recall 0.004761904943734407\n",
            "cost_effectiveness_neg f1-score 0.019605474546551704\n",
            "cost_effectiveness_neg accuracy 0.9489993453025818\n"
          ]
        },
        {
          "output_type": "display_data",
          "data": {
            "text/plain": [
              "  0%|          | 0/12 [00:00<?, ?it/s]"
            ],
            "application/vnd.jupyter.widget-view+json": {
              "version_major": 2,
              "version_minor": 0,
              "model_id": "234964b68f644c6ba29ed11e57b02f32"
            }
          },
          "metadata": {}
        },
        {
          "output_type": "stream",
          "name": "stdout",
          "text": [
            "\n",
            "Epoch 2, Validation Loss: 0.270094633102417, Time: 38.80980086326599\n",
            "\n",
            "food_quality_pos precision 0.89570552110672\n",
            "food_quality_pos recall 0.7373737096786499\n",
            "food_quality_pos f1-score 0.811716616153717\n",
            "food_quality_pos accuracy 0.8221649527549744\n",
            "food_quality_neu precision 0.7833333611488342\n",
            "food_quality_neu recall 0.9155844449996948\n",
            "food_quality_neu f1-score 0.8432148694992065\n",
            "food_quality_neu accuracy 0.8659793734550476\n",
            "food_quality_neg precision 0.800000011920929\n",
            "food_quality_neg recall 0.2222222238779068\n",
            "food_quality_neg f1-score 0.3782379925251007\n",
            "food_quality_neg accuracy 0.9226804375648499\n",
            "environment_pos precision 0.8799999952316284\n",
            "environment_pos recall 0.3142857253551483\n",
            "environment_pos f1-score 0.4813916087150574\n",
            "environment_pos accuracy 0.8685566782951355\n",
            "environment_neu precision 0.8529411554336548\n",
            "environment_neu recall 0.9666666388511658\n",
            "environment_neu f1-score 0.9059138894081116\n",
            "environment_neu accuracy 0.8453608155250549\n",
            "environment_neg precision 0.0\n",
            "environment_neg recall 0.0\n",
            "environment_neg f1-score 0.0\n",
            "environment_neg accuracy 0.9536082744598389\n",
            "service_pos precision 0.7464788556098938\n",
            "service_pos recall 0.49074074625968933\n",
            "service_pos f1-score 0.5823249816894531\n",
            "service_pos accuracy 0.811855673789978\n",
            "service_neu precision 0.8611111044883728\n",
            "service_neu recall 0.9117646813392639\n",
            "service_neu f1-score 0.8874657154083252\n",
            "service_neu accuracy 0.8556700944900513\n",
            "service_neg precision 0.699999988079071\n",
            "service_neg recall 0.6666666865348816\n",
            "service_neg f1-score 0.6913663744926453\n",
            "service_neg accuracy 0.9329897165298462\n",
            "convenience_pos precision 0.0\n",
            "convenience_pos recall 0.0\n",
            "convenience_pos f1-score 0.0\n",
            "convenience_pos accuracy 0.9613401889801025\n",
            "convenience_neu precision 0.9484536051750183\n",
            "convenience_neu recall 1.0\n",
            "convenience_neu f1-score 0.9740355014801025\n",
            "convenience_neu accuracy 0.9484536051750183\n",
            "convenience_neg precision 0.0\n",
            "convenience_neg recall 0.0\n",
            "convenience_neg f1-score 0.0\n",
            "convenience_neg accuracy 0.9871134161949158\n",
            "cost_effectiveness_pos precision 0.75\n",
            "cost_effectiveness_pos recall 0.10000000149011612\n",
            "cost_effectiveness_pos f1-score 0.18776902556419373\n",
            "cost_effectiveness_pos accuracy 0.9278350472450256\n",
            "cost_effectiveness_neu precision 0.9042553305625916\n",
            "cost_effectiveness_neu recall 0.991253674030304\n",
            "cost_effectiveness_neu f1-score 0.9440982937812805\n",
            "cost_effectiveness_neu accuracy 0.8994845151901245\n",
            "cost_effectiveness_neg precision 1.0\n",
            "cost_effectiveness_neg recall 0.06666667014360428\n",
            "cost_effectiveness_neg f1-score 0.10616442561149597\n",
            "cost_effectiveness_neg accuracy 0.9639175534248352\n",
            "\n",
            "\n",
            "================================================== EPOCH 3 ==================================================\n"
          ]
        },
        {
          "output_type": "display_data",
          "data": {
            "text/plain": [
              "  0%|          | 0/48 [00:00<?, ?it/s]"
            ],
            "application/vnd.jupyter.widget-view+json": {
              "version_major": 2,
              "version_minor": 0,
              "model_id": "74104f5b7bdb4a089f6e6601db1a3eca"
            }
          },
          "metadata": {}
        },
        {
          "output_type": "stream",
          "name": "stdout",
          "text": [
            "\n",
            "Train Step: 0, Loss: 0.27752986550331116\n",
            "food_quality_pos precision 0.9279857277870178\n",
            "food_quality_pos recall 0.9531307220458984\n",
            "food_quality_pos f1-score 0.9268237352371216\n",
            "food_quality_pos accuracy 0.9289864301681519\n",
            "food_quality_neu precision 0.940536618232727\n",
            "food_quality_neu recall 0.8781313300132751\n",
            "food_quality_neu f1-score 0.8908878564834595\n",
            "food_quality_neu accuracy 0.9436195492744446\n",
            "food_quality_neg precision 0.9120879173278809\n",
            "food_quality_neg recall 0.1890660524368286\n",
            "food_quality_neg f1-score 0.09999527037143707\n",
            "food_quality_neg accuracy 0.9216699004173279\n",
            "environment_pos precision 0.8857142925262451\n",
            "environment_pos recall 0.6905040740966797\n",
            "environment_pos f1-score 0.7036013007164001\n",
            "environment_pos accuracy 0.9268345236778259\n",
            "environment_neu precision 0.905793309211731\n",
            "environment_neu recall 0.9717245101928711\n",
            "environment_neu f1-score 0.926302433013916\n",
            "environment_neu accuracy 0.9005810022354126\n",
            "environment_neg precision 0.0\n",
            "environment_neg recall 0.0\n",
            "environment_neg f1-score 0.0\n",
            "environment_neg accuracy 0.9522272348403931\n",
            "service_pos precision 0.867625892162323\n",
            "service_pos recall 0.8226466774940491\n",
            "service_pos f1-score 0.8003960251808167\n",
            "service_pos accuracy 0.9044544696807861\n",
            "service_neu precision 0.9030741453170776\n",
            "service_neu recall 0.9380165338516235\n",
            "service_neu f1-score 0.8972936272621155\n",
            "service_neu accuracy 0.906821608543396\n",
            "service_neg precision 0.8548387289047241\n",
            "service_neg recall 0.6127167344093323\n",
            "service_neg f1-score 0.6231982111930847\n",
            "service_neg accuracy 0.9451258778572083\n",
            "convenience_pos precision 0.0\n",
            "convenience_pos recall 0.0\n",
            "convenience_pos f1-score 0.0\n",
            "convenience_pos accuracy 0.9698730111122131\n",
            "convenience_neu precision 0.9575979113578796\n",
            "convenience_neu recall 0.9997752904891968\n",
            "convenience_neu f1-score 0.9797844290733337\n",
            "convenience_neu accuracy 0.9573918581008911\n",
            "convenience_neg precision 0.0\n",
            "convenience_neg recall 0.0\n",
            "convenience_neg f1-score 0.0\n",
            "convenience_neg accuracy 0.9877340197563171\n",
            "cost_effectiveness_pos precision 0.9367815852165222\n",
            "cost_effectiveness_pos recall 0.39371979236602783\n",
            "cost_effectiveness_pos f1-score 0.3808744251728058\n",
            "cost_effectiveness_pos accuracy 0.9436195492744446\n",
            "cost_effectiveness_neu precision 0.907604992389679\n",
            "cost_effectiveness_neu recall 0.9932919144630432\n",
            "cost_effectiveness_neu f1-score 0.9425025582313538\n",
            "cost_effectiveness_neu accuracy 0.9066064357757568\n",
            "cost_effectiveness_neg precision 0.6666666865348816\n",
            "cost_effectiveness_neg recall 0.07692307978868484\n",
            "cost_effectiveness_neg f1-score 0.057491086423397064\n",
            "cost_effectiveness_neg accuracy 0.956961452960968\n"
          ]
        },
        {
          "output_type": "display_data",
          "data": {
            "text/plain": [
              "  0%|          | 0/12 [00:00<?, ?it/s]"
            ],
            "application/vnd.jupyter.widget-view+json": {
              "version_major": 2,
              "version_minor": 0,
              "model_id": "838e1946bbbb483881db2eeb4f8d3c08"
            }
          },
          "metadata": {}
        },
        {
          "output_type": "stream",
          "name": "stdout",
          "text": [
            "\n",
            "Epoch 3, Validation Loss: 0.26378822326660156, Time: 38.82088351249695\n",
            "\n",
            "food_quality_pos precision 0.8418604731559753\n",
            "food_quality_pos recall 0.9141414165496826\n",
            "food_quality_pos f1-score 0.8774168491363525\n",
            "food_quality_pos accuracy 0.8685566782951355\n",
            "food_quality_neu precision 0.9275362491607666\n",
            "food_quality_neu recall 0.8311688303947449\n",
            "food_quality_neu f1-score 0.8825584650039673\n",
            "food_quality_neu accuracy 0.907216489315033\n",
            "food_quality_neg precision 0.5483871102333069\n",
            "food_quality_neg recall 0.4722222089767456\n",
            "food_quality_neg f1-score 0.4936988353729248\n",
            "food_quality_neg accuracy 0.9149484634399414\n",
            "environment_pos precision 0.6440678238868713\n",
            "environment_pos recall 0.5428571701049805\n",
            "environment_pos f1-score 0.5732854008674622\n",
            "environment_pos accuracy 0.8634020686149597\n",
            "environment_neu precision 0.8999999761581421\n",
            "environment_neu recall 0.9300000071525574\n",
            "environment_neu f1-score 0.9132111072540283\n",
            "environment_neu accuracy 0.8659793734550476\n",
            "environment_neg precision 0.6666666865348816\n",
            "environment_neg recall 0.1111111119389534\n",
            "environment_neg f1-score 0.17449268698692322\n",
            "environment_neg accuracy 0.9561855792999268\n",
            "service_pos precision 0.6574074029922485\n",
            "service_pos recall 0.6574074029922485\n",
            "service_pos f1-score 0.6522101759910583\n",
            "service_pos accuracy 0.8092783689498901\n",
            "service_neu precision 0.8702929019927979\n",
            "service_neu recall 0.8739495873451233\n",
            "service_neu f1-score 0.8742137551307678\n",
            "service_neu accuracy 0.842783510684967\n",
            "service_neg precision 0.7333333492279053\n",
            "service_neg recall 0.523809552192688\n",
            "service_neg f1-score 0.5631934404373169\n",
            "service_neg accuracy 0.9278350472450256\n",
            "convenience_pos precision 0.0\n",
            "convenience_pos recall 0.0\n",
            "convenience_pos f1-score 0.0\n",
            "convenience_pos accuracy 0.9587628841400146\n",
            "convenience_neu precision 0.9557291865348816\n",
            "convenience_neu recall 0.9972826242446899\n",
            "convenience_neu f1-score 0.973800539970398\n",
            "convenience_neu accuracy 0.9536082744598389\n",
            "convenience_neg precision 0.0\n",
            "convenience_neg recall 0.0\n",
            "convenience_neg f1-score 0.0\n",
            "convenience_neg accuracy 0.9871134161949158\n",
            "cost_effectiveness_pos precision 0.6153846383094788\n",
            "cost_effectiveness_pos recall 0.2666666805744171\n",
            "cost_effectiveness_pos f1-score 0.3551901876926422\n",
            "cost_effectiveness_pos accuracy 0.9304123520851135\n",
            "cost_effectiveness_neu precision 0.9303621053695679\n",
            "cost_effectiveness_neu recall 0.9737609624862671\n",
            "cost_effectiveness_neu f1-score 0.9499812722206116\n",
            "cost_effectiveness_neu accuracy 0.9123711585998535\n",
            "cost_effectiveness_neg precision 0.4000000059604645\n",
            "cost_effectiveness_neg recall 0.2666666805744171\n",
            "cost_effectiveness_neg f1-score 0.2984148859977722\n",
            "cost_effectiveness_neg accuracy 0.9561855792999268\n",
            "\n",
            "\n"
          ]
        }
      ]
    },
    {
      "cell_type": "code",
      "source": [
        "model.summary()"
      ],
      "metadata": {
        "colab": {
          "base_uri": "https://localhost:8080/"
        },
        "id": "jk1tHw_Zzqtl",
        "outputId": "b80aecd6-f524-442c-a791-b41d75a10f0e"
      },
      "execution_count": 26,
      "outputs": [
        {
          "output_type": "stream",
          "name": "stdout",
          "text": [
            "Model: \"bert_classifier_2\"\n",
            "_________________________________________________________________\n",
            " Layer (type)                Output Shape              Param #   \n",
            "=================================================================\n",
            " tf_bert_model_2 (TFBertMod  multiple                  167356416 \n",
            " el)                                                             \n",
            "                                                                 \n",
            " dense_2 (Dense)             multiple                  11535     \n",
            "                                                                 \n",
            "=================================================================\n",
            "Total params: 167367951 (638.46 MB)\n",
            "Trainable params: 167367951 (638.46 MB)\n",
            "Non-trainable params: 0 (0.00 Byte)\n",
            "_________________________________________________________________\n"
          ]
        }
      ]
    },
    {
      "cell_type": "code",
      "source": [
        "# Test data\n",
        "df_test = pd.read_csv('test_data_text.csv')"
      ],
      "metadata": {
        "id": "CfNpZrPZaDe-"
      },
      "execution_count": null,
      "outputs": []
    },
    {
      "cell_type": "code",
      "source": [
        "df_test.columns"
      ],
      "metadata": {
        "colab": {
          "base_uri": "https://localhost:8080/"
        },
        "id": "IdWzhzgSaDjc",
        "outputId": "667027d0-20e1-4fdc-cbf8-236a53c4bab9"
      },
      "execution_count": null,
      "outputs": [
        {
          "output_type": "execute_result",
          "data": {
            "text/plain": [
              "Index(['Unnamed: 0', 'review_id', 'text'], dtype='object')"
            ]
          },
          "metadata": {},
          "execution_count": 16
        }
      ]
    },
    {
      "cell_type": "code",
      "source": [
        "df_test.shape"
      ],
      "metadata": {
        "colab": {
          "base_uri": "https://localhost:8080/"
        },
        "id": "m6EnZTxgaDoN",
        "outputId": "72684f87-3ff1-4c3e-b3a9-849cef979844"
      },
      "execution_count": null,
      "outputs": [
        {
          "output_type": "execute_result",
          "data": {
            "text/plain": [
              "(1000000, 3)"
            ]
          },
          "metadata": {},
          "execution_count": 17
        }
      ]
    },
    {
      "cell_type": "code",
      "source": [
        "df_test=df_test.dropna()\n",
        "df_test.shape"
      ],
      "metadata": {
        "colab": {
          "base_uri": "https://localhost:8080/"
        },
        "id": "cWlsfpsydN0q",
        "outputId": "067a1355-d797-4d0e-fa25-0644765f07f6"
      },
      "execution_count": null,
      "outputs": [
        {
          "output_type": "execute_result",
          "data": {
            "text/plain": [
              "(1000000, 3)"
            ]
          },
          "metadata": {},
          "execution_count": 18
        }
      ]
    },
    {
      "cell_type": "code",
      "source": [
        "df_test.columns"
      ],
      "metadata": {
        "colab": {
          "base_uri": "https://localhost:8080/"
        },
        "id": "VWRoyT1SdfwI",
        "outputId": "2a44b978-f973-4863-f093-5a4d1b806279"
      },
      "execution_count": null,
      "outputs": [
        {
          "output_type": "execute_result",
          "data": {
            "text/plain": [
              "Index(['Unnamed: 0', 'review_id', 'text'], dtype='object')"
            ]
          },
          "metadata": {},
          "execution_count": 19
        }
      ]
    },
    {
      "cell_type": "code",
      "source": [
        "test_input_ids = tokenize_sentences(df_test['text'], tokenizer, MAX_LEN)\n",
        "test_input_ids = pad_sequences(test_input_ids, maxlen=MAX_LEN, dtype=\"long\", value=0, truncating=\"post\", padding=\"post\")\n",
        "test_attention_masks = create_attention_masks(test_input_ids)"
      ],
      "metadata": {
        "colab": {
          "base_uri": "https://localhost:8080/",
          "height": 49,
          "referenced_widgets": [
            "2e7e3aa1ff8545dab33ac63255565221",
            "d18dcc3ea14742d8bdd6cb0b0cbc3116",
            "a26e72ecf3434d4b9cb344c1bc0f5c39",
            "bfa1e886361b458a9b408f2e8444e7bc",
            "9a84ce87a8be477b86e98ff46af602f5",
            "b4de76c035a547a9911593bcfdda75c1",
            "f13c888b5e97404f99f659454bf81a3d",
            "c4d9aaec332548728bff58d543b8b889",
            "f969e3b4f83a4096a026c16f9cc6e5ca",
            "becdddd2b92448448f21429a4ca5263a",
            "6ffc853f385d46e39aa86ef5b401fc87"
          ]
        },
        "id": "ZdCxx5BhdiRV",
        "outputId": "32b27da9-7375-4a81-b083-a14e24999c69"
      },
      "execution_count": null,
      "outputs": [
        {
          "output_type": "display_data",
          "data": {
            "text/plain": [
              "  0%|          | 0/1000000 [00:00<?, ?it/s]"
            ],
            "application/vnd.jupyter.widget-view+json": {
              "version_major": 2,
              "version_minor": 0,
              "model_id": "2e7e3aa1ff8545dab33ac63255565221"
            }
          },
          "metadata": {}
        }
      ]
    },
    {
      "cell_type": "code",
      "source": [
        "def create_inference_dataset(inputs, masks, batch_size):\n",
        "    dataset = tf.data.Dataset.from_tensor_slices((inputs, masks))\n",
        "    dataset = dataset.batch(batch_size)\n",
        "    return dataset"
      ],
      "metadata": {
        "id": "Y_ZhRUN3dmwr"
      },
      "execution_count": null,
      "outputs": []
    },
    {
      "cell_type": "code",
      "source": [
        "TEST_BATCH_SIZE = 128\n",
        "test_dataset = create_inference_dataset(test_input_ids, test_attention_masks, batch_size=TEST_BATCH_SIZE)"
      ],
      "metadata": {
        "id": "2LI6I30fhaYn"
      },
      "execution_count": null,
      "outputs": []
    },
    {
      "cell_type": "code",
      "source": [
        "predictions_list = []\n",
        "test_steps = len(test_dataset)\n",
        "for i, (token_ids, masks) in enumerate(tqdm(test_dataset, total=test_steps)):\n",
        "    predictions = model(token_ids, attention_mask=masks).numpy()\n",
        "    predictions_list.append(predictions)\n",
        "\n",
        "# Concatenate predictions from different batches\n",
        "all_predictions = np.concatenate(predictions_list, axis=0)"
      ],
      "metadata": {
        "colab": {
          "base_uri": "https://localhost:8080/",
          "height": 49,
          "referenced_widgets": [
            "49cf8a7ab7cc4befa6dc7aed1682fcdc",
            "a7889b19f16345c8a2818e0420cb089e",
            "878018835fcc46a6b3e0f4e9f38f9ae4",
            "6b545ff4d74d4dd1bd2b30b4f3e96b81",
            "da748446acf94471a6be00402db7d9c0",
            "80457268862a442ea398955bb1922015",
            "82e71e79f1074603a9037c365b2d25d0",
            "2219bf46684a4c7990a40e7bbf8942be",
            "50356df955f24c088fc82e0dd6201967",
            "97e6b1ec3d8e4b01947e5613e6b0d13b",
            "99cca17a04b746e0ac71f238efa5b265"
          ]
        },
        "id": "ZApvzmNmiAIt",
        "outputId": "31a3c199-017f-482c-f7c4-bd9adaad9b80"
      },
      "execution_count": null,
      "outputs": [
        {
          "output_type": "display_data",
          "data": {
            "text/plain": [
              "  0%|          | 0/7813 [00:00<?, ?it/s]"
            ],
            "application/vnd.jupyter.widget-view+json": {
              "version_major": 2,
              "version_minor": 0,
              "model_id": "49cf8a7ab7cc4befa6dc7aed1682fcdc"
            }
          },
          "metadata": {}
        }
      ]
    },
    {
      "cell_type": "code",
      "source": [
        "all_predictions.shape"
      ],
      "metadata": {
        "colab": {
          "base_uri": "https://localhost:8080/"
        },
        "id": "87NH2SoYi5UC",
        "outputId": "a6b8c7ad-c162-4eeb-cd8f-a958a2746781"
      },
      "execution_count": null,
      "outputs": [
        {
          "output_type": "execute_result",
          "data": {
            "text/plain": [
              "(1000000, 15)"
            ]
          },
          "metadata": {},
          "execution_count": 26
        }
      ]
    },
    {
      "cell_type": "code",
      "source": [
        "all_predictions[1]"
      ],
      "metadata": {
        "colab": {
          "base_uri": "https://localhost:8080/"
        },
        "id": "64inNrW8wrY1",
        "outputId": "d27561c0-20bb-432b-b009-10a7242bba23"
      },
      "execution_count": null,
      "outputs": [
        {
          "output_type": "execute_result",
          "data": {
            "text/plain": [
              "array([0.6700232 , 0.04468255, 0.2521374 , 0.02636506, 0.9393675 ,\n",
              "       0.0547648 , 0.389549  , 0.05211012, 0.5224159 , 0.03187032,\n",
              "       0.966963  , 0.01328482, 0.015187  , 0.934005  , 0.0546991 ],\n",
              "      dtype=float32)"
            ]
          },
          "metadata": {},
          "execution_count": 28
        }
      ]
    },
    {
      "cell_type": "code",
      "source": [
        "num_labels = all_predictions.shape[1] // 3\n",
        "\n",
        "# Reshape the array into groups of three values\n",
        "reshaped_predictions = all_predictions.reshape(-1, num_labels, 3)\n",
        "reshaped_predictions[1]"
      ],
      "metadata": {
        "colab": {
          "base_uri": "https://localhost:8080/"
        },
        "id": "43WlDG0Axg7X",
        "outputId": "fa2eb6be-dc60-457d-a3c3-658659802f95"
      },
      "execution_count": null,
      "outputs": [
        {
          "output_type": "execute_result",
          "data": {
            "text/plain": [
              "array([[0.6700232 , 0.04468255, 0.2521374 ],\n",
              "       [0.02636506, 0.9393675 , 0.0547648 ],\n",
              "       [0.389549  , 0.05211012, 0.5224159 ],\n",
              "       [0.03187032, 0.966963  , 0.01328482],\n",
              "       [0.015187  , 0.934005  , 0.0546991 ]], dtype=float32)"
            ]
          },
          "metadata": {},
          "execution_count": 29
        }
      ]
    },
    {
      "cell_type": "code",
      "source": [
        "reshaped_predictions.shape"
      ],
      "metadata": {
        "colab": {
          "base_uri": "https://localhost:8080/"
        },
        "id": "cUBpSxDRz3hu",
        "outputId": "981fb74f-e997-4605-8e3a-9e713653a06e"
      },
      "execution_count": null,
      "outputs": [
        {
          "output_type": "execute_result",
          "data": {
            "text/plain": [
              "(1000000, 5, 3)"
            ]
          },
          "metadata": {},
          "execution_count": 30
        }
      ]
    },
    {
      "cell_type": "code",
      "source": [
        "max_indices = np.argmax(reshaped_predictions, axis=2)\n",
        "\n",
        "# Create new labels based on the maximum value\n",
        "new_labels = np.zeros_like(reshaped_predictions)\n",
        "new_labels[np.arange(len(new_labels))[:, np.newaxis], np.arange(reshaped_predictions.shape[1]), max_indices] = 1\n",
        "\n",
        "\n",
        "new_labels[1]"
      ],
      "metadata": {
        "colab": {
          "base_uri": "https://localhost:8080/"
        },
        "id": "tUEeiDruyKkU",
        "outputId": "1a0ca02c-90a0-44c9-911b-fcf473db90f2"
      },
      "execution_count": null,
      "outputs": [
        {
          "output_type": "execute_result",
          "data": {
            "text/plain": [
              "array([[1., 0., 0.],\n",
              "       [0., 1., 0.],\n",
              "       [0., 0., 1.],\n",
              "       [0., 1., 0.],\n",
              "       [0., 1., 0.]], dtype=float32)"
            ]
          },
          "metadata": {},
          "execution_count": 31
        }
      ]
    },
    {
      "cell_type": "code",
      "source": [
        "def map_labels(label):\n",
        "    if np.array_equal(label, [1, 0, 0]):\n",
        "        return 1\n",
        "    elif np.array_equal(label, [0, 1, 0]):\n",
        "        return 0\n",
        "    elif np.array_equal(label, [0, 0, 1]):\n",
        "        return -1\n",
        "    else:\n",
        "        return None\n",
        "\n",
        "# Apply the mapping function to each sub-array\n",
        "mapped_labels = np.apply_along_axis(map_labels, axis=2, arr=new_labels)\n",
        "mapped_labels[1]"
      ],
      "metadata": {
        "colab": {
          "base_uri": "https://localhost:8080/"
        },
        "id": "Apgsd6G401rN",
        "outputId": "d4a99f62-7edc-46fb-ec87-0cd8642eda3a"
      },
      "execution_count": null,
      "outputs": [
        {
          "output_type": "execute_result",
          "data": {
            "text/plain": [
              "array([ 1,  0, -1,  0,  0])"
            ]
          },
          "metadata": {},
          "execution_count": 32
        }
      ]
    },
    {
      "cell_type": "code",
      "source": [
        "mapped_labels.shape"
      ],
      "metadata": {
        "colab": {
          "base_uri": "https://localhost:8080/"
        },
        "id": "gv1jYPeC1C9k",
        "outputId": "8bbfaeea-89cc-4596-e3d7-4ecc5bc76fcd"
      },
      "execution_count": null,
      "outputs": [
        {
          "output_type": "execute_result",
          "data": {
            "text/plain": [
              "(1000000, 5)"
            ]
          },
          "metadata": {},
          "execution_count": 33
        }
      ]
    },
    {
      "cell_type": "code",
      "source": [
        "columns = ['food_quality', 'environment', 'service', 'convenience', 'cost_effectiveness']\n",
        "df_mapped_labels = pd.DataFrame(mapped_labels.reshape(len(df_test), -1), columns=columns)\n",
        "df_test_labeled = pd.concat([df_test[['review_id', 'text']], df_mapped_labels], axis=1)\n",
        "df_test_labeled.shape"
      ],
      "metadata": {
        "colab": {
          "base_uri": "https://localhost:8080/"
        },
        "id": "BZZjInj91oXr",
        "outputId": "ae31be87-1df1-4434-c23b-2a26cd2c8a16"
      },
      "execution_count": null,
      "outputs": [
        {
          "output_type": "execute_result",
          "data": {
            "text/plain": [
              "(1000000, 7)"
            ]
          },
          "metadata": {},
          "execution_count": 34
        }
      ]
    },
    {
      "cell_type": "code",
      "source": [
        "df_test_labeled.loc[999, 'text']"
      ],
      "metadata": {
        "colab": {
          "base_uri": "https://localhost:8080/",
          "height": 53
        },
        "id": "fCx4UuUf10uR",
        "outputId": "7e4228d1-c39d-4e91-d9de-f2dc3cd01bc8"
      },
      "execution_count": null,
      "outputs": [
        {
          "output_type": "execute_result",
          "data": {
            "text/plain": [
              "'Had a fantastic brunch with Ashleigh this afternoon! Bottle of champagne and juice sides with entrees only $50 steal! Will def be returning!'"
            ],
            "application/vnd.google.colaboratory.intrinsic+json": {
              "type": "string"
            }
          },
          "metadata": {},
          "execution_count": 43
        }
      ]
    },
    {
      "cell_type": "code",
      "source": [
        "print(df_test_labeled.iloc[999, 2:])"
      ],
      "metadata": {
        "colab": {
          "base_uri": "https://localhost:8080/"
        },
        "id": "IX8caEta2rBS",
        "outputId": "e373c724-620a-4712-cb08-8511e174e2a3"
      },
      "execution_count": null,
      "outputs": [
        {
          "output_type": "stream",
          "name": "stdout",
          "text": [
            "food_quality          1\n",
            "environment           0\n",
            "service               0\n",
            "convenience           0\n",
            "cost_effectiveness    1\n",
            "Name: 999, dtype: object\n"
          ]
        }
      ]
    },
    {
      "cell_type": "code",
      "source": [
        "# Store in a CSV file\n",
        "df_test_labeled.to_csv('df_test_labeled.csv', index=False)"
      ],
      "metadata": {
        "id": "uUWYZZzUjDQT"
      },
      "execution_count": null,
      "outputs": []
    }
  ]
}